{
 "cells": [
  {
   "cell_type": "markdown",
   "source": [
    "Import MyDataBase class."
   ],
   "metadata": {
    "collapsed": false,
    "pycharm": {
     "name": "#%% md\n"
    }
   }
  },
  {
   "cell_type": "code",
   "execution_count": 1,
   "metadata": {
    "collapsed": true
   },
   "outputs": [],
   "source": [
    "from src.database import MyDataBase\n",
    "db_name = \"parch_and_posey\""
   ]
  },
  {
   "cell_type": "markdown",
   "source": [
    "Load database."
   ],
   "metadata": {
    "collapsed": false,
    "pycharm": {
     "name": "#%% md\n"
    }
   }
  },
  {
   "cell_type": "code",
   "execution_count": 2,
   "outputs": [
    {
     "name": "stdout",
     "output_type": "stream",
     "text": [
      "ISOLATION_LEVEL_AUTOCOMMIT: 0\n",
      "('web_events',)\n",
      "('sales_reps',)\n",
      "('region',)\n",
      "('orders',)\n",
      "('accounts',)\n"
     ]
    }
   ],
   "source": [
    "database = MyDataBase(db_name)\n",
    "database.print_tables_names()"
   ],
   "metadata": {
    "collapsed": false,
    "pycharm": {
     "name": "#%%\n"
    }
   }
  },
  {
   "cell_type": "markdown",
   "source": [
    "Print first rows of tables."
   ],
   "metadata": {
    "collapsed": false,
    "pycharm": {
     "name": "#%% md\n"
    }
   }
  },
  {
   "cell_type": "code",
   "execution_count": 3,
   "outputs": [
    {
     "name": "stdout",
     "output_type": "stream",
     "text": [
      "web_events\n",
      "   id  account_id         occurred_at channel\n",
      "0   1        1001 2015-10-06 17:13:58  direct\n",
      "1   2        1001 2015-11-05 03:08:26  direct\n",
      "\n",
      "\n",
      "sales_reps\n",
      "       id           name  region_id\n",
      "0  321500  Samuel Racine          1\n",
      "1  321510   Eugena Esser          1\n",
      "\n",
      "\n",
      "region\n",
      "   id       name\n",
      "0   1  Northeast\n",
      "1   2    Midwest\n",
      "\n",
      "\n",
      "orders\n",
      "   id  account_id         occurred_at  standard_qty  gloss_qty  poster_qty  \\\n",
      "0   1        1001 2015-10-06 17:31:14           123         22          24   \n",
      "1   2        1001 2015-11-05 03:34:33           190         41          57   \n",
      "\n",
      "   total  standard_amt_usd  gloss_amt_usd  poster_amt_usd  total_amt_usd  \n",
      "0    169            613.77         164.78          194.88         973.43  \n",
      "1    288            948.10         307.09          462.84        1718.03  \n",
      "\n",
      "\n",
      "accounts\n",
      "     id         name             website        lat       long   primary_poc  \\\n",
      "0  1001      Walmart     www.walmart.com  40.238496 -75.103297   Tamara Tuma   \n",
      "1  1011  Exxon Mobil  www.exxonmobil.com  41.169156 -73.849374  Sung Shields   \n",
      "\n",
      "   sales_rep_id  \n",
      "0        321500  \n",
      "1        321510  \n",
      "\n",
      "\n"
     ]
    }
   ],
   "source": [
    "for table_name in ['web_events', 'sales_reps', 'region', 'orders', 'accounts']:\n",
    "    query = \"SELECT * FROM {} LIMIT 2;\".format(table_name)\n",
    "    table = database.to_data_frame(query)\n",
    "    print(table_name)\n",
    "    print(table)\n",
    "    print('\\n')"
   ],
   "metadata": {
    "collapsed": false,
    "pycharm": {
     "name": "#%%\n"
    }
   }
  },
  {
   "cell_type": "markdown",
   "source": [
    "1. Provide the name of the sales_rep in each region with the largest amount of total_amt_usd sales."
   ],
   "metadata": {
    "collapsed": false,
    "pycharm": {
     "name": "#%% md\n"
    }
   }
  },
  {
   "cell_type": "markdown",
   "source": [
    "First, I wanted to find the total_amt_usd totals associated with each sales rep,\n",
    "and I also wanted the region in which they were located. The query below provided this information."
   ],
   "metadata": {
    "collapsed": false,
    "pycharm": {
     "name": "#%% md\n"
    }
   }
  },
  {
   "cell_type": "code",
   "source": [
    "q1 = \"\"\"\n",
    "SELECT s.name rep_name, r.name region_name, SUM(o.total_amt_usd) total_amt\n",
    "FROM sales_reps s\n",
    "JOIN accounts a\n",
    "ON a.sales_rep_id = s.id\n",
    "JOIN orders o\n",
    "ON o.account_id = a.id\n",
    "JOIN region r\n",
    "ON r.id = s.region_id\n",
    "GROUP BY 1,2\n",
    "ORDER BY 3 DESC\n",
    "LIMIT 5;\n",
    "\"\"\"\n",
    "\n",
    "table = database.to_data_frame(q1)\n",
    "table"
   ],
   "metadata": {
    "collapsed": false,
    "pycharm": {
     "name": "#%%\n"
    }
   },
   "execution_count": 4,
   "outputs": [
    {
     "data": {
      "text/html": "<div>\n<style scoped>\n    .dataframe tbody tr th:only-of-type {\n        vertical-align: middle;\n    }\n\n    .dataframe tbody tr th {\n        vertical-align: top;\n    }\n\n    .dataframe thead th {\n        text-align: right;\n    }\n</style>\n<table border=\"1\" class=\"dataframe\">\n  <thead>\n    <tr style=\"text-align: right;\">\n      <th></th>\n      <th>rep_name</th>\n      <th>region_name</th>\n      <th>total_amt</th>\n    </tr>\n  </thead>\n  <tbody>\n    <tr>\n      <td>0</td>\n      <td>Earlie Schleusner</td>\n      <td>Southeast</td>\n      <td>1098137.72</td>\n    </tr>\n    <tr>\n      <td>1</td>\n      <td>Tia Amato</td>\n      <td>Northeast</td>\n      <td>1010690.60</td>\n    </tr>\n    <tr>\n      <td>2</td>\n      <td>Vernita Plump</td>\n      <td>Southeast</td>\n      <td>934212.93</td>\n    </tr>\n    <tr>\n      <td>3</td>\n      <td>Georgianna Chisholm</td>\n      <td>West</td>\n      <td>886244.12</td>\n    </tr>\n    <tr>\n      <td>4</td>\n      <td>Arica Stoltzfus</td>\n      <td>West</td>\n      <td>810353.34</td>\n    </tr>\n  </tbody>\n</table>\n</div>",
      "text/plain": "              rep_name region_name   total_amt\n0    Earlie Schleusner   Southeast  1098137.72\n1            Tia Amato   Northeast  1010690.60\n2        Vernita Plump   Southeast   934212.93\n3  Georgianna Chisholm        West   886244.12\n4      Arica Stoltzfus        West   810353.34"
     },
     "execution_count": 4,
     "metadata": {},
     "output_type": "execute_result"
    }
   ]
  },
  {
   "cell_type": "markdown",
   "source": [
    "Next, I pulled the max for each region, and then we can use this to pull those rows in our final result."
   ],
   "metadata": {
    "collapsed": false,
    "pycharm": {
     "name": "#%% md\n"
    }
   }
  },
  {
   "cell_type": "code",
   "execution_count": 5,
   "outputs": [
    {
     "data": {
      "text/html": "<div>\n<style scoped>\n    .dataframe tbody tr th:only-of-type {\n        vertical-align: middle;\n    }\n\n    .dataframe tbody tr th {\n        vertical-align: top;\n    }\n\n    .dataframe thead th {\n        text-align: right;\n    }\n</style>\n<table border=\"1\" class=\"dataframe\">\n  <thead>\n    <tr style=\"text-align: right;\">\n      <th></th>\n      <th>region_name</th>\n      <th>total_amt</th>\n    </tr>\n  </thead>\n  <tbody>\n    <tr>\n      <td>0</td>\n      <td>Midwest</td>\n      <td>675637.19</td>\n    </tr>\n    <tr>\n      <td>1</td>\n      <td>Southeast</td>\n      <td>1098137.72</td>\n    </tr>\n    <tr>\n      <td>2</td>\n      <td>Northeast</td>\n      <td>1010690.60</td>\n    </tr>\n    <tr>\n      <td>3</td>\n      <td>West</td>\n      <td>886244.12</td>\n    </tr>\n  </tbody>\n</table>\n</div>",
      "text/plain": "  region_name   total_amt\n0     Midwest   675637.19\n1   Southeast  1098137.72\n2   Northeast  1010690.60\n3        West   886244.12"
     },
     "execution_count": 5,
     "metadata": {},
     "output_type": "execute_result"
    }
   ],
   "source": [
    "q1 = \"\"\"\n",
    "SELECT region_name, MAX(total_amt) total_amt\n",
    "     FROM(SELECT s.name rep_name, r.name region_name, SUM(o.total_amt_usd) total_amt\n",
    "             FROM sales_reps s\n",
    "             JOIN accounts a\n",
    "             ON a.sales_rep_id = s.id\n",
    "             JOIN orders o\n",
    "             ON o.account_id = a.id\n",
    "             JOIN region r\n",
    "             ON r.id = s.region_id\n",
    "             GROUP BY 1, 2) t1\n",
    "     GROUP BY 1;\n",
    "\"\"\"\n",
    "\n",
    "table = database.to_data_frame(q1)\n",
    "table"
   ],
   "metadata": {
    "collapsed": false,
    "pycharm": {
     "name": "#%%\n"
    }
   }
  },
  {
   "cell_type": "markdown",
   "source": [
    "Essentially, this is a JOIN of these two tables, where the region and amount match."
   ],
   "metadata": {
    "collapsed": false,
    "pycharm": {
     "name": "#%% md\n"
    }
   }
  },
  {
   "cell_type": "code",
   "execution_count": 6,
   "outputs": [
    {
     "data": {
      "text/html": "<div>\n<style scoped>\n    .dataframe tbody tr th:only-of-type {\n        vertical-align: middle;\n    }\n\n    .dataframe tbody tr th {\n        vertical-align: top;\n    }\n\n    .dataframe thead th {\n        text-align: right;\n    }\n</style>\n<table border=\"1\" class=\"dataframe\">\n  <thead>\n    <tr style=\"text-align: right;\">\n      <th></th>\n      <th>rep_name</th>\n      <th>region_name</th>\n      <th>total_amt</th>\n    </tr>\n  </thead>\n  <tbody>\n    <tr>\n      <td>0</td>\n      <td>Earlie Schleusner</td>\n      <td>Southeast</td>\n      <td>1098137.72</td>\n    </tr>\n    <tr>\n      <td>1</td>\n      <td>Tia Amato</td>\n      <td>Northeast</td>\n      <td>1010690.60</td>\n    </tr>\n    <tr>\n      <td>2</td>\n      <td>Georgianna Chisholm</td>\n      <td>West</td>\n      <td>886244.12</td>\n    </tr>\n    <tr>\n      <td>3</td>\n      <td>Charles Bidwell</td>\n      <td>Midwest</td>\n      <td>675637.19</td>\n    </tr>\n  </tbody>\n</table>\n</div>",
      "text/plain": "              rep_name region_name   total_amt\n0    Earlie Schleusner   Southeast  1098137.72\n1            Tia Amato   Northeast  1010690.60\n2  Georgianna Chisholm        West   886244.12\n3      Charles Bidwell     Midwest   675637.19"
     },
     "execution_count": 6,
     "metadata": {},
     "output_type": "execute_result"
    }
   ],
   "source": [
    "q1 = \"\"\"\n",
    "SELECT t3.rep_name, t3.region_name, t3.total_amt\n",
    "FROM(SELECT region_name, MAX(total_amt) total_amt\n",
    "     FROM(SELECT s.name rep_name, r.name region_name, SUM(o.total_amt_usd) total_amt\n",
    "             FROM sales_reps s\n",
    "             JOIN accounts a\n",
    "             ON a.sales_rep_id = s.id\n",
    "             JOIN orders o\n",
    "             ON o.account_id = a.id\n",
    "             JOIN region r\n",
    "             ON r.id = s.region_id\n",
    "             GROUP BY 1, 2) t1\n",
    "     GROUP BY 1) t2\n",
    "JOIN (SELECT s.name rep_name, r.name region_name, SUM(o.total_amt_usd) total_amt\n",
    "     FROM sales_reps s\n",
    "     JOIN accounts a\n",
    "     ON a.sales_rep_id = s.id\n",
    "     JOIN orders o\n",
    "     ON o.account_id = a.id\n",
    "     JOIN region r\n",
    "     ON r.id = s.region_id\n",
    "     GROUP BY 1,2\n",
    "     ORDER BY 3 DESC) t3\n",
    "ON t3.region_name = t2.region_name AND t3.total_amt = t2.total_amt;\n",
    "\"\"\"\n",
    "\n",
    "table = database.to_data_frame(q1)\n",
    "table"
   ],
   "metadata": {
    "collapsed": false,
    "pycharm": {
     "name": "#%%\n"
    }
   }
  },
  {
   "cell_type": "markdown",
   "source": [
    "2. For the region with the largest (sum) of sales total_amt_usd, how many total (count) orders were placed?"
   ],
   "metadata": {
    "collapsed": false,
    "pycharm": {
     "name": "#%% md\n"
    }
   }
  },
  {
   "cell_type": "markdown",
   "source": [
    "The first query I wrote was to pull the total_amt_usd for each region."
   ],
   "metadata": {
    "collapsed": false,
    "pycharm": {
     "name": "#%% md\n"
    }
   }
  },
  {
   "cell_type": "code",
   "execution_count": 7,
   "outputs": [
    {
     "data": {
      "text/html": "<div>\n<style scoped>\n    .dataframe tbody tr th:only-of-type {\n        vertical-align: middle;\n    }\n\n    .dataframe tbody tr th {\n        vertical-align: top;\n    }\n\n    .dataframe thead th {\n        text-align: right;\n    }\n</style>\n<table border=\"1\" class=\"dataframe\">\n  <thead>\n    <tr style=\"text-align: right;\">\n      <th></th>\n      <th>region_name</th>\n      <th>total_amt</th>\n    </tr>\n  </thead>\n  <tbody>\n    <tr>\n      <td>0</td>\n      <td>Midwest</td>\n      <td>3013486.51</td>\n    </tr>\n    <tr>\n      <td>1</td>\n      <td>Southeast</td>\n      <td>6458497.00</td>\n    </tr>\n    <tr>\n      <td>2</td>\n      <td>Northeast</td>\n      <td>7744405.36</td>\n    </tr>\n    <tr>\n      <td>3</td>\n      <td>West</td>\n      <td>5925122.96</td>\n    </tr>\n  </tbody>\n</table>\n</div>",
      "text/plain": "  region_name   total_amt\n0     Midwest  3013486.51\n1   Southeast  6458497.00\n2   Northeast  7744405.36\n3        West  5925122.96"
     },
     "execution_count": 7,
     "metadata": {},
     "output_type": "execute_result"
    }
   ],
   "source": [
    "q2 = \"\"\"\n",
    "SELECT r.name region_name, SUM(o.total_amt_usd) total_amt\n",
    "FROM sales_reps s\n",
    "JOIN accounts a\n",
    "ON a.sales_rep_id = s.id\n",
    "JOIN orders o\n",
    "ON o.account_id = a.id\n",
    "JOIN region r\n",
    "ON r.id = s.region_id\n",
    "GROUP BY r.name;\n",
    "\"\"\"\n",
    "\n",
    "table = database.to_data_frame(q2)\n",
    "table"
   ],
   "metadata": {
    "collapsed": false,
    "pycharm": {
     "name": "#%%\n"
    }
   }
  },
  {
   "cell_type": "markdown",
   "source": [
    "Then we just want the region with the max amount from this table.\n",
    "There are two ways I considered getting this amount.\n",
    "One was to pull the max using a subquery.\n",
    "Another way is to order descending and just pull the top value."
   ],
   "metadata": {
    "collapsed": false,
    "pycharm": {
     "name": "#%% md\n"
    }
   }
  },
  {
   "cell_type": "code",
   "execution_count": 8,
   "outputs": [
    {
     "data": {
      "text/html": "<div>\n<style scoped>\n    .dataframe tbody tr th:only-of-type {\n        vertical-align: middle;\n    }\n\n    .dataframe tbody tr th {\n        vertical-align: top;\n    }\n\n    .dataframe thead th {\n        text-align: right;\n    }\n</style>\n<table border=\"1\" class=\"dataframe\">\n  <thead>\n    <tr style=\"text-align: right;\">\n      <th></th>\n      <th>max</th>\n    </tr>\n  </thead>\n  <tbody>\n    <tr>\n      <td>0</td>\n      <td>7744405.36</td>\n    </tr>\n  </tbody>\n</table>\n</div>",
      "text/plain": "          max\n0  7744405.36"
     },
     "execution_count": 8,
     "metadata": {},
     "output_type": "execute_result"
    }
   ],
   "source": [
    "q2 = \"\"\"\n",
    "SELECT MAX(total_amt)\n",
    "FROM (SELECT r.name region_name, SUM(o.total_amt_usd) total_amt\n",
    "             FROM sales_reps s\n",
    "             JOIN accounts a\n",
    "             ON a.sales_rep_id = s.id\n",
    "             JOIN orders o\n",
    "             ON o.account_id = a.id\n",
    "             JOIN region r\n",
    "             ON r.id = s.region_id\n",
    "             GROUP BY r.name) sub;\n",
    "\"\"\"\n",
    "\n",
    "table = database.to_data_frame(q2)\n",
    "table"
   ],
   "metadata": {
    "collapsed": false,
    "pycharm": {
     "name": "#%%\n"
    }
   }
  },
  {
   "cell_type": "markdown",
   "source": [
    "Finally, we want to pull the total orders for the region with this amount:"
   ],
   "metadata": {
    "collapsed": false,
    "pycharm": {
     "name": "#%% md\n"
    }
   }
  },
  {
   "cell_type": "code",
   "execution_count": 9,
   "outputs": [
    {
     "data": {
      "text/html": "<div>\n<style scoped>\n    .dataframe tbody tr th:only-of-type {\n        vertical-align: middle;\n    }\n\n    .dataframe tbody tr th {\n        vertical-align: top;\n    }\n\n    .dataframe thead th {\n        text-align: right;\n    }\n</style>\n<table border=\"1\" class=\"dataframe\">\n  <thead>\n    <tr style=\"text-align: right;\">\n      <th></th>\n      <th>name</th>\n      <th>total_orders</th>\n    </tr>\n  </thead>\n  <tbody>\n    <tr>\n      <td>0</td>\n      <td>Northeast</td>\n      <td>2357</td>\n    </tr>\n  </tbody>\n</table>\n</div>",
      "text/plain": "        name  total_orders\n0  Northeast          2357"
     },
     "execution_count": 9,
     "metadata": {},
     "output_type": "execute_result"
    }
   ],
   "source": [
    "q2 = \"\"\"\n",
    "SELECT r.name, COUNT(o.total) total_orders\n",
    "FROM sales_reps s\n",
    "JOIN accounts a\n",
    "ON a.sales_rep_id = s.id\n",
    "JOIN orders o\n",
    "ON o.account_id = a.id\n",
    "JOIN region r\n",
    "ON r.id = s.region_id\n",
    "GROUP BY r.name\n",
    "HAVING SUM(o.total_amt_usd) = (\n",
    "      SELECT MAX(total_amt)\n",
    "      FROM (SELECT r.name region_name, SUM(o.total_amt_usd) total_amt\n",
    "              FROM sales_reps s\n",
    "              JOIN accounts a\n",
    "              ON a.sales_rep_id = s.id\n",
    "              JOIN orders o\n",
    "              ON o.account_id = a.id\n",
    "              JOIN region r\n",
    "              ON r.id = s.region_id\n",
    "              GROUP BY r.name) sub);\n",
    "\"\"\"\n",
    "\n",
    "table = database.to_data_frame(q2)\n",
    "table"
   ],
   "metadata": {
    "collapsed": false,
    "pycharm": {
     "name": "#%%\n"
    }
   }
  },
  {
   "cell_type": "markdown",
   "source": [
    "3. How many accounts had more total purchases than the account name which has bought the most standard_qty paper throughout their lifetime as a customer?"
   ],
   "metadata": {
    "collapsed": false
   }
  },
  {
   "cell_type": "markdown",
   "source": [
    "First, we want to find the account that had the most standard_qty paper.\n",
    "The query here pulls that account, as well as the total amount:"
   ],
   "metadata": {
    "collapsed": false,
    "pycharm": {
     "name": "#%% md\n"
    }
   }
  },
  {
   "cell_type": "code",
   "execution_count": 10,
   "outputs": [
    {
     "data": {
      "text/html": "<div>\n<style scoped>\n    .dataframe tbody tr th:only-of-type {\n        vertical-align: middle;\n    }\n\n    .dataframe tbody tr th {\n        vertical-align: top;\n    }\n\n    .dataframe thead th {\n        text-align: right;\n    }\n</style>\n<table border=\"1\" class=\"dataframe\">\n  <thead>\n    <tr style=\"text-align: right;\">\n      <th></th>\n      <th>account_name</th>\n      <th>total_std</th>\n      <th>total</th>\n    </tr>\n  </thead>\n  <tbody>\n    <tr>\n      <td>0</td>\n      <td>Core-Mark Holding</td>\n      <td>41617</td>\n      <td>44750</td>\n    </tr>\n  </tbody>\n</table>\n</div>",
      "text/plain": "        account_name  total_std  total\n0  Core-Mark Holding      41617  44750"
     },
     "execution_count": 10,
     "metadata": {},
     "output_type": "execute_result"
    }
   ],
   "source": [
    "q3 = \"\"\"\n",
    "SELECT a.name account_name, SUM(o.standard_qty) total_std, SUM(o.total) total\n",
    "FROM accounts a\n",
    "JOIN orders o\n",
    "ON o.account_id = a.id\n",
    "GROUP BY 1\n",
    "ORDER BY 2 DESC\n",
    "LIMIT 1;\n",
    "\"\"\"\n",
    "\n",
    "table = database.to_data_frame(q3)\n",
    "table"
   ],
   "metadata": {
    "collapsed": false,
    "pycharm": {
     "name": "#%%\n"
    }
   }
  },
  {
   "cell_type": "markdown",
   "source": [
    "Now, I want to use this to pull all the accounts with more total sales:"
   ],
   "metadata": {
    "collapsed": false,
    "pycharm": {
     "name": "#%% md\n"
    }
   }
  },
  {
   "cell_type": "code",
   "execution_count": 11,
   "outputs": [
    {
     "data": {
      "text/html": "<div>\n<style scoped>\n    .dataframe tbody tr th:only-of-type {\n        vertical-align: middle;\n    }\n\n    .dataframe tbody tr th {\n        vertical-align: top;\n    }\n\n    .dataframe thead th {\n        text-align: right;\n    }\n</style>\n<table border=\"1\" class=\"dataframe\">\n  <thead>\n    <tr style=\"text-align: right;\">\n      <th></th>\n      <th>name</th>\n    </tr>\n  </thead>\n  <tbody>\n    <tr>\n      <td>0</td>\n      <td>Mosaic</td>\n    </tr>\n    <tr>\n      <td>1</td>\n      <td>EOG Resources</td>\n    </tr>\n    <tr>\n      <td>2</td>\n      <td>IBM</td>\n    </tr>\n  </tbody>\n</table>\n</div>",
      "text/plain": "            name\n0         Mosaic\n1  EOG Resources\n2            IBM"
     },
     "execution_count": 11,
     "metadata": {},
     "output_type": "execute_result"
    }
   ],
   "source": [
    "q3 = \"\"\"\n",
    "SELECT a.name\n",
    "FROM orders o\n",
    "JOIN accounts a\n",
    "ON a.id = o.account_id\n",
    "GROUP BY 1\n",
    "HAVING SUM(o.total) > (SELECT total\n",
    "                   FROM (SELECT a.name act_name, SUM(o.standard_qty) tot_std, SUM(o.total) total\n",
    "                         FROM accounts a\n",
    "                         JOIN orders o\n",
    "                         ON o.account_id = a.id\n",
    "                         GROUP BY 1\n",
    "                         ORDER BY 2 DESC\n",
    "                         LIMIT 1) sub);\n",
    "\"\"\"\n",
    "\n",
    "table = database.to_data_frame(q3)\n",
    "table"
   ],
   "metadata": {
    "collapsed": false,
    "pycharm": {
     "name": "#%%\n"
    }
   }
  },
  {
   "cell_type": "markdown",
   "source": [
    "This is now a list of all the accounts with more total orders.\n",
    "We can get the count with just another simple subquery."
   ],
   "metadata": {
    "collapsed": false,
    "pycharm": {
     "name": "#%% md\n"
    }
   }
  },
  {
   "cell_type": "code",
   "execution_count": 12,
   "outputs": [
    {
     "data": {
      "text/html": "<div>\n<style scoped>\n    .dataframe tbody tr th:only-of-type {\n        vertical-align: middle;\n    }\n\n    .dataframe tbody tr th {\n        vertical-align: top;\n    }\n\n    .dataframe thead th {\n        text-align: right;\n    }\n</style>\n<table border=\"1\" class=\"dataframe\">\n  <thead>\n    <tr style=\"text-align: right;\">\n      <th></th>\n      <th>count</th>\n    </tr>\n  </thead>\n  <tbody>\n    <tr>\n      <td>0</td>\n      <td>3</td>\n    </tr>\n  </tbody>\n</table>\n</div>",
      "text/plain": "   count\n0      3"
     },
     "execution_count": 12,
     "metadata": {},
     "output_type": "execute_result"
    }
   ],
   "source": [
    "q3 = \"\"\"\n",
    "SELECT COUNT(*)\n",
    "FROM (SELECT a.name\n",
    "       FROM orders o\n",
    "       JOIN accounts a\n",
    "       ON a.id = o.account_id\n",
    "       GROUP BY 1\n",
    "       HAVING SUM(o.total) > (SELECT total\n",
    "                   FROM (SELECT a.name act_name, SUM(o.standard_qty) tot_std, SUM(o.total) total\n",
    "                         FROM accounts a\n",
    "                         JOIN orders o\n",
    "                         ON o.account_id = a.id\n",
    "                         GROUP BY 1\n",
    "                         ORDER BY 2 DESC\n",
    "                         LIMIT 1) inner_tab)\n",
    "             ) counter_tab;\n",
    "\"\"\"\n",
    "\n",
    "table = database.to_data_frame(q3)\n",
    "table"
   ],
   "metadata": {
    "collapsed": false,
    "pycharm": {
     "name": "#%%\n"
    }
   }
  },
  {
   "cell_type": "markdown",
   "source": [
    "4. For the customer that spent the most (in total over their lifetime as a customer) total_amt_usd,\n",
    "how many web_events did they have for each channel?"
   ],
   "metadata": {
    "collapsed": false,
    "pycharm": {
     "name": "#%% md\n"
    }
   }
  },
  {
   "cell_type": "markdown",
   "source": [
    "Here, we first want to pull the customer with the most spent in lifetime value."
   ],
   "metadata": {
    "collapsed": false,
    "pycharm": {
     "name": "#%% md\n"
    }
   }
  },
  {
   "cell_type": "code",
   "execution_count": 13,
   "outputs": [
    {
     "data": {
      "text/html": "<div>\n<style scoped>\n    .dataframe tbody tr th:only-of-type {\n        vertical-align: middle;\n    }\n\n    .dataframe tbody tr th {\n        vertical-align: top;\n    }\n\n    .dataframe thead th {\n        text-align: right;\n    }\n</style>\n<table border=\"1\" class=\"dataframe\">\n  <thead>\n    <tr style=\"text-align: right;\">\n      <th></th>\n      <th>id</th>\n      <th>name</th>\n      <th>tot_spent</th>\n    </tr>\n  </thead>\n  <tbody>\n    <tr>\n      <td>0</td>\n      <td>4211</td>\n      <td>EOG Resources</td>\n      <td>382873.3</td>\n    </tr>\n  </tbody>\n</table>\n</div>",
      "text/plain": "     id           name  tot_spent\n0  4211  EOG Resources   382873.3"
     },
     "execution_count": 13,
     "metadata": {},
     "output_type": "execute_result"
    }
   ],
   "source": [
    "q4 = \"\"\"\n",
    "SELECT a.id, a.name, SUM(o.total_amt_usd) tot_spent\n",
    "FROM orders o\n",
    "JOIN accounts a\n",
    "ON a.id = o.account_id\n",
    "GROUP BY a.id, a.name\n",
    "ORDER BY 3 DESC\n",
    "LIMIT 1;\n",
    "\"\"\"\n",
    "\n",
    "table = database.to_data_frame(q4)\n",
    "table"
   ],
   "metadata": {
    "collapsed": false,
    "pycharm": {
     "name": "#%%\n"
    }
   }
  },
  {
   "cell_type": "markdown",
   "source": [
    "Now, we want to look at the number of events on each channel this company had,\n",
    "which we can match with just the id."
   ],
   "metadata": {
    "collapsed": false,
    "pycharm": {
     "name": "#%% md\n"
    }
   }
  },
  {
   "cell_type": "code",
   "execution_count": 14,
   "outputs": [
    {
     "data": {
      "text/html": "<div>\n<style scoped>\n    .dataframe tbody tr th:only-of-type {\n        vertical-align: middle;\n    }\n\n    .dataframe tbody tr th {\n        vertical-align: top;\n    }\n\n    .dataframe thead th {\n        text-align: right;\n    }\n</style>\n<table border=\"1\" class=\"dataframe\">\n  <thead>\n    <tr style=\"text-align: right;\">\n      <th></th>\n      <th>name</th>\n      <th>channel</th>\n      <th>count</th>\n    </tr>\n  </thead>\n  <tbody>\n    <tr>\n      <td>0</td>\n      <td>EOG Resources</td>\n      <td>direct</td>\n      <td>44</td>\n    </tr>\n    <tr>\n      <td>1</td>\n      <td>EOG Resources</td>\n      <td>organic</td>\n      <td>13</td>\n    </tr>\n    <tr>\n      <td>2</td>\n      <td>EOG Resources</td>\n      <td>adwords</td>\n      <td>12</td>\n    </tr>\n    <tr>\n      <td>3</td>\n      <td>EOG Resources</td>\n      <td>facebook</td>\n      <td>11</td>\n    </tr>\n    <tr>\n      <td>4</td>\n      <td>EOG Resources</td>\n      <td>twitter</td>\n      <td>5</td>\n    </tr>\n    <tr>\n      <td>5</td>\n      <td>EOG Resources</td>\n      <td>banner</td>\n      <td>4</td>\n    </tr>\n  </tbody>\n</table>\n</div>",
      "text/plain": "            name   channel  count\n0  EOG Resources    direct     44\n1  EOG Resources   organic     13\n2  EOG Resources   adwords     12\n3  EOG Resources  facebook     11\n4  EOG Resources   twitter      5\n5  EOG Resources    banner      4"
     },
     "execution_count": 14,
     "metadata": {},
     "output_type": "execute_result"
    }
   ],
   "source": [
    "q4 = \"\"\"\n",
    "SELECT a.name, w.channel, COUNT(*)\n",
    "FROM accounts a\n",
    "JOIN web_events w\n",
    "ON a.id = w.account_id AND a.id =  (SELECT id\n",
    "                     FROM (SELECT a.id, a.name, SUM(o.total_amt_usd) tot_spent\n",
    "                           FROM orders o\n",
    "                           JOIN accounts a\n",
    "                           ON a.id = o.account_id\n",
    "                           GROUP BY a.id, a.name\n",
    "                           ORDER BY 3 DESC\n",
    "                           LIMIT 1) inner_table)\n",
    "GROUP BY 1, 2\n",
    "ORDER BY 3 DESC;\n",
    "\"\"\"\n",
    "\n",
    "table = database.to_data_frame(q4)\n",
    "table"
   ],
   "metadata": {
    "collapsed": false,
    "pycharm": {
     "name": "#%%\n"
    }
   }
  },
  {
   "cell_type": "markdown",
   "source": [
    "I added an ORDER BY for no real reason, and the account name to assure I was only pulling from one account."
   ],
   "metadata": {
    "collapsed": false,
    "pycharm": {
     "name": "#%% md\n"
    }
   }
  },
  {
   "cell_type": "markdown",
   "source": [
    "5. What is the lifetime average amount spent in terms of total_amt_usd for the top 10 total spending accounts?"
   ],
   "metadata": {
    "collapsed": false
   }
  },
  {
   "cell_type": "markdown",
   "source": [
    "First, we just want to find the top 10 accounts in terms of highest total_amt_usd."
   ],
   "metadata": {
    "collapsed": false,
    "pycharm": {
     "name": "#%% md\n"
    }
   }
  },
  {
   "cell_type": "code",
   "execution_count": 15,
   "outputs": [
    {
     "data": {
      "text/html": "<div>\n<style scoped>\n    .dataframe tbody tr th:only-of-type {\n        vertical-align: middle;\n    }\n\n    .dataframe tbody tr th {\n        vertical-align: top;\n    }\n\n    .dataframe thead th {\n        text-align: right;\n    }\n</style>\n<table border=\"1\" class=\"dataframe\">\n  <thead>\n    <tr style=\"text-align: right;\">\n      <th></th>\n      <th>id</th>\n      <th>name</th>\n      <th>tot_spent</th>\n    </tr>\n  </thead>\n  <tbody>\n    <tr>\n      <td>0</td>\n      <td>4211</td>\n      <td>EOG Resources</td>\n      <td>382873.30</td>\n    </tr>\n    <tr>\n      <td>1</td>\n      <td>4151</td>\n      <td>Mosaic</td>\n      <td>345618.59</td>\n    </tr>\n    <tr>\n      <td>2</td>\n      <td>1301</td>\n      <td>IBM</td>\n      <td>326819.48</td>\n    </tr>\n    <tr>\n      <td>3</td>\n      <td>1871</td>\n      <td>General Dynamics</td>\n      <td>300694.79</td>\n    </tr>\n    <tr>\n      <td>4</td>\n      <td>4111</td>\n      <td>Republic Services</td>\n      <td>293861.14</td>\n    </tr>\n    <tr>\n      <td>5</td>\n      <td>3411</td>\n      <td>Leucadia National</td>\n      <td>291047.25</td>\n    </tr>\n    <tr>\n      <td>6</td>\n      <td>2181</td>\n      <td>Arrow Electronics</td>\n      <td>281018.36</td>\n    </tr>\n    <tr>\n      <td>7</td>\n      <td>1561</td>\n      <td>Sysco</td>\n      <td>278575.64</td>\n    </tr>\n    <tr>\n      <td>8</td>\n      <td>2591</td>\n      <td>Supervalu</td>\n      <td>275288.30</td>\n    </tr>\n    <tr>\n      <td>9</td>\n      <td>1401</td>\n      <td>Archer Daniels Midland</td>\n      <td>272672.84</td>\n    </tr>\n  </tbody>\n</table>\n</div>",
      "text/plain": "     id                    name  tot_spent\n0  4211           EOG Resources  382873.30\n1  4151                  Mosaic  345618.59\n2  1301                     IBM  326819.48\n3  1871        General Dynamics  300694.79\n4  4111       Republic Services  293861.14\n5  3411       Leucadia National  291047.25\n6  2181       Arrow Electronics  281018.36\n7  1561                   Sysco  278575.64\n8  2591               Supervalu  275288.30\n9  1401  Archer Daniels Midland  272672.84"
     },
     "execution_count": 15,
     "metadata": {},
     "output_type": "execute_result"
    }
   ],
   "source": [
    "q5 = \"\"\"\n",
    "SELECT a.id, a.name, SUM(o.total_amt_usd) tot_spent\n",
    "FROM orders o\n",
    "JOIN accounts a\n",
    "ON a.id = o.account_id\n",
    "GROUP BY a.id, a.name\n",
    "ORDER BY 3 DESC\n",
    "LIMIT 10;\n",
    "\"\"\"\n",
    "\n",
    "table = database.to_data_frame(q5)\n",
    "table"
   ],
   "metadata": {
    "collapsed": false,
    "pycharm": {
     "name": "#%%\n"
    }
   }
  },
  {
   "cell_type": "markdown",
   "source": [
    "Now, we just want the average of these 10 amounts."
   ],
   "metadata": {
    "collapsed": false,
    "pycharm": {
     "name": "#%% md\n"
    }
   }
  },
  {
   "cell_type": "code",
   "execution_count": 16,
   "outputs": [
    {
     "data": {
      "text/html": "<div>\n<style scoped>\n    .dataframe tbody tr th:only-of-type {\n        vertical-align: middle;\n    }\n\n    .dataframe tbody tr th {\n        vertical-align: top;\n    }\n\n    .dataframe thead th {\n        text-align: right;\n    }\n</style>\n<table border=\"1\" class=\"dataframe\">\n  <thead>\n    <tr style=\"text-align: right;\">\n      <th></th>\n      <th>avg</th>\n    </tr>\n  </thead>\n  <tbody>\n    <tr>\n      <td>0</td>\n      <td>304846.969</td>\n    </tr>\n  </tbody>\n</table>\n</div>",
      "text/plain": "          avg\n0  304846.969"
     },
     "execution_count": 16,
     "metadata": {},
     "output_type": "execute_result"
    }
   ],
   "source": [
    "q5 = \"\"\"\n",
    "SELECT AVG(tot_spent)\n",
    "FROM (SELECT a.id, a.name, SUM(o.total_amt_usd) tot_spent\n",
    "      FROM orders o\n",
    "      JOIN accounts a\n",
    "      ON a.id = o.account_id\n",
    "      GROUP BY a.id, a.name\n",
    "      ORDER BY 3 DESC\n",
    "       LIMIT 10) temp;\n",
    "\"\"\"\n",
    "\n",
    "table = database.to_data_frame(q5)\n",
    "table"
   ],
   "metadata": {
    "collapsed": false,
    "pycharm": {
     "name": "#%%\n"
    }
   }
  },
  {
   "cell_type": "markdown",
   "source": [
    "6. What is the lifetime average amount spent in terms of total_amt_usd, including only the companies that spent more per order, on average, than the average of all orders."
   ],
   "metadata": {
    "collapsed": false,
    "pycharm": {
     "name": "#%% md\n"
    }
   }
  },
  {
   "cell_type": "markdown",
   "source": [
    "First, we want to pull the average of all accounts in terms of total_amt_usd:"
   ],
   "metadata": {
    "collapsed": false,
    "pycharm": {
     "name": "#%% md\n"
    }
   }
  },
  {
   "cell_type": "code",
   "execution_count": 17,
   "outputs": [
    {
     "data": {
      "text/html": "<div>\n<style scoped>\n    .dataframe tbody tr th:only-of-type {\n        vertical-align: middle;\n    }\n\n    .dataframe tbody tr th {\n        vertical-align: top;\n    }\n\n    .dataframe thead th {\n        text-align: right;\n    }\n</style>\n<table border=\"1\" class=\"dataframe\">\n  <thead>\n    <tr style=\"text-align: right;\">\n      <th></th>\n      <th>avg_all</th>\n    </tr>\n  </thead>\n  <tbody>\n    <tr>\n      <td>0</td>\n      <td>3348.019651</td>\n    </tr>\n  </tbody>\n</table>\n</div>",
      "text/plain": "       avg_all\n0  3348.019651"
     },
     "execution_count": 17,
     "metadata": {},
     "output_type": "execute_result"
    }
   ],
   "source": [
    "q6 = \"\"\"\n",
    "SELECT AVG(o.total_amt_usd) avg_all\n",
    "FROM orders o\n",
    "\"\"\"\n",
    "\n",
    "table = database.to_data_frame(q6)\n",
    "table"
   ],
   "metadata": {
    "collapsed": false,
    "pycharm": {
     "name": "#%%\n"
    }
   }
  },
  {
   "cell_type": "markdown",
   "source": [
    "Then, we want to only pull the accounts with more than this average amount."
   ],
   "metadata": {
    "collapsed": false,
    "pycharm": {
     "name": "#%% md\n"
    }
   }
  },
  {
   "cell_type": "code",
   "execution_count": 18,
   "outputs": [
    {
     "data": {
      "text/html": "<div>\n<style scoped>\n    .dataframe tbody tr th:only-of-type {\n        vertical-align: middle;\n    }\n\n    .dataframe tbody tr th {\n        vertical-align: top;\n    }\n\n    .dataframe thead th {\n        text-align: right;\n    }\n</style>\n<table border=\"1\" class=\"dataframe\">\n  <thead>\n    <tr style=\"text-align: right;\">\n      <th></th>\n      <th>account_id</th>\n      <th>avg</th>\n    </tr>\n  </thead>\n  <tbody>\n    <tr>\n      <td>0</td>\n      <td>2651</td>\n      <td>5106.079375</td>\n    </tr>\n    <tr>\n      <td>1</td>\n      <td>2941</td>\n      <td>5389.885000</td>\n    </tr>\n    <tr>\n      <td>2</td>\n      <td>1501</td>\n      <td>3993.271429</td>\n    </tr>\n    <tr>\n      <td>3</td>\n      <td>1351</td>\n      <td>4440.722000</td>\n    </tr>\n    <tr>\n      <td>4</td>\n      <td>1721</td>\n      <td>4230.887500</td>\n    </tr>\n    <tr>\n      <td>...</td>\n      <td>...</td>\n      <td>...</td>\n    </tr>\n    <tr>\n      <td>164</td>\n      <td>3811</td>\n      <td>7082.654444</td>\n    </tr>\n    <tr>\n      <td>165</td>\n      <td>2911</td>\n      <td>4863.653333</td>\n    </tr>\n    <tr>\n      <td>166</td>\n      <td>2921</td>\n      <td>3732.950625</td>\n    </tr>\n    <tr>\n      <td>167</td>\n      <td>2591</td>\n      <td>4048.357353</td>\n    </tr>\n    <tr>\n      <td>168</td>\n      <td>1801</td>\n      <td>3871.167200</td>\n    </tr>\n  </tbody>\n</table>\n<p>169 rows × 2 columns</p>\n</div>",
      "text/plain": "     account_id          avg\n0          2651  5106.079375\n1          2941  5389.885000\n2          1501  3993.271429\n3          1351  4440.722000\n4          1721  4230.887500\n..          ...          ...\n164        3811  7082.654444\n165        2911  4863.653333\n166        2921  3732.950625\n167        2591  4048.357353\n168        1801  3871.167200\n\n[169 rows x 2 columns]"
     },
     "execution_count": 18,
     "metadata": {},
     "output_type": "execute_result"
    }
   ],
   "source": [
    "q6 = \"\"\"\n",
    "SELECT o.account_id, AVG(o.total_amt_usd)\n",
    "FROM orders o\n",
    "GROUP BY 1\n",
    "HAVING AVG(o.total_amt_usd) > (SELECT AVG(o.total_amt_usd) avg_all\n",
    "                               FROM orders o);\n",
    "\"\"\"\n",
    "\n",
    "table = database.to_data_frame(q6)\n",
    "table"
   ],
   "metadata": {
    "collapsed": false,
    "pycharm": {
     "name": "#%%\n"
    }
   }
  },
  {
   "cell_type": "markdown",
   "source": [
    "Finally, we just want the average of these values."
   ],
   "metadata": {
    "collapsed": false,
    "pycharm": {
     "name": "#%% md\n"
    }
   }
  },
  {
   "cell_type": "code",
   "execution_count": 19,
   "outputs": [
    {
     "data": {
      "text/html": "<div>\n<style scoped>\n    .dataframe tbody tr th:only-of-type {\n        vertical-align: middle;\n    }\n\n    .dataframe tbody tr th {\n        vertical-align: top;\n    }\n\n    .dataframe thead th {\n        text-align: right;\n    }\n</style>\n<table border=\"1\" class=\"dataframe\">\n  <thead>\n    <tr style=\"text-align: right;\">\n      <th></th>\n      <th>avg</th>\n    </tr>\n  </thead>\n  <tbody>\n    <tr>\n      <td>0</td>\n      <td>4721.139744</td>\n    </tr>\n  </tbody>\n</table>\n</div>",
      "text/plain": "           avg\n0  4721.139744"
     },
     "execution_count": 19,
     "metadata": {},
     "output_type": "execute_result"
    }
   ],
   "source": [
    "q6 = \"\"\"\n",
    "SELECT AVG(avg_amt)\n",
    "FROM (SELECT o.account_id, AVG(o.total_amt_usd) avg_amt\n",
    "    FROM orders o\n",
    "    GROUP BY 1\n",
    "    HAVING AVG(o.total_amt_usd) > (SELECT AVG(o.total_amt_usd) avg_all\n",
    "                                   FROM orders o)) temp_table;\n",
    "\"\"\"\n",
    "\n",
    "table = database.to_data_frame(q6)\n",
    "table"
   ],
   "metadata": {
    "collapsed": false,
    "pycharm": {
     "name": "#%%\n"
    }
   }
  },
  {
   "cell_type": "markdown",
   "source": [
    "7. What is the average number of events for each channel per day."
   ],
   "metadata": {
    "collapsed": false,
    "pycharm": {
     "name": "#%% md\n"
    }
   }
  },
  {
   "cell_type": "code",
   "execution_count": 20,
   "outputs": [
    {
     "data": {
      "text/html": "<div>\n<style scoped>\n    .dataframe tbody tr th:only-of-type {\n        vertical-align: middle;\n    }\n\n    .dataframe tbody tr th {\n        vertical-align: top;\n    }\n\n    .dataframe thead th {\n        text-align: right;\n    }\n</style>\n<table border=\"1\" class=\"dataframe\">\n  <thead>\n    <tr style=\"text-align: right;\">\n      <th></th>\n      <th>channel</th>\n      <th>average_events</th>\n    </tr>\n  </thead>\n  <tbody>\n    <tr>\n      <td>0</td>\n      <td>direct</td>\n      <td>4.896488</td>\n    </tr>\n    <tr>\n      <td>1</td>\n      <td>organic</td>\n      <td>1.667250</td>\n    </tr>\n    <tr>\n      <td>2</td>\n      <td>facebook</td>\n      <td>1.598347</td>\n    </tr>\n    <tr>\n      <td>3</td>\n      <td>adwords</td>\n      <td>1.570191</td>\n    </tr>\n    <tr>\n      <td>4</td>\n      <td>twitter</td>\n      <td>1.316667</td>\n    </tr>\n    <tr>\n      <td>5</td>\n      <td>banner</td>\n      <td>1.289973</td>\n    </tr>\n  </tbody>\n</table>\n</div>",
      "text/plain": "    channel  average_events\n0    direct        4.896488\n1   organic        1.667250\n2  facebook        1.598347\n3   adwords        1.570191\n4   twitter        1.316667\n5    banner        1.289973"
     },
     "execution_count": 20,
     "metadata": {},
     "output_type": "execute_result"
    }
   ],
   "source": [
    "q = \"\"\"\n",
    "SELECT channel, AVG(events) AS average_events\n",
    "FROM (SELECT DATE_TRUNC('day',occurred_at) AS day,\n",
    "             channel, COUNT(*) as events\n",
    "      FROM web_events\n",
    "      GROUP BY 1,2) sub\n",
    "GROUP BY channel\n",
    "ORDER BY 2 DESC;\n",
    "\"\"\"\n",
    "\n",
    "table = database.to_data_frame(q)\n",
    "table"
   ],
   "metadata": {
    "collapsed": false,
    "pycharm": {
     "name": "#%%\n"
    }
   }
  },
  {
   "cell_type": "markdown",
   "source": [
    "Let's try this again using a WITH statement.\n",
    "Notice, you can pull the inner query:"
   ],
   "metadata": {
    "collapsed": false,
    "pycharm": {
     "name": "#%% md\n"
    }
   }
  },
  {
   "cell_type": "code",
   "execution_count": 21,
   "outputs": [
    {
     "data": {
      "text/html": "<div>\n<style scoped>\n    .dataframe tbody tr th:only-of-type {\n        vertical-align: middle;\n    }\n\n    .dataframe tbody tr th {\n        vertical-align: top;\n    }\n\n    .dataframe thead th {\n        text-align: right;\n    }\n</style>\n<table border=\"1\" class=\"dataframe\">\n  <thead>\n    <tr style=\"text-align: right;\">\n      <th></th>\n      <th>day</th>\n      <th>channel</th>\n      <th>events</th>\n    </tr>\n  </thead>\n  <tbody>\n    <tr>\n      <td>0</td>\n      <td>2015-11-04</td>\n      <td>banner</td>\n      <td>1</td>\n    </tr>\n    <tr>\n      <td>1</td>\n      <td>2013-12-11</td>\n      <td>organic</td>\n      <td>1</td>\n    </tr>\n    <tr>\n      <td>2</td>\n      <td>2016-01-06</td>\n      <td>direct</td>\n      <td>8</td>\n    </tr>\n    <tr>\n      <td>3</td>\n      <td>2016-05-07</td>\n      <td>facebook</td>\n      <td>5</td>\n    </tr>\n    <tr>\n      <td>4</td>\n      <td>2016-10-28</td>\n      <td>direct</td>\n      <td>16</td>\n    </tr>\n    <tr>\n      <td>...</td>\n      <td>...</td>\n      <td>...</td>\n      <td>...</td>\n    </tr>\n    <tr>\n      <td>3559</td>\n      <td>2016-03-24</td>\n      <td>twitter</td>\n      <td>1</td>\n    </tr>\n    <tr>\n      <td>3560</td>\n      <td>2015-05-27</td>\n      <td>direct</td>\n      <td>2</td>\n    </tr>\n    <tr>\n      <td>3561</td>\n      <td>2015-10-25</td>\n      <td>facebook</td>\n      <td>2</td>\n    </tr>\n    <tr>\n      <td>3562</td>\n      <td>2014-01-12</td>\n      <td>direct</td>\n      <td>3</td>\n    </tr>\n    <tr>\n      <td>3563</td>\n      <td>2015-07-07</td>\n      <td>direct</td>\n      <td>8</td>\n    </tr>\n  </tbody>\n</table>\n<p>3564 rows × 3 columns</p>\n</div>",
      "text/plain": "            day   channel  events\n0    2015-11-04    banner       1\n1    2013-12-11   organic       1\n2    2016-01-06    direct       8\n3    2016-05-07  facebook       5\n4    2016-10-28    direct      16\n...         ...       ...     ...\n3559 2016-03-24   twitter       1\n3560 2015-05-27    direct       2\n3561 2015-10-25  facebook       2\n3562 2014-01-12    direct       3\n3563 2015-07-07    direct       8\n\n[3564 rows x 3 columns]"
     },
     "execution_count": 21,
     "metadata": {},
     "output_type": "execute_result"
    }
   ],
   "source": [
    "q = \"\"\"\n",
    "SELECT DATE_TRUNC('day',occurred_at) AS day,\n",
    "       channel, COUNT(*) as events\n",
    "FROM web_events\n",
    "GROUP BY 1,2\n",
    "\"\"\"\n",
    "\n",
    "table = database.to_data_frame(q)\n",
    "table"
   ],
   "metadata": {
    "collapsed": false,
    "pycharm": {
     "name": "#%%\n"
    }
   }
  },
  {
   "cell_type": "markdown",
   "source": [
    "This is the part we put in the WITH statement.\n",
    "Notice, we are aliasing the table as events below:"
   ],
   "metadata": {
    "collapsed": false,
    "pycharm": {
     "name": "#%% md\n"
    }
   }
  },
  {
   "cell_type": "raw",
   "source": [
    "\n",
    "q = \"\"\"\n",
    "WITH events AS (\n",
    "          SELECT DATE_TRUNC('day',occurred_at) AS day,\n",
    "                        channel, COUNT(*) as events\n",
    "          FROM web_events\n",
    "          GROUP BY 1,2)\n",
    "\"\"\"\n"
   ],
   "metadata": {
    "collapsed": false,
    "pycharm": {
     "name": "#%% raw\n"
    }
   }
  },
  {
   "cell_type": "markdown",
   "source": [
    "Now, we can use this newly created events table as if it is any other table in our database:"
   ],
   "metadata": {
    "collapsed": false,
    "pycharm": {
     "name": "#%% md\n"
    }
   }
  },
  {
   "cell_type": "code",
   "execution_count": 22,
   "outputs": [
    {
     "data": {
      "text/html": "<div>\n<style scoped>\n    .dataframe tbody tr th:only-of-type {\n        vertical-align: middle;\n    }\n\n    .dataframe tbody tr th {\n        vertical-align: top;\n    }\n\n    .dataframe thead th {\n        text-align: right;\n    }\n</style>\n<table border=\"1\" class=\"dataframe\">\n  <thead>\n    <tr style=\"text-align: right;\">\n      <th></th>\n      <th>channel</th>\n      <th>average_events</th>\n    </tr>\n  </thead>\n  <tbody>\n    <tr>\n      <td>0</td>\n      <td>direct</td>\n      <td>4.896488</td>\n    </tr>\n    <tr>\n      <td>1</td>\n      <td>organic</td>\n      <td>1.667250</td>\n    </tr>\n    <tr>\n      <td>2</td>\n      <td>facebook</td>\n      <td>1.598347</td>\n    </tr>\n    <tr>\n      <td>3</td>\n      <td>adwords</td>\n      <td>1.570191</td>\n    </tr>\n    <tr>\n      <td>4</td>\n      <td>twitter</td>\n      <td>1.316667</td>\n    </tr>\n    <tr>\n      <td>5</td>\n      <td>banner</td>\n      <td>1.289973</td>\n    </tr>\n  </tbody>\n</table>\n</div>",
      "text/plain": "    channel  average_events\n0    direct        4.896488\n1   organic        1.667250\n2  facebook        1.598347\n3   adwords        1.570191\n4   twitter        1.316667\n5    banner        1.289973"
     },
     "execution_count": 22,
     "metadata": {},
     "output_type": "execute_result"
    }
   ],
   "source": [
    "q = \"\"\"\n",
    "WITH events AS (\n",
    "          SELECT DATE_TRUNC('day',occurred_at) AS day,\n",
    "                        channel, COUNT(*) as events\n",
    "          FROM web_events\n",
    "          GROUP BY 1,2)\n",
    "\n",
    "SELECT channel, AVG(events) AS average_events\n",
    "FROM events\n",
    "GROUP BY channel\n",
    "ORDER BY 2 DESC;\n",
    "\"\"\"\n",
    "\n",
    "table = database.to_data_frame(q)\n",
    "table"
   ],
   "metadata": {
    "collapsed": false,
    "pycharm": {
     "name": "#%%\n"
    }
   }
  },
  {
   "cell_type": "markdown",
   "source": [
    "For the above example, we don't need anymore than the one additional table,\n",
    "but imagine we needed to create a second table to pull from.\n",
    "We can create an additional table to pull from in the following way:"
   ],
   "metadata": {
    "collapsed": false,
    "pycharm": {
     "name": "#%% md\n"
    }
   }
  },
  {
   "cell_type": "raw",
   "source": [
    "\n",
    "WITH table1 AS (\n",
    "          SELECT *\n",
    "          FROM web_events),\n",
    "\n",
    "     table2 AS (\n",
    "          SELECT *\n",
    "          FROM accounts)\n",
    "\n",
    "\n",
    "SELECT *\n",
    "FROM table1\n",
    "JOIN table2\n",
    "ON table1.account_id = table2.id;\n"
   ],
   "metadata": {
    "collapsed": false,
    "pycharm": {
     "name": "#%% raw\n"
    }
   }
  },
  {
   "cell_type": "markdown",
   "source": [
    "Below, you will see each of the previous solutions restructured using the WITH clause.\n",
    "This is often an easier way to read a query."
   ],
   "metadata": {
    "collapsed": false,
    "pycharm": {
     "name": "#%% md\n"
    }
   }
  },
  {
   "cell_type": "markdown",
   "source": [
    "1. Provide the name of the sales_rep in each region with the largest amount of total_amt_usd sales."
   ],
   "metadata": {
    "collapsed": false,
    "pycharm": {
     "name": "#%% md\n"
    }
   }
  },
  {
   "cell_type": "code",
   "execution_count": 23,
   "outputs": [
    {
     "data": {
      "text/html": "<div>\n<style scoped>\n    .dataframe tbody tr th:only-of-type {\n        vertical-align: middle;\n    }\n\n    .dataframe tbody tr th {\n        vertical-align: top;\n    }\n\n    .dataframe thead th {\n        text-align: right;\n    }\n</style>\n<table border=\"1\" class=\"dataframe\">\n  <thead>\n    <tr style=\"text-align: right;\">\n      <th></th>\n      <th>rep_name</th>\n      <th>region_name</th>\n      <th>total_amt</th>\n    </tr>\n  </thead>\n  <tbody>\n    <tr>\n      <td>0</td>\n      <td>Earlie Schleusner</td>\n      <td>Southeast</td>\n      <td>1098137.72</td>\n    </tr>\n    <tr>\n      <td>1</td>\n      <td>Tia Amato</td>\n      <td>Northeast</td>\n      <td>1010690.60</td>\n    </tr>\n    <tr>\n      <td>2</td>\n      <td>Georgianna Chisholm</td>\n      <td>West</td>\n      <td>886244.12</td>\n    </tr>\n    <tr>\n      <td>3</td>\n      <td>Charles Bidwell</td>\n      <td>Midwest</td>\n      <td>675637.19</td>\n    </tr>\n  </tbody>\n</table>\n</div>",
      "text/plain": "              rep_name region_name   total_amt\n0    Earlie Schleusner   Southeast  1098137.72\n1            Tia Amato   Northeast  1010690.60\n2  Georgianna Chisholm        West   886244.12\n3      Charles Bidwell     Midwest   675637.19"
     },
     "execution_count": 23,
     "metadata": {},
     "output_type": "execute_result"
    }
   ],
   "source": [
    "q = \"\"\"\n",
    "WITH t1 AS (\n",
    "  SELECT s.name rep_name, r.name region_name, SUM(o.total_amt_usd) total_amt\n",
    "   FROM sales_reps s\n",
    "   JOIN accounts a\n",
    "   ON a.sales_rep_id = s.id\n",
    "   JOIN orders o\n",
    "   ON o.account_id = a.id\n",
    "   JOIN region r\n",
    "   ON r.id = s.region_id\n",
    "   GROUP BY 1,2\n",
    "   ORDER BY 3 DESC),\n",
    "t2 AS (\n",
    "   SELECT region_name, MAX(total_amt) total_amt\n",
    "   FROM t1\n",
    "   GROUP BY 1)\n",
    "SELECT t1.rep_name, t1.region_name, t1.total_amt\n",
    "FROM t1\n",
    "JOIN t2\n",
    "ON t1.region_name = t2.region_name AND t1.total_amt = t2.total_amt;\n",
    "\"\"\"\n",
    "\n",
    "table = database.to_data_frame(q)\n",
    "table"
   ],
   "metadata": {
    "collapsed": false,
    "pycharm": {
     "name": "#%%\n"
    }
   }
  },
  {
   "cell_type": "markdown",
   "source": [
    "2. For the region with the largest sales total_amt_usd, how many total orders were placed?"
   ],
   "metadata": {
    "collapsed": false,
    "pycharm": {
     "name": "#%% md\n"
    }
   }
  },
  {
   "cell_type": "code",
   "execution_count": 24,
   "outputs": [
    {
     "data": {
      "text/html": "<div>\n<style scoped>\n    .dataframe tbody tr th:only-of-type {\n        vertical-align: middle;\n    }\n\n    .dataframe tbody tr th {\n        vertical-align: top;\n    }\n\n    .dataframe thead th {\n        text-align: right;\n    }\n</style>\n<table border=\"1\" class=\"dataframe\">\n  <thead>\n    <tr style=\"text-align: right;\">\n      <th></th>\n      <th>name</th>\n      <th>total_orders</th>\n    </tr>\n  </thead>\n  <tbody>\n    <tr>\n      <td>0</td>\n      <td>Northeast</td>\n      <td>2357</td>\n    </tr>\n  </tbody>\n</table>\n</div>",
      "text/plain": "        name  total_orders\n0  Northeast          2357"
     },
     "execution_count": 24,
     "metadata": {},
     "output_type": "execute_result"
    }
   ],
   "source": [
    "q = \"\"\"\n",
    "WITH t1 AS (\n",
    "   SELECT r.name region_name, SUM(o.total_amt_usd) total_amt\n",
    "   FROM sales_reps s\n",
    "   JOIN accounts a\n",
    "   ON a.sales_rep_id = s.id\n",
    "   JOIN orders o\n",
    "   ON o.account_id = a.id\n",
    "   JOIN region r\n",
    "   ON r.id = s.region_id\n",
    "   GROUP BY r.name),\n",
    "t2 AS (\n",
    "   SELECT MAX(total_amt)\n",
    "   FROM t1)\n",
    "SELECT r.name, COUNT(o.total) total_orders\n",
    "FROM sales_reps s\n",
    "JOIN accounts a\n",
    "ON a.sales_rep_id = s.id\n",
    "JOIN orders o\n",
    "ON o.account_id = a.id\n",
    "JOIN region r\n",
    "ON r.id = s.region_id\n",
    "GROUP BY r.name\n",
    "HAVING SUM(o.total_amt_usd) = (SELECT * FROM t2);\n",
    "\"\"\"\n",
    "\n",
    "table = database.to_data_frame(q)\n",
    "table"
   ],
   "metadata": {
    "collapsed": false,
    "pycharm": {
     "name": "#%%\n"
    }
   }
  },
  {
   "cell_type": "markdown",
   "source": [
    "3. For the account that purchased the most (in total over their lifetime as a customer) standard_qty paper,\n",
    "how many accounts still had more in total purchases?"
   ],
   "metadata": {
    "collapsed": false,
    "pycharm": {
     "name": "#%% md\n"
    }
   }
  },
  {
   "cell_type": "code",
   "execution_count": 25,
   "outputs": [
    {
     "data": {
      "text/html": "<div>\n<style scoped>\n    .dataframe tbody tr th:only-of-type {\n        vertical-align: middle;\n    }\n\n    .dataframe tbody tr th {\n        vertical-align: top;\n    }\n\n    .dataframe thead th {\n        text-align: right;\n    }\n</style>\n<table border=\"1\" class=\"dataframe\">\n  <thead>\n    <tr style=\"text-align: right;\">\n      <th></th>\n      <th>count</th>\n    </tr>\n  </thead>\n  <tbody>\n    <tr>\n      <td>0</td>\n      <td>3</td>\n    </tr>\n  </tbody>\n</table>\n</div>",
      "text/plain": "   count\n0      3"
     },
     "execution_count": 25,
     "metadata": {},
     "output_type": "execute_result"
    }
   ],
   "source": [
    "q = \"\"\"\n",
    "WITH t1 AS (\n",
    "  SELECT a.name account_name, SUM(o.standard_qty) total_std, SUM(o.total) total\n",
    "  FROM accounts a\n",
    "  JOIN orders o\n",
    "  ON o.account_id = a.id\n",
    "  GROUP BY 1\n",
    "  ORDER BY 2 DESC\n",
    "  LIMIT 1),\n",
    "t2 AS (\n",
    "  SELECT a.name\n",
    "  FROM orders o\n",
    "  JOIN accounts a\n",
    "  ON a.id = o.account_id\n",
    "  GROUP BY 1\n",
    "  HAVING SUM(o.total) > (SELECT total FROM t1))\n",
    "SELECT COUNT(*)\n",
    "FROM t2;\n",
    "\"\"\"\n",
    "\n",
    "table = database.to_data_frame(q)\n",
    "table"
   ],
   "metadata": {
    "collapsed": false,
    "pycharm": {
     "name": "#%%\n"
    }
   }
  },
  {
   "cell_type": "markdown",
   "source": [
    "4. For the customer that spent the most (in total over their lifetime as a customer) total_amt_usd,\n",
    "how many web_events did they have for each channel?"
   ],
   "metadata": {
    "collapsed": false,
    "pycharm": {
     "name": "#%% md\n"
    }
   }
  },
  {
   "cell_type": "code",
   "execution_count": 26,
   "outputs": [
    {
     "data": {
      "text/html": "<div>\n<style scoped>\n    .dataframe tbody tr th:only-of-type {\n        vertical-align: middle;\n    }\n\n    .dataframe tbody tr th {\n        vertical-align: top;\n    }\n\n    .dataframe thead th {\n        text-align: right;\n    }\n</style>\n<table border=\"1\" class=\"dataframe\">\n  <thead>\n    <tr style=\"text-align: right;\">\n      <th></th>\n      <th>name</th>\n      <th>channel</th>\n      <th>count</th>\n    </tr>\n  </thead>\n  <tbody>\n    <tr>\n      <td>0</td>\n      <td>EOG Resources</td>\n      <td>direct</td>\n      <td>44</td>\n    </tr>\n    <tr>\n      <td>1</td>\n      <td>EOG Resources</td>\n      <td>organic</td>\n      <td>13</td>\n    </tr>\n    <tr>\n      <td>2</td>\n      <td>EOG Resources</td>\n      <td>adwords</td>\n      <td>12</td>\n    </tr>\n    <tr>\n      <td>3</td>\n      <td>EOG Resources</td>\n      <td>facebook</td>\n      <td>11</td>\n    </tr>\n    <tr>\n      <td>4</td>\n      <td>EOG Resources</td>\n      <td>twitter</td>\n      <td>5</td>\n    </tr>\n    <tr>\n      <td>5</td>\n      <td>EOG Resources</td>\n      <td>banner</td>\n      <td>4</td>\n    </tr>\n  </tbody>\n</table>\n</div>",
      "text/plain": "            name   channel  count\n0  EOG Resources    direct     44\n1  EOG Resources   organic     13\n2  EOG Resources   adwords     12\n3  EOG Resources  facebook     11\n4  EOG Resources   twitter      5\n5  EOG Resources    banner      4"
     },
     "execution_count": 26,
     "metadata": {},
     "output_type": "execute_result"
    }
   ],
   "source": [
    "q = \"\"\"\n",
    "WITH t1 AS (\n",
    "   SELECT a.id, a.name, SUM(o.total_amt_usd) tot_spent\n",
    "   FROM orders o\n",
    "   JOIN accounts a\n",
    "   ON a.id = o.account_id\n",
    "   GROUP BY a.id, a.name\n",
    "   ORDER BY 3 DESC\n",
    "   LIMIT 1)\n",
    "SELECT a.name, w.channel, COUNT(*)\n",
    "FROM accounts a\n",
    "JOIN web_events w\n",
    "ON a.id = w.account_id AND a.id =  (SELECT id FROM t1)\n",
    "GROUP BY 1, 2\n",
    "ORDER BY 3 DESC;\n",
    "\"\"\"\n",
    "\n",
    "table = database.to_data_frame(q)\n",
    "table"
   ],
   "metadata": {
    "collapsed": false,
    "pycharm": {
     "name": "#%%\n"
    }
   }
  },
  {
   "cell_type": "markdown",
   "source": [
    "5. What is the lifetime average amount spent in terms of total_amt_usd for the top 10 total spending accounts?"
   ],
   "metadata": {
    "collapsed": false,
    "pycharm": {
     "name": "#%% md\n"
    }
   }
  },
  {
   "cell_type": "code",
   "execution_count": 27,
   "outputs": [
    {
     "data": {
      "text/html": "<div>\n<style scoped>\n    .dataframe tbody tr th:only-of-type {\n        vertical-align: middle;\n    }\n\n    .dataframe tbody tr th {\n        vertical-align: top;\n    }\n\n    .dataframe thead th {\n        text-align: right;\n    }\n</style>\n<table border=\"1\" class=\"dataframe\">\n  <thead>\n    <tr style=\"text-align: right;\">\n      <th></th>\n      <th>avg</th>\n    </tr>\n  </thead>\n  <tbody>\n    <tr>\n      <td>0</td>\n      <td>304846.969</td>\n    </tr>\n  </tbody>\n</table>\n</div>",
      "text/plain": "          avg\n0  304846.969"
     },
     "execution_count": 27,
     "metadata": {},
     "output_type": "execute_result"
    }
   ],
   "source": [
    "q = \"\"\"\n",
    "WITH t1 AS (\n",
    "   SELECT a.id, a.name, SUM(o.total_amt_usd) tot_spent\n",
    "   FROM orders o\n",
    "   JOIN accounts a\n",
    "   ON a.id = o.account_id\n",
    "   GROUP BY a.id, a.name\n",
    "   ORDER BY 3 DESC\n",
    "   LIMIT 10)\n",
    "SELECT AVG(tot_spent)\n",
    "FROM t1;\n",
    "\"\"\"\n",
    "\n",
    "table = database.to_data_frame(q)\n",
    "table"
   ],
   "metadata": {
    "collapsed": false,
    "pycharm": {
     "name": "#%%\n"
    }
   }
  },
  {
   "cell_type": "markdown",
   "source": [
    "6. What is the lifetime average amount spent in terms of total_amt_usd,\n",
    "including only the companies that spent more per order, on average, than the average of all orders."
   ],
   "metadata": {
    "collapsed": false,
    "pycharm": {
     "name": "#%% md\n"
    }
   }
  },
  {
   "cell_type": "code",
   "execution_count": 28,
   "outputs": [
    {
     "data": {
      "text/html": "<div>\n<style scoped>\n    .dataframe tbody tr th:only-of-type {\n        vertical-align: middle;\n    }\n\n    .dataframe tbody tr th {\n        vertical-align: top;\n    }\n\n    .dataframe thead th {\n        text-align: right;\n    }\n</style>\n<table border=\"1\" class=\"dataframe\">\n  <thead>\n    <tr style=\"text-align: right;\">\n      <th></th>\n      <th>avg</th>\n    </tr>\n  </thead>\n  <tbody>\n    <tr>\n      <td>0</td>\n      <td>4721.139744</td>\n    </tr>\n  </tbody>\n</table>\n</div>",
      "text/plain": "           avg\n0  4721.139744"
     },
     "execution_count": 28,
     "metadata": {},
     "output_type": "execute_result"
    }
   ],
   "source": [
    "q = \"\"\"\n",
    "WITH t1 AS (\n",
    "   SELECT AVG(o.total_amt_usd) avg_all\n",
    "   FROM orders o\n",
    "   JOIN accounts a\n",
    "   ON a.id = o.account_id),\n",
    "t2 AS (\n",
    "   SELECT o.account_id, AVG(o.total_amt_usd) avg_amt\n",
    "   FROM orders o\n",
    "   GROUP BY 1\n",
    "   HAVING AVG(o.total_amt_usd) > (SELECT * FROM t1))\n",
    "SELECT AVG(avg_amt)\n",
    "FROM t2;\n",
    "\"\"\"\n",
    "\n",
    "table = database.to_data_frame(q)\n",
    "table"
   ],
   "metadata": {
    "collapsed": false,
    "pycharm": {
     "name": "#%%\n"
    }
   }
  },
  {
   "cell_type": "code",
   "execution_count": 28,
   "outputs": [],
   "source": [],
   "metadata": {
    "collapsed": false,
    "pycharm": {
     "name": "#%%\n"
    }
   }
  }
 ],
 "metadata": {
  "kernelspec": {
   "name": "pycharm-b008ea9c",
   "language": "python",
   "display_name": "PyCharm (portal_da_transparencia_brasil)"
  },
  "language_info": {
   "codemirror_mode": {
    "name": "ipython",
    "version": 2
   },
   "file_extension": ".py",
   "mimetype": "text/x-python",
   "name": "python",
   "nbconvert_exporter": "python",
   "pygments_lexer": "ipython2",
   "version": "2.7.6"
  }
 },
 "nbformat": 4,
 "nbformat_minor": 0
}
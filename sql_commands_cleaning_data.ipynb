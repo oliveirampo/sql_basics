{
 "cells": [
  {
   "cell_type": "markdown",
   "source": [
    "Import MyDataBase class."
   ],
   "metadata": {
    "collapsed": false
   }
  },
  {
   "cell_type": "code",
   "execution_count": 1,
   "outputs": [],
   "source": [
    "from src.database import MyDataBase\n",
    "db_name = \"parch_and_posey\""
   ],
   "metadata": {
    "collapsed": false,
    "pycharm": {
     "name": "#%%\n"
    }
   }
  },
  {
   "cell_type": "markdown",
   "source": [
    "Load database."
   ],
   "metadata": {
    "collapsed": false
   }
  },
  {
   "cell_type": "code",
   "execution_count": 2,
   "outputs": [
    {
     "name": "stdout",
     "output_type": "stream",
     "text": [
      "ISOLATION_LEVEL_AUTOCOMMIT: 0\n",
      "('web_events',)\n",
      "('sales_reps',)\n",
      "('region',)\n",
      "('orders',)\n",
      "('accounts',)\n"
     ]
    }
   ],
   "source": [
    "database = MyDataBase(db_name)\n",
    "database.print_tables_names()"
   ],
   "metadata": {
    "collapsed": false,
    "pycharm": {
     "name": "#%%\n"
    }
   }
  },
  {
   "cell_type": "markdown",
   "source": [
    "### LEFT & RIGHT Quizzes"
   ],
   "metadata": {
    "collapsed": false,
    "pycharm": {
     "name": "#%% md\n"
    }
   }
  },
  {
   "cell_type": "markdown",
   "source": [
    "1. In the accounts table, there is a column holding the website for each company.\n",
    "The last three digits specify what type of web address they are using.\n",
    "A list of extensions (and pricing) is provided [here](https://iwantmyname.com/domains).\n",
    "Pull these extensions and provide how many of each website type exist in the accounts table."
   ],
   "metadata": {
    "collapsed": false,
    "pycharm": {
     "name": "#%% md\n"
    }
   }
  },
  {
   "cell_type": "code",
   "execution_count": 3,
   "outputs": [
    {
     "data": {
      "text/html": "<div>\n<style scoped>\n    .dataframe tbody tr th:only-of-type {\n        vertical-align: middle;\n    }\n\n    .dataframe tbody tr th {\n        vertical-align: top;\n    }\n\n    .dataframe thead th {\n        text-align: right;\n    }\n</style>\n<table border=\"1\" class=\"dataframe\">\n  <thead>\n    <tr style=\"text-align: right;\">\n      <th></th>\n      <th>domain</th>\n      <th>num_companies</th>\n    </tr>\n  </thead>\n  <tbody>\n    <tr>\n      <td>0</td>\n      <td>com</td>\n      <td>349</td>\n    </tr>\n    <tr>\n      <td>1</td>\n      <td>net</td>\n      <td>1</td>\n    </tr>\n    <tr>\n      <td>2</td>\n      <td>org</td>\n      <td>1</td>\n    </tr>\n  </tbody>\n</table>\n</div>",
      "text/plain": "  domain  num_companies\n0    com            349\n1    net              1\n2    org              1"
     },
     "execution_count": 3,
     "metadata": {},
     "output_type": "execute_result"
    }
   ],
   "source": [
    "q = \"\"\"\n",
    "SELECT RIGHT(website, 3) AS domain, COUNT(*) num_companies\n",
    "FROM accounts\n",
    "GROUP BY 1\n",
    "ORDER BY 2 DESC;\n",
    "\"\"\"\n",
    "\n",
    "table = database.to_data_frame(q)\n",
    "table"
   ],
   "metadata": {
    "collapsed": false,
    "pycharm": {
     "name": "#%%\n"
    }
   }
  },
  {
   "cell_type": "markdown",
   "source": [
    "2. There is much debate about how much the name (or even the first letter of a company name) matters.\n",
    "Use the accounts table to pull the first letter of each company name\n",
    "to see the distribution of company names that begin with each letter (or number)."
   ],
   "metadata": {
    "collapsed": false,
    "pycharm": {
     "name": "#%% md\n"
    }
   }
  },
  {
   "cell_type": "code",
   "execution_count": 4,
   "outputs": [
    {
     "data": {
      "text/html": "<div>\n<style scoped>\n    .dataframe tbody tr th:only-of-type {\n        vertical-align: middle;\n    }\n\n    .dataframe tbody tr th {\n        vertical-align: top;\n    }\n\n    .dataframe thead th {\n        text-align: right;\n    }\n</style>\n<table border=\"1\" class=\"dataframe\">\n  <thead>\n    <tr style=\"text-align: right;\">\n      <th></th>\n      <th>first_letter</th>\n      <th>num_companies</th>\n    </tr>\n  </thead>\n  <tbody>\n    <tr>\n      <td>0</td>\n      <td>C</td>\n      <td>37</td>\n    </tr>\n    <tr>\n      <td>1</td>\n      <td>A</td>\n      <td>37</td>\n    </tr>\n    <tr>\n      <td>2</td>\n      <td>P</td>\n      <td>27</td>\n    </tr>\n    <tr>\n      <td>3</td>\n      <td>M</td>\n      <td>22</td>\n    </tr>\n    <tr>\n      <td>4</td>\n      <td>S</td>\n      <td>17</td>\n    </tr>\n    <tr>\n      <td>5</td>\n      <td>D</td>\n      <td>17</td>\n    </tr>\n    <tr>\n      <td>6</td>\n      <td>T</td>\n      <td>17</td>\n    </tr>\n    <tr>\n      <td>7</td>\n      <td>B</td>\n      <td>16</td>\n    </tr>\n    <tr>\n      <td>8</td>\n      <td>E</td>\n      <td>16</td>\n    </tr>\n    <tr>\n      <td>9</td>\n      <td>L</td>\n      <td>16</td>\n    </tr>\n    <tr>\n      <td>10</td>\n      <td>H</td>\n      <td>15</td>\n    </tr>\n    <tr>\n      <td>11</td>\n      <td>N</td>\n      <td>15</td>\n    </tr>\n    <tr>\n      <td>12</td>\n      <td>G</td>\n      <td>14</td>\n    </tr>\n    <tr>\n      <td>13</td>\n      <td>U</td>\n      <td>13</td>\n    </tr>\n    <tr>\n      <td>14</td>\n      <td>W</td>\n      <td>12</td>\n    </tr>\n    <tr>\n      <td>15</td>\n      <td>F</td>\n      <td>12</td>\n    </tr>\n    <tr>\n      <td>16</td>\n      <td>R</td>\n      <td>8</td>\n    </tr>\n    <tr>\n      <td>17</td>\n      <td>J</td>\n      <td>7</td>\n    </tr>\n    <tr>\n      <td>18</td>\n      <td>K</td>\n      <td>7</td>\n    </tr>\n    <tr>\n      <td>19</td>\n      <td>O</td>\n      <td>7</td>\n    </tr>\n    <tr>\n      <td>20</td>\n      <td>I</td>\n      <td>7</td>\n    </tr>\n    <tr>\n      <td>21</td>\n      <td>V</td>\n      <td>7</td>\n    </tr>\n    <tr>\n      <td>22</td>\n      <td>X</td>\n      <td>2</td>\n    </tr>\n    <tr>\n      <td>23</td>\n      <td>3</td>\n      <td>1</td>\n    </tr>\n    <tr>\n      <td>24</td>\n      <td>Y</td>\n      <td>1</td>\n    </tr>\n    <tr>\n      <td>25</td>\n      <td>Q</td>\n      <td>1</td>\n    </tr>\n  </tbody>\n</table>\n</div>",
      "text/plain": "   first_letter  num_companies\n0             C             37\n1             A             37\n2             P             27\n3             M             22\n4             S             17\n5             D             17\n6             T             17\n7             B             16\n8             E             16\n9             L             16\n10            H             15\n11            N             15\n12            G             14\n13            U             13\n14            W             12\n15            F             12\n16            R              8\n17            J              7\n18            K              7\n19            O              7\n20            I              7\n21            V              7\n22            X              2\n23            3              1\n24            Y              1\n25            Q              1"
     },
     "execution_count": 4,
     "metadata": {},
     "output_type": "execute_result"
    }
   ],
   "source": [
    "q = \"\"\"\n",
    "SELECT LEFT(UPPER(name), 1) AS first_letter, COUNT(*) num_companies\n",
    "FROM accounts\n",
    "GROUP BY 1\n",
    "ORDER BY 2 DESC;\n",
    "\"\"\"\n",
    "\n",
    "table = database.to_data_frame(q)\n",
    "table"
   ],
   "metadata": {
    "collapsed": false,
    "pycharm": {
     "name": "#%%\n"
    }
   }
  },
  {
   "cell_type": "markdown",
   "source": [
    "3. Use the accounts table and a CASE statement to create two groups:\n",
    "one group of company names that start with a number\n",
    "and a second group of those company names that start with a letter.\n",
    "What proportion of company names start with a letter?"
   ],
   "metadata": {
    "collapsed": false,
    "pycharm": {
     "name": "#%% md\n"
    }
   }
  },
  {
   "cell_type": "code",
   "execution_count": 5,
   "outputs": [
    {
     "data": {
      "text/html": "<div>\n<style scoped>\n    .dataframe tbody tr th:only-of-type {\n        vertical-align: middle;\n    }\n\n    .dataframe tbody tr th {\n        vertical-align: top;\n    }\n\n    .dataframe thead th {\n        text-align: right;\n    }\n</style>\n<table border=\"1\" class=\"dataframe\">\n  <thead>\n    <tr style=\"text-align: right;\">\n      <th></th>\n      <th>nums</th>\n      <th>letters</th>\n    </tr>\n  </thead>\n  <tbody>\n    <tr>\n      <td>0</td>\n      <td>1</td>\n      <td>350</td>\n    </tr>\n  </tbody>\n</table>\n</div>",
      "text/plain": "   nums  letters\n0     1      350"
     },
     "execution_count": 5,
     "metadata": {},
     "output_type": "execute_result"
    }
   ],
   "source": [
    "q = \"\"\"\n",
    "SELECT SUM(num) nums, SUM(letter) letters\n",
    "FROM (SELECT name, CASE WHEN LEFT(UPPER(name), 1) IN ('0','1','2','3','4','5','6','7','8','9')\n",
    "                       THEN 1 ELSE 0 END AS num,\n",
    "         CASE WHEN LEFT(UPPER(name), 1) IN ('0','1','2','3','4','5','6','7','8','9')\n",
    "                       THEN 0 ELSE 1 END AS letter\n",
    "      FROM accounts) t1;\n",
    "\"\"\"\n",
    "\n",
    "table = database.to_data_frame(q)\n",
    "table"
   ],
   "metadata": {
    "collapsed": false,
    "pycharm": {
     "name": "#%%\n"
    }
   }
  },
  {
   "cell_type": "markdown",
   "source": [
    "There are 350 company names that start with a letter and 1 that starts with a number. This gives a ratio of 350/351 that are company names that start with a letter or 99.7%."
   ],
   "metadata": {
    "collapsed": false,
    "pycharm": {
     "name": "#%% md\n"
    }
   }
  },
  {
   "cell_type": "markdown",
   "source": [
    "4. Consider vowels as a, e, i, o, and u.\n",
    "What proportion of company names start with a vowel, and what percent start with anything else?"
   ],
   "metadata": {
    "collapsed": false,
    "pycharm": {
     "name": "#%% md\n"
    }
   }
  },
  {
   "cell_type": "code",
   "execution_count": 6,
   "outputs": [
    {
     "data": {
      "text/html": "<div>\n<style scoped>\n    .dataframe tbody tr th:only-of-type {\n        vertical-align: middle;\n    }\n\n    .dataframe tbody tr th {\n        vertical-align: top;\n    }\n\n    .dataframe thead th {\n        text-align: right;\n    }\n</style>\n<table border=\"1\" class=\"dataframe\">\n  <thead>\n    <tr style=\"text-align: right;\">\n      <th></th>\n      <th>vowels</th>\n      <th>other</th>\n    </tr>\n  </thead>\n  <tbody>\n    <tr>\n      <td>0</td>\n      <td>80</td>\n      <td>271</td>\n    </tr>\n  </tbody>\n</table>\n</div>",
      "text/plain": "   vowels  other\n0      80    271"
     },
     "execution_count": 6,
     "metadata": {},
     "output_type": "execute_result"
    }
   ],
   "source": [
    "q = \"\"\"\n",
    "SELECT SUM(vowels) vowels, SUM(other) other\n",
    "FROM (SELECT name, CASE WHEN LEFT(UPPER(name), 1) IN ('A','E','I','O','U')\n",
    "                        THEN 1 ELSE 0 END AS vowels,\n",
    "          CASE WHEN LEFT(UPPER(name), 1) IN ('A','E','I','O','U')\n",
    "                       THEN 0 ELSE 1 END AS other\n",
    "         FROM accounts) t1;\n",
    "\"\"\"\n",
    "\n",
    "table = database.to_data_frame(q)\n",
    "table"
   ],
   "metadata": {
    "collapsed": false,
    "pycharm": {
     "name": "#%%\n"
    }
   }
  },
  {
   "cell_type": "markdown",
   "source": [
    "There are 80 company names that start with a vowel and 271 that start with other characters.\n",
    "Therefore 80/351 are vowels or 22.8%. Therefore, 77.2% of company names do not start with vowels.\n"
   ],
   "metadata": {
    "collapsed": false,
    "pycharm": {
     "name": "#%% md\n"
    }
   }
  },
  {
   "cell_type": "markdown",
   "source": [
    "### Quizzes POSITION & STRPOS\n"
   ],
   "metadata": {
    "collapsed": false,
    "pycharm": {
     "name": "#%% md\n"
    }
   }
  },
  {
   "cell_type": "markdown",
   "source": [
    "1. Use the accounts table to create first and last name columns\n",
    "that hold the first and last names for the primary_poc."
   ],
   "metadata": {
    "collapsed": false,
    "pycharm": {
     "name": "#%% md\n"
    }
   }
  },
  {
   "cell_type": "code",
   "execution_count": 7,
   "outputs": [
    {
     "data": {
      "text/html": "<div>\n<style scoped>\n    .dataframe tbody tr th:only-of-type {\n        vertical-align: middle;\n    }\n\n    .dataframe tbody tr th {\n        vertical-align: top;\n    }\n\n    .dataframe thead th {\n        text-align: right;\n    }\n</style>\n<table border=\"1\" class=\"dataframe\">\n  <thead>\n    <tr style=\"text-align: right;\">\n      <th></th>\n      <th>first_name</th>\n      <th>last_name</th>\n    </tr>\n  </thead>\n  <tbody>\n    <tr>\n      <td>0</td>\n      <td>Tamara</td>\n      <td>Tuma</td>\n    </tr>\n    <tr>\n      <td>1</td>\n      <td>Sung</td>\n      <td>Shields</td>\n    </tr>\n    <tr>\n      <td>2</td>\n      <td>Jodee</td>\n      <td>Lupo</td>\n    </tr>\n    <tr>\n      <td>3</td>\n      <td>Serafina</td>\n      <td>Banda</td>\n    </tr>\n    <tr>\n      <td>4</td>\n      <td>Angeles</td>\n      <td>Crusoe</td>\n    </tr>\n    <tr>\n      <td>...</td>\n      <td>...</td>\n      <td>...</td>\n    </tr>\n    <tr>\n      <td>346</td>\n      <td>Buffy</td>\n      <td>Azure</td>\n    </tr>\n    <tr>\n      <td>347</td>\n      <td>Esta</td>\n      <td>Engelhardt</td>\n    </tr>\n    <tr>\n      <td>348</td>\n      <td>Khadijah</td>\n      <td>Riemann</td>\n    </tr>\n    <tr>\n      <td>349</td>\n      <td>Deanne</td>\n      <td>Hertlein</td>\n    </tr>\n    <tr>\n      <td>350</td>\n      <td>Jewell</td>\n      <td>Likes</td>\n    </tr>\n  </tbody>\n</table>\n<p>351 rows × 2 columns</p>\n</div>",
      "text/plain": "    first_name   last_name\n0       Tamara        Tuma\n1         Sung     Shields\n2        Jodee        Lupo\n3     Serafina       Banda\n4      Angeles      Crusoe\n..         ...         ...\n346      Buffy       Azure\n347       Esta  Engelhardt\n348   Khadijah     Riemann\n349     Deanne    Hertlein\n350     Jewell       Likes\n\n[351 rows x 2 columns]"
     },
     "execution_count": 7,
     "metadata": {},
     "output_type": "execute_result"
    }
   ],
   "source": [
    "q = \"\"\"\n",
    "SELECT LEFT(primary_poc, STRPOS(primary_poc, ' ') -1 ) first_name,\n",
    "RIGHT(primary_poc, LENGTH(primary_poc) - STRPOS(primary_poc, ' ')) last_name\n",
    "FROM accounts;\n",
    "\"\"\"\n",
    "\n",
    "table = database.to_data_frame(q)\n",
    "table"
   ],
   "metadata": {
    "collapsed": false,
    "pycharm": {
     "name": "#%%\n"
    }
   }
  },
  {
   "cell_type": "markdown",
   "source": [
    "2. Now see if you can do the same thing for every rep name in the sales_reps table.\n",
    "Again provide first and last name columns."
   ],
   "metadata": {
    "collapsed": false,
    "pycharm": {
     "name": "#%% md\n"
    }
   }
  },
  {
   "cell_type": "code",
   "execution_count": 8,
   "outputs": [
    {
     "data": {
      "text/html": "<div>\n<style scoped>\n    .dataframe tbody tr th:only-of-type {\n        vertical-align: middle;\n    }\n\n    .dataframe tbody tr th {\n        vertical-align: top;\n    }\n\n    .dataframe thead th {\n        text-align: right;\n    }\n</style>\n<table border=\"1\" class=\"dataframe\">\n  <thead>\n    <tr style=\"text-align: right;\">\n      <th></th>\n      <th>first_name</th>\n      <th>last_name</th>\n    </tr>\n  </thead>\n  <tbody>\n    <tr>\n      <td>0</td>\n      <td>Samuel</td>\n      <td>Racine</td>\n    </tr>\n    <tr>\n      <td>1</td>\n      <td>Eugena</td>\n      <td>Esser</td>\n    </tr>\n    <tr>\n      <td>2</td>\n      <td>Michel</td>\n      <td>Averette</td>\n    </tr>\n    <tr>\n      <td>3</td>\n      <td>Renetta</td>\n      <td>Carew</td>\n    </tr>\n    <tr>\n      <td>4</td>\n      <td>Cara</td>\n      <td>Clarke</td>\n    </tr>\n    <tr>\n      <td>5</td>\n      <td>Lavera</td>\n      <td>Oles</td>\n    </tr>\n    <tr>\n      <td>6</td>\n      <td>Elba</td>\n      <td>Felder</td>\n    </tr>\n    <tr>\n      <td>7</td>\n      <td>Shawanda</td>\n      <td>Selke</td>\n    </tr>\n    <tr>\n      <td>8</td>\n      <td>Sibyl</td>\n      <td>Lauria</td>\n    </tr>\n    <tr>\n      <td>9</td>\n      <td>Necole</td>\n      <td>Victory</td>\n    </tr>\n    <tr>\n      <td>10</td>\n      <td>Ernestine</td>\n      <td>Pickron</td>\n    </tr>\n    <tr>\n      <td>11</td>\n      <td>Ayesha</td>\n      <td>Monica</td>\n    </tr>\n    <tr>\n      <td>12</td>\n      <td>Retha</td>\n      <td>Sears</td>\n    </tr>\n    <tr>\n      <td>13</td>\n      <td>Julia</td>\n      <td>Behrman</td>\n    </tr>\n    <tr>\n      <td>14</td>\n      <td>Tia</td>\n      <td>Amato</td>\n    </tr>\n    <tr>\n      <td>15</td>\n      <td>Akilah</td>\n      <td>Drinkard</td>\n    </tr>\n    <tr>\n      <td>16</td>\n      <td>Silvana</td>\n      <td>Virden</td>\n    </tr>\n    <tr>\n      <td>17</td>\n      <td>Nakesha</td>\n      <td>Renn</td>\n    </tr>\n    <tr>\n      <td>18</td>\n      <td>Elna</td>\n      <td>Condello</td>\n    </tr>\n    <tr>\n      <td>19</td>\n      <td>Gianna</td>\n      <td>Dossey</td>\n    </tr>\n    <tr>\n      <td>20</td>\n      <td>Debroah</td>\n      <td>Wardle</td>\n    </tr>\n    <tr>\n      <td>21</td>\n      <td>Sherlene</td>\n      <td>Wetherington</td>\n    </tr>\n    <tr>\n      <td>22</td>\n      <td>Chau</td>\n      <td>Rowles</td>\n    </tr>\n    <tr>\n      <td>23</td>\n      <td>Carletta</td>\n      <td>Kosinski</td>\n    </tr>\n    <tr>\n      <td>24</td>\n      <td>Charles</td>\n      <td>Bidwell</td>\n    </tr>\n    <tr>\n      <td>25</td>\n      <td>Cliff</td>\n      <td>Meints</td>\n    </tr>\n    <tr>\n      <td>26</td>\n      <td>Delilah</td>\n      <td>Krum</td>\n    </tr>\n    <tr>\n      <td>27</td>\n      <td>Kathleen</td>\n      <td>Lalonde</td>\n    </tr>\n    <tr>\n      <td>28</td>\n      <td>Julie</td>\n      <td>Starr</td>\n    </tr>\n    <tr>\n      <td>29</td>\n      <td>Cordell</td>\n      <td>Rieder</td>\n    </tr>\n    <tr>\n      <td>30</td>\n      <td>Earlie</td>\n      <td>Schleusner</td>\n    </tr>\n    <tr>\n      <td>31</td>\n      <td>Moon</td>\n      <td>Torian</td>\n    </tr>\n    <tr>\n      <td>32</td>\n      <td>Dorotha</td>\n      <td>Seawell</td>\n    </tr>\n    <tr>\n      <td>33</td>\n      <td>Maren</td>\n      <td>Musto</td>\n    </tr>\n    <tr>\n      <td>34</td>\n      <td>Vernita</td>\n      <td>Plump</td>\n    </tr>\n    <tr>\n      <td>35</td>\n      <td>Calvin</td>\n      <td>Ollison</td>\n    </tr>\n    <tr>\n      <td>36</td>\n      <td>Saran</td>\n      <td>Ram</td>\n    </tr>\n    <tr>\n      <td>37</td>\n      <td>Derrick</td>\n      <td>Boggess</td>\n    </tr>\n    <tr>\n      <td>38</td>\n      <td>Babette</td>\n      <td>Soukup</td>\n    </tr>\n    <tr>\n      <td>39</td>\n      <td>Nelle</td>\n      <td>Meaux</td>\n    </tr>\n    <tr>\n      <td>40</td>\n      <td>Soraya</td>\n      <td>Fulton</td>\n    </tr>\n    <tr>\n      <td>41</td>\n      <td>Brandie</td>\n      <td>Riva</td>\n    </tr>\n    <tr>\n      <td>42</td>\n      <td>Marquetta</td>\n      <td>Laycock</td>\n    </tr>\n    <tr>\n      <td>43</td>\n      <td>Hilma</td>\n      <td>Busick</td>\n    </tr>\n    <tr>\n      <td>44</td>\n      <td>Arica</td>\n      <td>Stoltzfus</td>\n    </tr>\n    <tr>\n      <td>45</td>\n      <td>Elwood</td>\n      <td>Shutt</td>\n    </tr>\n    <tr>\n      <td>46</td>\n      <td>Maryanna</td>\n      <td>Fiorentino</td>\n    </tr>\n    <tr>\n      <td>47</td>\n      <td>Georgianna</td>\n      <td>Chisholm</td>\n    </tr>\n    <tr>\n      <td>48</td>\n      <td>Micha</td>\n      <td>Woodford</td>\n    </tr>\n    <tr>\n      <td>49</td>\n      <td>Dawna</td>\n      <td>Agnew</td>\n    </tr>\n  </tbody>\n</table>\n</div>",
      "text/plain": "    first_name     last_name\n0       Samuel        Racine\n1       Eugena         Esser\n2       Michel      Averette\n3      Renetta         Carew\n4         Cara        Clarke\n5       Lavera          Oles\n6         Elba        Felder\n7     Shawanda         Selke\n8        Sibyl        Lauria\n9       Necole       Victory\n10   Ernestine       Pickron\n11      Ayesha        Monica\n12       Retha         Sears\n13       Julia       Behrman\n14         Tia         Amato\n15      Akilah      Drinkard\n16     Silvana        Virden\n17     Nakesha          Renn\n18        Elna      Condello\n19      Gianna        Dossey\n20     Debroah        Wardle\n21    Sherlene  Wetherington\n22        Chau        Rowles\n23    Carletta      Kosinski\n24     Charles       Bidwell\n25       Cliff        Meints\n26     Delilah          Krum\n27    Kathleen       Lalonde\n28       Julie         Starr\n29     Cordell        Rieder\n30      Earlie    Schleusner\n31        Moon        Torian\n32     Dorotha       Seawell\n33       Maren         Musto\n34     Vernita         Plump\n35      Calvin       Ollison\n36       Saran           Ram\n37     Derrick       Boggess\n38     Babette        Soukup\n39       Nelle         Meaux\n40      Soraya        Fulton\n41     Brandie          Riva\n42   Marquetta       Laycock\n43       Hilma        Busick\n44       Arica     Stoltzfus\n45      Elwood         Shutt\n46    Maryanna    Fiorentino\n47  Georgianna      Chisholm\n48       Micha      Woodford\n49       Dawna         Agnew"
     },
     "execution_count": 8,
     "metadata": {},
     "output_type": "execute_result"
    }
   ],
   "source": [
    "q = \"\"\"\n",
    "SELECT LEFT(name, STRPOS(name, ' ') -1 ) first_name,\n",
    "       RIGHT(name, LENGTH(name) - STRPOS(name, ' ')) last_name\n",
    "FROM sales_reps;\n",
    "\"\"\"\n",
    "\n",
    "table = database.to_data_frame(q)\n",
    "table"
   ],
   "metadata": {
    "collapsed": false,
    "pycharm": {
     "name": "#%%\n"
    }
   }
  },
  {
   "cell_type": "markdown",
   "source": [
    "### Concat examples"
   ],
   "metadata": {
    "collapsed": false,
    "pycharm": {
     "name": "#%% md\n"
    }
   }
  },
  {
   "cell_type": "markdown",
   "source": [
    "1. Each company in the accounts table wants to create an email address for each primary_poc.\n",
    "The email address should be\n",
    "the first name of the primary_poc \".\" last name primary_poc @ company name .com."
   ],
   "metadata": {
    "collapsed": false,
    "pycharm": {
     "name": "#%% md\n"
    }
   }
  },
  {
   "cell_type": "code",
   "execution_count": 10,
   "outputs": [
    {
     "data": {
      "text/html": "<div>\n<style scoped>\n    .dataframe tbody tr th:only-of-type {\n        vertical-align: middle;\n    }\n\n    .dataframe tbody tr th {\n        vertical-align: top;\n    }\n\n    .dataframe thead th {\n        text-align: right;\n    }\n</style>\n<table border=\"1\" class=\"dataframe\">\n  <thead>\n    <tr style=\"text-align: right;\">\n      <th></th>\n      <th>first_name</th>\n      <th>last_name</th>\n      <th>concat</th>\n    </tr>\n  </thead>\n  <tbody>\n    <tr>\n      <td>0</td>\n      <td>Tamara</td>\n      <td>Tuma</td>\n      <td>Tamara.Tuma@Walmart.com</td>\n    </tr>\n    <tr>\n      <td>1</td>\n      <td>Sung</td>\n      <td>Shields</td>\n      <td>Sung.Shields@Exxon Mobil.com</td>\n    </tr>\n    <tr>\n      <td>2</td>\n      <td>Jodee</td>\n      <td>Lupo</td>\n      <td>Jodee.Lupo@Apple.com</td>\n    </tr>\n    <tr>\n      <td>3</td>\n      <td>Serafina</td>\n      <td>Banda</td>\n      <td>Serafina.Banda@Berkshire Hathaway.com</td>\n    </tr>\n    <tr>\n      <td>4</td>\n      <td>Angeles</td>\n      <td>Crusoe</td>\n      <td>Angeles.Crusoe@McKesson.com</td>\n    </tr>\n    <tr>\n      <td>...</td>\n      <td>...</td>\n      <td>...</td>\n      <td>...</td>\n    </tr>\n    <tr>\n      <td>346</td>\n      <td>Buffy</td>\n      <td>Azure</td>\n      <td>Buffy.Azure@KKR.com</td>\n    </tr>\n    <tr>\n      <td>347</td>\n      <td>Esta</td>\n      <td>Engelhardt</td>\n      <td>Esta.Engelhardt@Oneok.com</td>\n    </tr>\n    <tr>\n      <td>348</td>\n      <td>Khadijah</td>\n      <td>Riemann</td>\n      <td>Khadijah.Riemann@Newmont Mining.com</td>\n    </tr>\n    <tr>\n      <td>349</td>\n      <td>Deanne</td>\n      <td>Hertlein</td>\n      <td>Deanne.Hertlein@PPL.com</td>\n    </tr>\n    <tr>\n      <td>350</td>\n      <td>Jewell</td>\n      <td>Likes</td>\n      <td>Jewell.Likes@SpartanNash.com</td>\n    </tr>\n  </tbody>\n</table>\n<p>351 rows × 3 columns</p>\n</div>",
      "text/plain": "    first_name   last_name                                 concat\n0       Tamara        Tuma                Tamara.Tuma@Walmart.com\n1         Sung     Shields           Sung.Shields@Exxon Mobil.com\n2        Jodee        Lupo                   Jodee.Lupo@Apple.com\n3     Serafina       Banda  Serafina.Banda@Berkshire Hathaway.com\n4      Angeles      Crusoe            Angeles.Crusoe@McKesson.com\n..         ...         ...                                    ...\n346      Buffy       Azure                    Buffy.Azure@KKR.com\n347       Esta  Engelhardt              Esta.Engelhardt@Oneok.com\n348   Khadijah     Riemann    Khadijah.Riemann@Newmont Mining.com\n349     Deanne    Hertlein                Deanne.Hertlein@PPL.com\n350     Jewell       Likes           Jewell.Likes@SpartanNash.com\n\n[351 rows x 3 columns]"
     },
     "execution_count": 10,
     "metadata": {},
     "output_type": "execute_result"
    }
   ],
   "source": [
    "q = \"\"\"\n",
    "WITH t1 AS (\n",
    " SELECT LEFT(primary_poc, STRPOS(primary_poc, ' ') -1 ) first_name,  RIGHT(primary_poc, LENGTH(primary_poc) - STRPOS(primary_poc, ' ')) last_name, name\n",
    " FROM accounts)\n",
    "SELECT first_name, last_name, CONCAT(first_name, '.', last_name, '@', name, '.com')\n",
    "FROM t1;\n",
    "\"\"\"\n",
    "\n",
    "table = database.to_data_frame(q)\n",
    "table"
   ],
   "metadata": {
    "collapsed": false,
    "pycharm": {
     "name": "#%%\n"
    }
   }
  },
  {
   "cell_type": "markdown",
   "source": [
    "2. You may have noticed that in the previous solution some of the company names include spaces,\n",
    "which will certainly not work in an email address.\n",
    "See if you can create an email address that will work by removing all of the spaces\n",
    "in the account name, but otherwise your solution should be just as in question 1.\n",
    "Some helpful documentation is [here](https://www.postgresql.org/docs/8.1/functions-string.html)."
   ],
   "metadata": {
    "collapsed": false,
    "pycharm": {
     "name": "#%% md\n"
    }
   }
  },
  {
   "cell_type": "code",
   "execution_count": 11,
   "outputs": [
    {
     "data": {
      "text/html": "<div>\n<style scoped>\n    .dataframe tbody tr th:only-of-type {\n        vertical-align: middle;\n    }\n\n    .dataframe tbody tr th {\n        vertical-align: top;\n    }\n\n    .dataframe thead th {\n        text-align: right;\n    }\n</style>\n<table border=\"1\" class=\"dataframe\">\n  <thead>\n    <tr style=\"text-align: right;\">\n      <th></th>\n      <th>first_name</th>\n      <th>last_name</th>\n      <th>concat</th>\n    </tr>\n  </thead>\n  <tbody>\n    <tr>\n      <td>0</td>\n      <td>Tamara</td>\n      <td>Tuma</td>\n      <td>Tamara.Tuma@Walmart.com</td>\n    </tr>\n    <tr>\n      <td>1</td>\n      <td>Sung</td>\n      <td>Shields</td>\n      <td>Sung.Shields@ExxonMobil.com</td>\n    </tr>\n    <tr>\n      <td>2</td>\n      <td>Jodee</td>\n      <td>Lupo</td>\n      <td>Jodee.Lupo@Apple.com</td>\n    </tr>\n    <tr>\n      <td>3</td>\n      <td>Serafina</td>\n      <td>Banda</td>\n      <td>Serafina.Banda@BerkshireHathaway.com</td>\n    </tr>\n    <tr>\n      <td>4</td>\n      <td>Angeles</td>\n      <td>Crusoe</td>\n      <td>Angeles.Crusoe@McKesson.com</td>\n    </tr>\n    <tr>\n      <td>...</td>\n      <td>...</td>\n      <td>...</td>\n      <td>...</td>\n    </tr>\n    <tr>\n      <td>346</td>\n      <td>Buffy</td>\n      <td>Azure</td>\n      <td>Buffy.Azure@KKR.com</td>\n    </tr>\n    <tr>\n      <td>347</td>\n      <td>Esta</td>\n      <td>Engelhardt</td>\n      <td>Esta.Engelhardt@Oneok.com</td>\n    </tr>\n    <tr>\n      <td>348</td>\n      <td>Khadijah</td>\n      <td>Riemann</td>\n      <td>Khadijah.Riemann@NewmontMining.com</td>\n    </tr>\n    <tr>\n      <td>349</td>\n      <td>Deanne</td>\n      <td>Hertlein</td>\n      <td>Deanne.Hertlein@PPL.com</td>\n    </tr>\n    <tr>\n      <td>350</td>\n      <td>Jewell</td>\n      <td>Likes</td>\n      <td>Jewell.Likes@SpartanNash.com</td>\n    </tr>\n  </tbody>\n</table>\n<p>351 rows × 3 columns</p>\n</div>",
      "text/plain": "    first_name   last_name                                concat\n0       Tamara        Tuma               Tamara.Tuma@Walmart.com\n1         Sung     Shields           Sung.Shields@ExxonMobil.com\n2        Jodee        Lupo                  Jodee.Lupo@Apple.com\n3     Serafina       Banda  Serafina.Banda@BerkshireHathaway.com\n4      Angeles      Crusoe           Angeles.Crusoe@McKesson.com\n..         ...         ...                                   ...\n346      Buffy       Azure                   Buffy.Azure@KKR.com\n347       Esta  Engelhardt             Esta.Engelhardt@Oneok.com\n348   Khadijah     Riemann    Khadijah.Riemann@NewmontMining.com\n349     Deanne    Hertlein               Deanne.Hertlein@PPL.com\n350     Jewell       Likes          Jewell.Likes@SpartanNash.com\n\n[351 rows x 3 columns]"
     },
     "execution_count": 11,
     "metadata": {},
     "output_type": "execute_result"
    }
   ],
   "source": [
    "q = \"\"\"\n",
    "WITH t1 AS (\n",
    " SELECT LEFT(primary_poc, STRPOS(primary_poc, ' ') -1 ) first_name,  RIGHT(primary_poc, LENGTH(primary_poc) - STRPOS(primary_poc, ' ')) last_name, name\n",
    " FROM accounts)\n",
    "SELECT first_name, last_name, CONCAT(first_name, '.', last_name, '@', REPLACE(name, ' ', ''), '.com')\n",
    "FROM  t1;\n",
    "\"\"\"\n",
    "\n",
    "table = database.to_data_frame(q)\n",
    "table"
   ],
   "metadata": {
    "collapsed": false,
    "pycharm": {
     "name": "#%%\n"
    }
   }
  },
  {
   "cell_type": "markdown",
   "source": [
    "3. We would also like to create an initial password,\n",
    "which they will change after their first log in.\n",
    "The first password will be the first letter of the primary_poc's first name (lowercase),\n",
    "then the last letter of their first name (lowercase),\n",
    "the first letter of their last name (lowercase),\n",
    "the last letter of their last name (lowercase),\n",
    "the number of letters in their first name,\n",
    "the number of letters in their last name,\n",
    "and then the name of the company they are working with,\n",
    "all capitalized with no spaces."
   ],
   "metadata": {
    "collapsed": false,
    "pycharm": {
     "name": "#%% md\n"
    }
   }
  },
  {
   "cell_type": "code",
   "execution_count": 14,
   "outputs": [
    {
     "data": {
      "text/html": "<div>\n<style scoped>\n    .dataframe tbody tr th:only-of-type {\n        vertical-align: middle;\n    }\n\n    .dataframe tbody tr th {\n        vertical-align: top;\n    }\n\n    .dataframe thead th {\n        text-align: right;\n    }\n</style>\n<table border=\"1\" class=\"dataframe\">\n  <thead>\n    <tr style=\"text-align: right;\">\n      <th></th>\n      <th>first_name</th>\n      <th>last_name</th>\n      <th>email</th>\n      <th>password</th>\n    </tr>\n  </thead>\n  <tbody>\n    <tr>\n      <td>0</td>\n      <td>Tamara</td>\n      <td>Tuma</td>\n      <td>Tamara.Tuma@Walmart.com</td>\n      <td>tata64WALMART</td>\n    </tr>\n    <tr>\n      <td>1</td>\n      <td>Sung</td>\n      <td>Shields</td>\n      <td>Sung.Shields@Exxon Mobil.com</td>\n      <td>sgss47EXXONMOBIL</td>\n    </tr>\n    <tr>\n      <td>2</td>\n      <td>Jodee</td>\n      <td>Lupo</td>\n      <td>Jodee.Lupo@Apple.com</td>\n      <td>jelo54APPLE</td>\n    </tr>\n    <tr>\n      <td>3</td>\n      <td>Serafina</td>\n      <td>Banda</td>\n      <td>Serafina.Banda@Berkshire Hathaway.com</td>\n      <td>saba85BERKSHIREHATHAWAY</td>\n    </tr>\n    <tr>\n      <td>4</td>\n      <td>Angeles</td>\n      <td>Crusoe</td>\n      <td>Angeles.Crusoe@McKesson.com</td>\n      <td>asce76MCKESSON</td>\n    </tr>\n    <tr>\n      <td>...</td>\n      <td>...</td>\n      <td>...</td>\n      <td>...</td>\n      <td>...</td>\n    </tr>\n    <tr>\n      <td>346</td>\n      <td>Buffy</td>\n      <td>Azure</td>\n      <td>Buffy.Azure@KKR.com</td>\n      <td>byae55KKR</td>\n    </tr>\n    <tr>\n      <td>347</td>\n      <td>Esta</td>\n      <td>Engelhardt</td>\n      <td>Esta.Engelhardt@Oneok.com</td>\n      <td>eaet410ONEOK</td>\n    </tr>\n    <tr>\n      <td>348</td>\n      <td>Khadijah</td>\n      <td>Riemann</td>\n      <td>Khadijah.Riemann@Newmont Mining.com</td>\n      <td>khrn87NEWMONTMINING</td>\n    </tr>\n    <tr>\n      <td>349</td>\n      <td>Deanne</td>\n      <td>Hertlein</td>\n      <td>Deanne.Hertlein@PPL.com</td>\n      <td>dehn68PPL</td>\n    </tr>\n    <tr>\n      <td>350</td>\n      <td>Jewell</td>\n      <td>Likes</td>\n      <td>Jewell.Likes@SpartanNash.com</td>\n      <td>jlls65SPARTANNASH</td>\n    </tr>\n  </tbody>\n</table>\n<p>351 rows × 4 columns</p>\n</div>",
      "text/plain": "    first_name   last_name                                  email  \\\n0       Tamara        Tuma                Tamara.Tuma@Walmart.com   \n1         Sung     Shields           Sung.Shields@Exxon Mobil.com   \n2        Jodee        Lupo                   Jodee.Lupo@Apple.com   \n3     Serafina       Banda  Serafina.Banda@Berkshire Hathaway.com   \n4      Angeles      Crusoe            Angeles.Crusoe@McKesson.com   \n..         ...         ...                                    ...   \n346      Buffy       Azure                    Buffy.Azure@KKR.com   \n347       Esta  Engelhardt              Esta.Engelhardt@Oneok.com   \n348   Khadijah     Riemann    Khadijah.Riemann@Newmont Mining.com   \n349     Deanne    Hertlein                Deanne.Hertlein@PPL.com   \n350     Jewell       Likes           Jewell.Likes@SpartanNash.com   \n\n                    password  \n0              tata64WALMART  \n1           sgss47EXXONMOBIL  \n2                jelo54APPLE  \n3    saba85BERKSHIREHATHAWAY  \n4             asce76MCKESSON  \n..                       ...  \n346                byae55KKR  \n347             eaet410ONEOK  \n348      khrn87NEWMONTMINING  \n349                dehn68PPL  \n350        jlls65SPARTANNASH  \n\n[351 rows x 4 columns]"
     },
     "execution_count": 14,
     "metadata": {},
     "output_type": "execute_result"
    }
   ],
   "source": [
    "q = \"\"\"\n",
    "WITH t1 AS (\n",
    " SELECT LEFT(primary_poc,     STRPOS(primary_poc, ' ') -1 ) first_name,  RIGHT(primary_poc, LENGTH(primary_poc) - STRPOS(primary_poc, ' ')) last_name, name\n",
    " FROM accounts)\n",
    "SELECT first_name, last_name, CONCAT(first_name, '.', last_name, '@', name, '.com') as email,\n",
    "    LEFT(LOWER(first_name), 1) || RIGHT(LOWER(first_name), 1) || LEFT(LOWER(last_name), 1) || RIGHT(LOWER(last_name), 1) || LENGTH(first_name) || LENGTH(last_name) || REPLACE(UPPER(name), ' ', '') as password\n",
    "FROM t1;\n",
    "\"\"\"\n",
    "\n",
    "table = database.to_data_frame(q)\n",
    "table"
   ],
   "metadata": {
    "collapsed": false,
    "pycharm": {
     "name": "#%%\n"
    }
   }
  },
  {
   "cell_type": "markdown",
   "source": [
    "### Cast examples"
   ],
   "metadata": {
    "collapsed": false,
    "pycharm": {
     "name": "#%% md\n"
    }
   }
  },
  {
   "cell_type": "markdown",
   "source": [
    "No examples are given as all of the data in this particular dataset were already clean."
   ],
   "metadata": {
    "collapsed": false,
    "pycharm": {
     "name": "#%% md\n"
    }
   }
  },
  {
   "cell_type": "markdown",
   "source": [
    "###  Coalesce"
   ],
   "metadata": {
    "collapsed": false,
    "pycharm": {
     "name": "#%% md\n"
    }
   }
  },
  {
   "cell_type": "markdown",
   "source": [
    "1. Run the query below to notice the row with missing data."
   ],
   "metadata": {
    "collapsed": false,
    "pycharm": {
     "name": "#%% md\n"
    }
   }
  },
  {
   "cell_type": "code",
   "source": [
    "q = \"\"\"\n",
    "SELECT *\n",
    "FROM accounts a\n",
    "LEFT JOIN orders o\n",
    "ON a.id = o.account_id\n",
    "WHERE o.total IS NULL;\n",
    "\"\"\"\n",
    "\n",
    "table = database.to_data_frame(q)\n",
    "table"
   ],
   "metadata": {
    "collapsed": false,
    "pycharm": {
     "name": "#%%\n"
    }
   },
   "execution_count": 15,
   "outputs": [
    {
     "data": {
      "text/html": "<div>\n<style scoped>\n    .dataframe tbody tr th:only-of-type {\n        vertical-align: middle;\n    }\n\n    .dataframe tbody tr th {\n        vertical-align: top;\n    }\n\n    .dataframe thead th {\n        text-align: right;\n    }\n</style>\n<table border=\"1\" class=\"dataframe\">\n  <thead>\n    <tr style=\"text-align: right;\">\n      <th></th>\n      <th>id</th>\n      <th>name</th>\n      <th>website</th>\n      <th>lat</th>\n      <th>long</th>\n      <th>primary_poc</th>\n      <th>sales_rep_id</th>\n      <th>id</th>\n      <th>account_id</th>\n      <th>occurred_at</th>\n      <th>standard_qty</th>\n      <th>gloss_qty</th>\n      <th>poster_qty</th>\n      <th>total</th>\n      <th>standard_amt_usd</th>\n      <th>gloss_amt_usd</th>\n      <th>poster_amt_usd</th>\n      <th>total_amt_usd</th>\n    </tr>\n  </thead>\n  <tbody>\n    <tr>\n      <td>0</td>\n      <td>1731</td>\n      <td>Goldman Sachs Group</td>\n      <td>www.gs.com</td>\n      <td>40.757444</td>\n      <td>-73.967309</td>\n      <td>Loris Manfredi</td>\n      <td>321690</td>\n      <td>None</td>\n      <td>None</td>\n      <td>None</td>\n      <td>None</td>\n      <td>None</td>\n      <td>None</td>\n      <td>None</td>\n      <td>None</td>\n      <td>None</td>\n      <td>None</td>\n      <td>None</td>\n    </tr>\n  </tbody>\n</table>\n</div>",
      "text/plain": "     id                 name     website        lat       long  \\\n0  1731  Goldman Sachs Group  www.gs.com  40.757444 -73.967309   \n\n      primary_poc  sales_rep_id    id account_id occurred_at standard_qty  \\\n0  Loris Manfredi        321690  None       None        None         None   \n\n  gloss_qty poster_qty total standard_amt_usd gloss_amt_usd poster_amt_usd  \\\n0      None       None  None             None          None           None   \n\n  total_amt_usd  \n0          None  "
     },
     "execution_count": 15,
     "metadata": {},
     "output_type": "execute_result"
    }
   ]
  },
  {
   "cell_type": "markdown",
   "source": [
    "2. Use COALESCE to fill in the accounts.id column\n",
    "with the account.id for the NULL value for the table in 1."
   ],
   "metadata": {
    "collapsed": false,
    "pycharm": {
     "name": "#%% md\n"
    }
   }
  },
  {
   "cell_type": "code",
   "execution_count": 16,
   "outputs": [
    {
     "data": {
      "text/html": "<div>\n<style scoped>\n    .dataframe tbody tr th:only-of-type {\n        vertical-align: middle;\n    }\n\n    .dataframe tbody tr th {\n        vertical-align: top;\n    }\n\n    .dataframe thead th {\n        text-align: right;\n    }\n</style>\n<table border=\"1\" class=\"dataframe\">\n  <thead>\n    <tr style=\"text-align: right;\">\n      <th></th>\n      <th>filled_id</th>\n      <th>name</th>\n      <th>website</th>\n      <th>lat</th>\n      <th>long</th>\n      <th>primary_poc</th>\n      <th>sales_rep_id</th>\n      <th>id</th>\n      <th>account_id</th>\n      <th>occurred_at</th>\n      <th>standard_qty</th>\n      <th>gloss_qty</th>\n      <th>poster_qty</th>\n      <th>total</th>\n      <th>standard_amt_usd</th>\n      <th>gloss_amt_usd</th>\n      <th>poster_amt_usd</th>\n      <th>total_amt_usd</th>\n    </tr>\n  </thead>\n  <tbody>\n    <tr>\n      <td>0</td>\n      <td>1731</td>\n      <td>Goldman Sachs Group</td>\n      <td>www.gs.com</td>\n      <td>40.757444</td>\n      <td>-73.967309</td>\n      <td>Loris Manfredi</td>\n      <td>321690</td>\n      <td>None</td>\n      <td>None</td>\n      <td>None</td>\n      <td>None</td>\n      <td>None</td>\n      <td>None</td>\n      <td>None</td>\n      <td>None</td>\n      <td>None</td>\n      <td>None</td>\n      <td>None</td>\n    </tr>\n  </tbody>\n</table>\n</div>",
      "text/plain": "   filled_id                 name     website        lat       long  \\\n0       1731  Goldman Sachs Group  www.gs.com  40.757444 -73.967309   \n\n      primary_poc  sales_rep_id    id account_id occurred_at standard_qty  \\\n0  Loris Manfredi        321690  None       None        None         None   \n\n  gloss_qty poster_qty total standard_amt_usd gloss_amt_usd poster_amt_usd  \\\n0      None       None  None             None          None           None   \n\n  total_amt_usd  \n0          None  "
     },
     "execution_count": 16,
     "metadata": {},
     "output_type": "execute_result"
    }
   ],
   "source": [
    "q = \"\"\"\n",
    "SELECT COALESCE(a.id, a.id) filled_id, a.name, a.website, a.lat, a.long, a.primary_poc, a.sales_rep_id, o.*\n",
    "FROM accounts a\n",
    "LEFT JOIN orders o\n",
    "ON a.id = o.account_id\n",
    "WHERE o.total IS NULL;\n",
    "\"\"\"\n",
    "\n",
    "table = database.to_data_frame(q)\n",
    "table"
   ],
   "metadata": {
    "collapsed": false,
    "pycharm": {
     "name": "#%%\n"
    }
   }
  },
  {
   "cell_type": "markdown",
   "source": [
    "3. Use COALESCE to fill in the orders.account_id column\n",
    "with the account.id for the NULL value for the table in 1."
   ],
   "metadata": {
    "collapsed": false
   }
  },
  {
   "cell_type": "code",
   "execution_count": 17,
   "outputs": [
    {
     "data": {
      "text/html": "<div>\n<style scoped>\n    .dataframe tbody tr th:only-of-type {\n        vertical-align: middle;\n    }\n\n    .dataframe tbody tr th {\n        vertical-align: top;\n    }\n\n    .dataframe thead th {\n        text-align: right;\n    }\n</style>\n<table border=\"1\" class=\"dataframe\">\n  <thead>\n    <tr style=\"text-align: right;\">\n      <th></th>\n      <th>filled_id</th>\n      <th>name</th>\n      <th>website</th>\n      <th>lat</th>\n      <th>long</th>\n      <th>primary_poc</th>\n      <th>sales_rep_id</th>\n      <th>account_id</th>\n      <th>occurred_at</th>\n      <th>standard_qty</th>\n      <th>gloss_qty</th>\n      <th>poster_qty</th>\n      <th>total</th>\n      <th>standard_amt_usd</th>\n      <th>gloss_amt_usd</th>\n      <th>poster_amt_usd</th>\n      <th>total_amt_usd</th>\n    </tr>\n  </thead>\n  <tbody>\n    <tr>\n      <td>0</td>\n      <td>1731</td>\n      <td>Goldman Sachs Group</td>\n      <td>www.gs.com</td>\n      <td>40.757444</td>\n      <td>-73.967309</td>\n      <td>Loris Manfredi</td>\n      <td>321690</td>\n      <td>1731</td>\n      <td>None</td>\n      <td>None</td>\n      <td>None</td>\n      <td>None</td>\n      <td>None</td>\n      <td>None</td>\n      <td>None</td>\n      <td>None</td>\n      <td>None</td>\n    </tr>\n  </tbody>\n</table>\n</div>",
      "text/plain": "   filled_id                 name     website        lat       long  \\\n0       1731  Goldman Sachs Group  www.gs.com  40.757444 -73.967309   \n\n      primary_poc  sales_rep_id  account_id occurred_at standard_qty  \\\n0  Loris Manfredi        321690        1731        None         None   \n\n  gloss_qty poster_qty total standard_amt_usd gloss_amt_usd poster_amt_usd  \\\n0      None       None  None             None          None           None   \n\n  total_amt_usd  \n0          None  "
     },
     "execution_count": 17,
     "metadata": {},
     "output_type": "execute_result"
    }
   ],
   "source": [
    "q = \"\"\"\n",
    "SELECT\n",
    "  COALESCE(a.id, a.id) filled_id, a.name, a.website, a.lat, a.long, a.primary_poc, a.sales_rep_id,\n",
    "  COALESCE(o.account_id, a.id) account_id, o.occurred_at, o.standard_qty, o.gloss_qty, o.poster_qty, o.total, o.standard_amt_usd, o.gloss_amt_usd, o.poster_amt_usd, o.total_amt_usd\n",
    "FROM accounts a\n",
    "LEFT JOIN orders o\n",
    "ON a.id = o.account_id\n",
    "WHERE o.total IS NULL;\n",
    "\"\"\"\n",
    "\n",
    "table = database.to_data_frame(q)\n",
    "table"
   ],
   "metadata": {
    "collapsed": false,
    "pycharm": {
     "name": "#%%\n"
    }
   }
  },
  {
   "cell_type": "markdown",
   "source": [
    "4. Use COALESCE to fill in each of the qty and usd column with 0 for table in 1."
   ],
   "metadata": {
    "collapsed": false
   }
  },
  {
   "cell_type": "code",
   "execution_count": 18,
   "outputs": [
    {
     "data": {
      "text/html": "<div>\n<style scoped>\n    .dataframe tbody tr th:only-of-type {\n        vertical-align: middle;\n    }\n\n    .dataframe tbody tr th {\n        vertical-align: top;\n    }\n\n    .dataframe thead th {\n        text-align: right;\n    }\n</style>\n<table border=\"1\" class=\"dataframe\">\n  <thead>\n    <tr style=\"text-align: right;\">\n      <th></th>\n      <th>filled_id</th>\n      <th>name</th>\n      <th>website</th>\n      <th>lat</th>\n      <th>long</th>\n      <th>primary_poc</th>\n      <th>sales_rep_id</th>\n      <th>account_id</th>\n      <th>occurred_at</th>\n      <th>standard_qty</th>\n      <th>gloss_qty</th>\n      <th>poster_qty</th>\n      <th>total</th>\n      <th>standard_amt_usd</th>\n      <th>gloss_amt_usd</th>\n      <th>poster_amt_usd</th>\n      <th>total_amt_usd</th>\n    </tr>\n  </thead>\n  <tbody>\n    <tr>\n      <td>0</td>\n      <td>1731</td>\n      <td>Goldman Sachs Group</td>\n      <td>www.gs.com</td>\n      <td>40.757444</td>\n      <td>-73.967309</td>\n      <td>Loris Manfredi</td>\n      <td>321690</td>\n      <td>1731</td>\n      <td>None</td>\n      <td>0</td>\n      <td>0</td>\n      <td>0</td>\n      <td>0</td>\n      <td>0.0</td>\n      <td>0.0</td>\n      <td>0.0</td>\n      <td>0.0</td>\n    </tr>\n  </tbody>\n</table>\n</div>",
      "text/plain": "   filled_id                 name     website        lat       long  \\\n0       1731  Goldman Sachs Group  www.gs.com  40.757444 -73.967309   \n\n      primary_poc  sales_rep_id  account_id occurred_at  standard_qty  \\\n0  Loris Manfredi        321690        1731        None             0   \n\n   gloss_qty  poster_qty  total  standard_amt_usd  gloss_amt_usd  \\\n0          0           0      0               0.0            0.0   \n\n   poster_amt_usd  total_amt_usd  \n0             0.0            0.0  "
     },
     "execution_count": 18,
     "metadata": {},
     "output_type": "execute_result"
    }
   ],
   "source": [
    "q = \"\"\"\n",
    "SELECT\n",
    "  COALESCE(a.id, a.id) filled_id, a.name, a.website, a.lat, a.long, a.primary_poc, a.sales_rep_id,\n",
    "  COALESCE(o.account_id, a.id) account_id, o.occurred_at, COALESCE(o.standard_qty, 0) standard_qty,\n",
    "  COALESCE(o.gloss_qty,0) gloss_qty, COALESCE(o.poster_qty,0) poster_qty, COALESCE(o.total,0) total,\n",
    "  COALESCE(o.standard_amt_usd,0) standard_amt_usd, COALESCE(o.gloss_amt_usd,0) gloss_amt_usd,\n",
    "  COALESCE(o.poster_amt_usd,0) poster_amt_usd, COALESCE(o.total_amt_usd,0) total_amt_usd\n",
    "FROM accounts a\n",
    "LEFT JOIN orders o\n",
    "ON a.id = o.account_id\n",
    "WHERE o.total IS NULL;\n",
    "\"\"\"\n",
    "\n",
    "table = database.to_data_frame(q)\n",
    "table"
   ],
   "metadata": {
    "collapsed": false,
    "pycharm": {
     "name": "#%%\n"
    }
   }
  },
  {
   "cell_type": "markdown",
   "source": [
    "5. Run the query in 1 with the WHERE removed and COUNT\n",
    "the number of ids."
   ],
   "metadata": {
    "collapsed": false
   }
  },
  {
   "cell_type": "code",
   "execution_count": 19,
   "outputs": [
    {
     "data": {
      "text/html": "<div>\n<style scoped>\n    .dataframe tbody tr th:only-of-type {\n        vertical-align: middle;\n    }\n\n    .dataframe tbody tr th {\n        vertical-align: top;\n    }\n\n    .dataframe thead th {\n        text-align: right;\n    }\n</style>\n<table border=\"1\" class=\"dataframe\">\n  <thead>\n    <tr style=\"text-align: right;\">\n      <th></th>\n      <th>count</th>\n    </tr>\n  </thead>\n  <tbody>\n    <tr>\n      <td>0</td>\n      <td>6913</td>\n    </tr>\n  </tbody>\n</table>\n</div>",
      "text/plain": "   count\n0   6913"
     },
     "execution_count": 19,
     "metadata": {},
     "output_type": "execute_result"
    }
   ],
   "source": [
    "q = \"\"\"\n",
    "SELECT COUNT(*)\n",
    "FROM accounts a\n",
    "LEFT JOIN orders o\n",
    "ON a.id = o.account_id;\n",
    "\"\"\"\n",
    "\n",
    "table = database.to_data_frame(q)\n",
    "table"
   ],
   "metadata": {
    "collapsed": false,
    "pycharm": {
     "name": "#%%\n"
    }
   }
  },
  {
   "cell_type": "markdown",
   "source": [
    "6. Run the query in 5, but with the COALESCE function\n",
    "used in questions 2 through 4."
   ],
   "metadata": {
    "collapsed": false
   }
  },
  {
   "cell_type": "code",
   "execution_count": 22,
   "outputs": [
    {
     "data": {
      "text/html": "<div>\n<style scoped>\n    .dataframe tbody tr th:only-of-type {\n        vertical-align: middle;\n    }\n\n    .dataframe tbody tr th {\n        vertical-align: top;\n    }\n\n    .dataframe thead th {\n        text-align: right;\n    }\n</style>\n<table border=\"1\" class=\"dataframe\">\n  <thead>\n    <tr style=\"text-align: right;\">\n      <th></th>\n      <th>filled_id</th>\n      <th>name</th>\n      <th>website</th>\n      <th>lat</th>\n      <th>long</th>\n      <th>primary_poc</th>\n      <th>sales_rep_id</th>\n      <th>account_id</th>\n      <th>occurred_at</th>\n      <th>standard_qty</th>\n      <th>gloss_qty</th>\n      <th>poster_qty</th>\n      <th>total</th>\n      <th>standard_amt_usd</th>\n      <th>gloss_amt_usd</th>\n      <th>poster_amt_usd</th>\n      <th>total_amt_usd</th>\n    </tr>\n  </thead>\n  <tbody>\n    <tr>\n      <td>0</td>\n      <td>1001</td>\n      <td>Walmart</td>\n      <td>www.walmart.com</td>\n      <td>40.238496</td>\n      <td>-75.103297</td>\n      <td>Tamara Tuma</td>\n      <td>321500</td>\n      <td>1001</td>\n      <td>2015-10-06 17:31:14</td>\n      <td>123</td>\n      <td>22</td>\n      <td>24</td>\n      <td>169</td>\n      <td>613.77</td>\n      <td>164.78</td>\n      <td>194.88</td>\n      <td>973.43</td>\n    </tr>\n    <tr>\n      <td>1</td>\n      <td>1001</td>\n      <td>Walmart</td>\n      <td>www.walmart.com</td>\n      <td>40.238496</td>\n      <td>-75.103297</td>\n      <td>Tamara Tuma</td>\n      <td>321500</td>\n      <td>1001</td>\n      <td>2015-11-05 03:34:33</td>\n      <td>190</td>\n      <td>41</td>\n      <td>57</td>\n      <td>288</td>\n      <td>948.10</td>\n      <td>307.09</td>\n      <td>462.84</td>\n      <td>1718.03</td>\n    </tr>\n    <tr>\n      <td>2</td>\n      <td>1001</td>\n      <td>Walmart</td>\n      <td>www.walmart.com</td>\n      <td>40.238496</td>\n      <td>-75.103297</td>\n      <td>Tamara Tuma</td>\n      <td>321500</td>\n      <td>1001</td>\n      <td>2015-12-04 04:21:55</td>\n      <td>85</td>\n      <td>47</td>\n      <td>0</td>\n      <td>132</td>\n      <td>424.15</td>\n      <td>352.03</td>\n      <td>0.00</td>\n      <td>776.18</td>\n    </tr>\n    <tr>\n      <td>3</td>\n      <td>1001</td>\n      <td>Walmart</td>\n      <td>www.walmart.com</td>\n      <td>40.238496</td>\n      <td>-75.103297</td>\n      <td>Tamara Tuma</td>\n      <td>321500</td>\n      <td>1001</td>\n      <td>2016-01-02 01:18:24</td>\n      <td>144</td>\n      <td>32</td>\n      <td>0</td>\n      <td>176</td>\n      <td>718.56</td>\n      <td>239.68</td>\n      <td>0.00</td>\n      <td>958.24</td>\n    </tr>\n    <tr>\n      <td>4</td>\n      <td>1001</td>\n      <td>Walmart</td>\n      <td>www.walmart.com</td>\n      <td>40.238496</td>\n      <td>-75.103297</td>\n      <td>Tamara Tuma</td>\n      <td>321500</td>\n      <td>1001</td>\n      <td>2016-02-01 19:27:27</td>\n      <td>108</td>\n      <td>29</td>\n      <td>28</td>\n      <td>165</td>\n      <td>538.92</td>\n      <td>217.21</td>\n      <td>227.36</td>\n      <td>983.49</td>\n    </tr>\n    <tr>\n      <td>...</td>\n      <td>...</td>\n      <td>...</td>\n      <td>...</td>\n      <td>...</td>\n      <td>...</td>\n      <td>...</td>\n      <td>...</td>\n      <td>...</td>\n      <td>...</td>\n      <td>...</td>\n      <td>...</td>\n      <td>...</td>\n      <td>...</td>\n      <td>...</td>\n      <td>...</td>\n      <td>...</td>\n      <td>...</td>\n    </tr>\n    <tr>\n      <td>6908</td>\n      <td>4501</td>\n      <td>SpartanNash</td>\n      <td>www.spartannash.com</td>\n      <td>45.555651</td>\n      <td>-122.657145</td>\n      <td>Jewell Likes</td>\n      <td>321970</td>\n      <td>4501</td>\n      <td>2016-07-29 19:58:32</td>\n      <td>5</td>\n      <td>91</td>\n      <td>96</td>\n      <td>192</td>\n      <td>24.95</td>\n      <td>681.59</td>\n      <td>779.52</td>\n      <td>1486.06</td>\n    </tr>\n    <tr>\n      <td>6909</td>\n      <td>4501</td>\n      <td>SpartanNash</td>\n      <td>www.spartannash.com</td>\n      <td>45.555651</td>\n      <td>-122.657145</td>\n      <td>Jewell Likes</td>\n      <td>321970</td>\n      <td>4501</td>\n      <td>2016-08-27 00:58:11</td>\n      <td>16</td>\n      <td>94</td>\n      <td>82</td>\n      <td>192</td>\n      <td>79.84</td>\n      <td>704.06</td>\n      <td>665.84</td>\n      <td>1449.74</td>\n    </tr>\n    <tr>\n      <td>6910</td>\n      <td>4501</td>\n      <td>SpartanNash</td>\n      <td>www.spartannash.com</td>\n      <td>45.555651</td>\n      <td>-122.657145</td>\n      <td>Jewell Likes</td>\n      <td>321970</td>\n      <td>4501</td>\n      <td>2016-11-22 06:52:22</td>\n      <td>63</td>\n      <td>67</td>\n      <td>81</td>\n      <td>211</td>\n      <td>314.37</td>\n      <td>501.83</td>\n      <td>657.72</td>\n      <td>1473.92</td>\n    </tr>\n    <tr>\n      <td>6911</td>\n      <td>4501</td>\n      <td>SpartanNash</td>\n      <td>www.spartannash.com</td>\n      <td>45.555651</td>\n      <td>-122.657145</td>\n      <td>Jewell Likes</td>\n      <td>321970</td>\n      <td>4501</td>\n      <td>2016-12-21 13:30:42</td>\n      <td>61</td>\n      <td>150</td>\n      <td>52</td>\n      <td>263</td>\n      <td>304.39</td>\n      <td>1123.50</td>\n      <td>422.24</td>\n      <td>1850.13</td>\n    </tr>\n    <tr>\n      <td>6912</td>\n      <td>1731</td>\n      <td>Goldman Sachs Group</td>\n      <td>www.gs.com</td>\n      <td>40.757444</td>\n      <td>-73.967309</td>\n      <td>Loris Manfredi</td>\n      <td>321690</td>\n      <td>1731</td>\n      <td>NaT</td>\n      <td>0</td>\n      <td>0</td>\n      <td>0</td>\n      <td>0</td>\n      <td>0.00</td>\n      <td>0.00</td>\n      <td>0.00</td>\n      <td>0.00</td>\n    </tr>\n  </tbody>\n</table>\n<p>6913 rows × 17 columns</p>\n</div>",
      "text/plain": "      filled_id                 name              website        lat  \\\n0          1001              Walmart      www.walmart.com  40.238496   \n1          1001              Walmart      www.walmart.com  40.238496   \n2          1001              Walmart      www.walmart.com  40.238496   \n3          1001              Walmart      www.walmart.com  40.238496   \n4          1001              Walmart      www.walmart.com  40.238496   \n...         ...                  ...                  ...        ...   \n6908       4501          SpartanNash  www.spartannash.com  45.555651   \n6909       4501          SpartanNash  www.spartannash.com  45.555651   \n6910       4501          SpartanNash  www.spartannash.com  45.555651   \n6911       4501          SpartanNash  www.spartannash.com  45.555651   \n6912       1731  Goldman Sachs Group           www.gs.com  40.757444   \n\n            long     primary_poc  sales_rep_id  account_id  \\\n0     -75.103297     Tamara Tuma        321500        1001   \n1     -75.103297     Tamara Tuma        321500        1001   \n2     -75.103297     Tamara Tuma        321500        1001   \n3     -75.103297     Tamara Tuma        321500        1001   \n4     -75.103297     Tamara Tuma        321500        1001   \n...          ...             ...           ...         ...   \n6908 -122.657145    Jewell Likes        321970        4501   \n6909 -122.657145    Jewell Likes        321970        4501   \n6910 -122.657145    Jewell Likes        321970        4501   \n6911 -122.657145    Jewell Likes        321970        4501   \n6912  -73.967309  Loris Manfredi        321690        1731   \n\n             occurred_at  standard_qty  gloss_qty  poster_qty  total  \\\n0    2015-10-06 17:31:14           123         22          24    169   \n1    2015-11-05 03:34:33           190         41          57    288   \n2    2015-12-04 04:21:55            85         47           0    132   \n3    2016-01-02 01:18:24           144         32           0    176   \n4    2016-02-01 19:27:27           108         29          28    165   \n...                  ...           ...        ...         ...    ...   \n6908 2016-07-29 19:58:32             5         91          96    192   \n6909 2016-08-27 00:58:11            16         94          82    192   \n6910 2016-11-22 06:52:22            63         67          81    211   \n6911 2016-12-21 13:30:42            61        150          52    263   \n6912                 NaT             0          0           0      0   \n\n      standard_amt_usd  gloss_amt_usd  poster_amt_usd  total_amt_usd  \n0               613.77         164.78          194.88         973.43  \n1               948.10         307.09          462.84        1718.03  \n2               424.15         352.03            0.00         776.18  \n3               718.56         239.68            0.00         958.24  \n4               538.92         217.21          227.36         983.49  \n...                ...            ...             ...            ...  \n6908             24.95         681.59          779.52        1486.06  \n6909             79.84         704.06          665.84        1449.74  \n6910            314.37         501.83          657.72        1473.92  \n6911            304.39        1123.50          422.24        1850.13  \n6912              0.00           0.00            0.00           0.00  \n\n[6913 rows x 17 columns]"
     },
     "execution_count": 22,
     "metadata": {},
     "output_type": "execute_result"
    }
   ],
   "source": [
    "q = \"\"\"\n",
    "SELECT\n",
    "COALESCE(a.id, a.id) filled_id, a.name, a.website, a.lat, a.long, a.primary_poc, a.sales_rep_id,\n",
    "COALESCE(o.account_id, a.id) account_id, o.occurred_at,\n",
    "COALESCE(o.standard_qty, 0) standard_qty,\n",
    "COALESCE(o.gloss_qty,0) gloss_qty,\n",
    "COALESCE(o.poster_qty,0) poster_qty,\n",
    "COALESCE(o.total,0) total,\n",
    "COALESCE(o.standard_amt_usd,0) standard_amt_usd,\n",
    "COALESCE(o.gloss_amt_usd,0) gloss_amt_usd,\n",
    "COALESCE(o.poster_amt_usd,0) poster_amt_usd,\n",
    "COALESCE(o.total_amt_usd,0) total_amt_usd\n",
    "FROM accounts a\n",
    "LEFT JOIN orders o\n",
    "ON a.id = o.account_id;\n",
    "\"\"\"\n",
    "\n",
    "table = database.to_data_frame(q)\n",
    "table"
   ],
   "metadata": {
    "collapsed": false,
    "pycharm": {
     "name": "#%%\n"
    }
   }
  },
  {
   "cell_type": "code",
   "execution_count": 23,
   "outputs": [],
   "source": [
    "database.close()\n"
   ],
   "metadata": {
    "collapsed": false,
    "pycharm": {
     "name": "#%%\n"
    }
   }
  },
  {
   "cell_type": "code",
   "execution_count": null,
   "outputs": [],
   "source": [],
   "metadata": {
    "collapsed": false,
    "pycharm": {
     "name": "#%%\n"
    }
   }
  }
 ],
 "metadata": {
  "kernelspec": {
   "name": "pycharm-b008ea9c",
   "language": "python",
   "display_name": "PyCharm (portal_da_transparencia_brasil)"
  },
  "language_info": {
   "codemirror_mode": {
    "name": "ipython",
    "version": 2
   },
   "file_extension": ".py",
   "mimetype": "text/x-python",
   "name": "python",
   "nbconvert_exporter": "python",
   "pygments_lexer": "ipython2",
   "version": "2.7.6"
  }
 },
 "nbformat": 4,
 "nbformat_minor": 0
}
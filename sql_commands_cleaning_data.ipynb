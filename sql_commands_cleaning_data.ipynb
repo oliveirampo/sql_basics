{
 "cells": [
  {
   "cell_type": "markdown",
   "source": [
    "Import MyDataBase class."
   ],
   "metadata": {
    "collapsed": false
   }
  },
  {
   "cell_type": "code",
   "execution_count": 1,
   "outputs": [],
   "source": [
    "from src.database import MyDataBase\n",
    "db_name = \"parch_and_posey\""
   ],
   "metadata": {
    "collapsed": false,
    "pycharm": {
     "name": "#%%\n"
    }
   }
  },
  {
   "cell_type": "markdown",
   "source": [
    "Load database."
   ],
   "metadata": {
    "collapsed": false
   }
  },
  {
   "cell_type": "code",
   "execution_count": 2,
   "outputs": [
    {
     "name": "stdout",
     "output_type": "stream",
     "text": [
      "ISOLATION_LEVEL_AUTOCOMMIT: 0\n",
      "('web_events',)\n",
      "('sales_reps',)\n",
      "('region',)\n",
      "('orders',)\n",
      "('accounts',)\n"
     ]
    }
   ],
   "source": [
    "database = MyDataBase(db_name)\n",
    "database.print_tables_names()"
   ],
   "metadata": {
    "collapsed": false,
    "pycharm": {
     "name": "#%%\n"
    }
   }
  },
  {
   "cell_type": "markdown",
   "source": [
    "### LEFT & RIGHT Quizzes"
   ],
   "metadata": {
    "collapsed": false,
    "pycharm": {
     "name": "#%% md\n"
    }
   }
  },
  {
   "cell_type": "markdown",
   "source": [
    "1. In the accounts table, there is a column holding the website for each company.\n",
    "The last three digits specify what type of web address they are using.\n",
    "A list of extensions (and pricing) is provided [here](https://iwantmyname.com/domains).\n",
    "Pull these extensions and provide how many of each website type exist in the accounts table."
   ],
   "metadata": {
    "collapsed": false,
    "pycharm": {
     "name": "#%% md\n"
    }
   }
  },
  {
   "cell_type": "code",
   "execution_count": 3,
   "outputs": [
    {
     "data": {
      "text/html": "<div>\n<style scoped>\n    .dataframe tbody tr th:only-of-type {\n        vertical-align: middle;\n    }\n\n    .dataframe tbody tr th {\n        vertical-align: top;\n    }\n\n    .dataframe thead th {\n        text-align: right;\n    }\n</style>\n<table border=\"1\" class=\"dataframe\">\n  <thead>\n    <tr style=\"text-align: right;\">\n      <th></th>\n      <th>domain</th>\n      <th>num_companies</th>\n    </tr>\n  </thead>\n  <tbody>\n    <tr>\n      <td>0</td>\n      <td>com</td>\n      <td>349</td>\n    </tr>\n    <tr>\n      <td>1</td>\n      <td>net</td>\n      <td>1</td>\n    </tr>\n    <tr>\n      <td>2</td>\n      <td>org</td>\n      <td>1</td>\n    </tr>\n  </tbody>\n</table>\n</div>",
      "text/plain": "  domain  num_companies\n0    com            349\n1    net              1\n2    org              1"
     },
     "execution_count": 3,
     "metadata": {},
     "output_type": "execute_result"
    }
   ],
   "source": [
    "q = \"\"\"\n",
    "SELECT RIGHT(website, 3) AS domain, COUNT(*) num_companies\n",
    "FROM accounts\n",
    "GROUP BY 1\n",
    "ORDER BY 2 DESC;\n",
    "\"\"\"\n",
    "\n",
    "table = database.to_data_frame(q)\n",
    "table"
   ],
   "metadata": {
    "collapsed": false,
    "pycharm": {
     "name": "#%%\n"
    }
   }
  },
  {
   "cell_type": "markdown",
   "source": [
    "2. There is much debate about how much the name (or even the first letter of a company name) matters.\n",
    "Use the accounts table to pull the first letter of each company name\n",
    "to see the distribution of company names that begin with each letter (or number)."
   ],
   "metadata": {
    "collapsed": false,
    "pycharm": {
     "name": "#%% md\n"
    }
   }
  },
  {
   "cell_type": "code",
   "execution_count": 4,
   "outputs": [
    {
     "data": {
      "text/html": "<div>\n<style scoped>\n    .dataframe tbody tr th:only-of-type {\n        vertical-align: middle;\n    }\n\n    .dataframe tbody tr th {\n        vertical-align: top;\n    }\n\n    .dataframe thead th {\n        text-align: right;\n    }\n</style>\n<table border=\"1\" class=\"dataframe\">\n  <thead>\n    <tr style=\"text-align: right;\">\n      <th></th>\n      <th>first_letter</th>\n      <th>num_companies</th>\n    </tr>\n  </thead>\n  <tbody>\n    <tr>\n      <td>0</td>\n      <td>C</td>\n      <td>37</td>\n    </tr>\n    <tr>\n      <td>1</td>\n      <td>A</td>\n      <td>37</td>\n    </tr>\n    <tr>\n      <td>2</td>\n      <td>P</td>\n      <td>27</td>\n    </tr>\n    <tr>\n      <td>3</td>\n      <td>M</td>\n      <td>22</td>\n    </tr>\n    <tr>\n      <td>4</td>\n      <td>S</td>\n      <td>17</td>\n    </tr>\n    <tr>\n      <td>5</td>\n      <td>D</td>\n      <td>17</td>\n    </tr>\n    <tr>\n      <td>6</td>\n      <td>T</td>\n      <td>17</td>\n    </tr>\n    <tr>\n      <td>7</td>\n      <td>B</td>\n      <td>16</td>\n    </tr>\n    <tr>\n      <td>8</td>\n      <td>E</td>\n      <td>16</td>\n    </tr>\n    <tr>\n      <td>9</td>\n      <td>L</td>\n      <td>16</td>\n    </tr>\n    <tr>\n      <td>10</td>\n      <td>H</td>\n      <td>15</td>\n    </tr>\n    <tr>\n      <td>11</td>\n      <td>N</td>\n      <td>15</td>\n    </tr>\n    <tr>\n      <td>12</td>\n      <td>G</td>\n      <td>14</td>\n    </tr>\n    <tr>\n      <td>13</td>\n      <td>U</td>\n      <td>13</td>\n    </tr>\n    <tr>\n      <td>14</td>\n      <td>W</td>\n      <td>12</td>\n    </tr>\n    <tr>\n      <td>15</td>\n      <td>F</td>\n      <td>12</td>\n    </tr>\n    <tr>\n      <td>16</td>\n      <td>R</td>\n      <td>8</td>\n    </tr>\n    <tr>\n      <td>17</td>\n      <td>J</td>\n      <td>7</td>\n    </tr>\n    <tr>\n      <td>18</td>\n      <td>K</td>\n      <td>7</td>\n    </tr>\n    <tr>\n      <td>19</td>\n      <td>O</td>\n      <td>7</td>\n    </tr>\n    <tr>\n      <td>20</td>\n      <td>I</td>\n      <td>7</td>\n    </tr>\n    <tr>\n      <td>21</td>\n      <td>V</td>\n      <td>7</td>\n    </tr>\n    <tr>\n      <td>22</td>\n      <td>X</td>\n      <td>2</td>\n    </tr>\n    <tr>\n      <td>23</td>\n      <td>3</td>\n      <td>1</td>\n    </tr>\n    <tr>\n      <td>24</td>\n      <td>Y</td>\n      <td>1</td>\n    </tr>\n    <tr>\n      <td>25</td>\n      <td>Q</td>\n      <td>1</td>\n    </tr>\n  </tbody>\n</table>\n</div>",
      "text/plain": "   first_letter  num_companies\n0             C             37\n1             A             37\n2             P             27\n3             M             22\n4             S             17\n5             D             17\n6             T             17\n7             B             16\n8             E             16\n9             L             16\n10            H             15\n11            N             15\n12            G             14\n13            U             13\n14            W             12\n15            F             12\n16            R              8\n17            J              7\n18            K              7\n19            O              7\n20            I              7\n21            V              7\n22            X              2\n23            3              1\n24            Y              1\n25            Q              1"
     },
     "execution_count": 4,
     "metadata": {},
     "output_type": "execute_result"
    }
   ],
   "source": [
    "q = \"\"\"\n",
    "SELECT LEFT(UPPER(name), 1) AS first_letter, COUNT(*) num_companies\n",
    "FROM accounts\n",
    "GROUP BY 1\n",
    "ORDER BY 2 DESC;\n",
    "\"\"\"\n",
    "\n",
    "table = database.to_data_frame(q)\n",
    "table"
   ],
   "metadata": {
    "collapsed": false,
    "pycharm": {
     "name": "#%%\n"
    }
   }
  },
  {
   "cell_type": "markdown",
   "source": [
    "3. Use the accounts table and a CASE statement to create two groups:\n",
    "one group of company names that start with a number\n",
    "and a second group of those company names that start with a letter.\n",
    "What proportion of company names start with a letter?"
   ],
   "metadata": {
    "collapsed": false,
    "pycharm": {
     "name": "#%% md\n"
    }
   }
  },
  {
   "cell_type": "code",
   "execution_count": 5,
   "outputs": [
    {
     "data": {
      "text/html": "<div>\n<style scoped>\n    .dataframe tbody tr th:only-of-type {\n        vertical-align: middle;\n    }\n\n    .dataframe tbody tr th {\n        vertical-align: top;\n    }\n\n    .dataframe thead th {\n        text-align: right;\n    }\n</style>\n<table border=\"1\" class=\"dataframe\">\n  <thead>\n    <tr style=\"text-align: right;\">\n      <th></th>\n      <th>nums</th>\n      <th>letters</th>\n    </tr>\n  </thead>\n  <tbody>\n    <tr>\n      <td>0</td>\n      <td>1</td>\n      <td>350</td>\n    </tr>\n  </tbody>\n</table>\n</div>",
      "text/plain": "   nums  letters\n0     1      350"
     },
     "execution_count": 5,
     "metadata": {},
     "output_type": "execute_result"
    }
   ],
   "source": [
    "q = \"\"\"\n",
    "SELECT SUM(num) nums, SUM(letter) letters\n",
    "FROM (SELECT name, CASE WHEN LEFT(UPPER(name), 1) IN ('0','1','2','3','4','5','6','7','8','9')\n",
    "                       THEN 1 ELSE 0 END AS num,\n",
    "         CASE WHEN LEFT(UPPER(name), 1) IN ('0','1','2','3','4','5','6','7','8','9')\n",
    "                       THEN 0 ELSE 1 END AS letter\n",
    "      FROM accounts) t1;\n",
    "\"\"\"\n",
    "\n",
    "table = database.to_data_frame(q)\n",
    "table"
   ],
   "metadata": {
    "collapsed": false,
    "pycharm": {
     "name": "#%%\n"
    }
   }
  },
  {
   "cell_type": "markdown",
   "source": [
    "There are 350 company names that start with a letter and 1 that starts with a number. This gives a ratio of 350/351 that are company names that start with a letter or 99.7%."
   ],
   "metadata": {
    "collapsed": false,
    "pycharm": {
     "name": "#%% md\n"
    }
   }
  },
  {
   "cell_type": "markdown",
   "source": [
    "4. Consider vowels as a, e, i, o, and u.\n",
    "What proportion of company names start with a vowel, and what percent start with anything else?"
   ],
   "metadata": {
    "collapsed": false,
    "pycharm": {
     "name": "#%% md\n"
    }
   }
  },
  {
   "cell_type": "code",
   "execution_count": 6,
   "outputs": [
    {
     "data": {
      "text/html": "<div>\n<style scoped>\n    .dataframe tbody tr th:only-of-type {\n        vertical-align: middle;\n    }\n\n    .dataframe tbody tr th {\n        vertical-align: top;\n    }\n\n    .dataframe thead th {\n        text-align: right;\n    }\n</style>\n<table border=\"1\" class=\"dataframe\">\n  <thead>\n    <tr style=\"text-align: right;\">\n      <th></th>\n      <th>vowels</th>\n      <th>other</th>\n    </tr>\n  </thead>\n  <tbody>\n    <tr>\n      <td>0</td>\n      <td>80</td>\n      <td>271</td>\n    </tr>\n  </tbody>\n</table>\n</div>",
      "text/plain": "   vowels  other\n0      80    271"
     },
     "execution_count": 6,
     "metadata": {},
     "output_type": "execute_result"
    }
   ],
   "source": [
    "q = \"\"\"\n",
    "SELECT SUM(vowels) vowels, SUM(other) other\n",
    "FROM (SELECT name, CASE WHEN LEFT(UPPER(name), 1) IN ('A','E','I','O','U')\n",
    "                        THEN 1 ELSE 0 END AS vowels,\n",
    "          CASE WHEN LEFT(UPPER(name), 1) IN ('A','E','I','O','U')\n",
    "                       THEN 0 ELSE 1 END AS other\n",
    "         FROM accounts) t1;\n",
    "\"\"\"\n",
    "\n",
    "table = database.to_data_frame(q)\n",
    "table"
   ],
   "metadata": {
    "collapsed": false,
    "pycharm": {
     "name": "#%%\n"
    }
   }
  },
  {
   "cell_type": "markdown",
   "source": [
    "There are 80 company names that start with a vowel and 271 that start with other characters.\n",
    "Therefore 80/351 are vowels or 22.8%. Therefore, 77.2% of company names do not start with vowels.\n"
   ],
   "metadata": {
    "collapsed": false,
    "pycharm": {
     "name": "#%% md\n"
    }
   }
  },
  {
   "cell_type": "markdown",
   "source": [
    "### Quizzes POSITION & STRPOS\n"
   ],
   "metadata": {
    "collapsed": false,
    "pycharm": {
     "name": "#%% md\n"
    }
   }
  },
  {
   "cell_type": "markdown",
   "source": [
    "1. Use the accounts table to create first and last name columns\n",
    "that hold the first and last names for the primary_poc."
   ],
   "metadata": {
    "collapsed": false,
    "pycharm": {
     "name": "#%% md\n"
    }
   }
  },
  {
   "cell_type": "code",
   "execution_count": 7,
   "outputs": [
    {
     "data": {
      "text/html": "<div>\n<style scoped>\n    .dataframe tbody tr th:only-of-type {\n        vertical-align: middle;\n    }\n\n    .dataframe tbody tr th {\n        vertical-align: top;\n    }\n\n    .dataframe thead th {\n        text-align: right;\n    }\n</style>\n<table border=\"1\" class=\"dataframe\">\n  <thead>\n    <tr style=\"text-align: right;\">\n      <th></th>\n      <th>first_name</th>\n      <th>last_name</th>\n    </tr>\n  </thead>\n  <tbody>\n    <tr>\n      <td>0</td>\n      <td>Tamara</td>\n      <td>Tuma</td>\n    </tr>\n    <tr>\n      <td>1</td>\n      <td>Sung</td>\n      <td>Shields</td>\n    </tr>\n    <tr>\n      <td>2</td>\n      <td>Jodee</td>\n      <td>Lupo</td>\n    </tr>\n    <tr>\n      <td>3</td>\n      <td>Serafina</td>\n      <td>Banda</td>\n    </tr>\n    <tr>\n      <td>4</td>\n      <td>Angeles</td>\n      <td>Crusoe</td>\n    </tr>\n    <tr>\n      <td>...</td>\n      <td>...</td>\n      <td>...</td>\n    </tr>\n    <tr>\n      <td>346</td>\n      <td>Buffy</td>\n      <td>Azure</td>\n    </tr>\n    <tr>\n      <td>347</td>\n      <td>Esta</td>\n      <td>Engelhardt</td>\n    </tr>\n    <tr>\n      <td>348</td>\n      <td>Khadijah</td>\n      <td>Riemann</td>\n    </tr>\n    <tr>\n      <td>349</td>\n      <td>Deanne</td>\n      <td>Hertlein</td>\n    </tr>\n    <tr>\n      <td>350</td>\n      <td>Jewell</td>\n      <td>Likes</td>\n    </tr>\n  </tbody>\n</table>\n<p>351 rows × 2 columns</p>\n</div>",
      "text/plain": "    first_name   last_name\n0       Tamara        Tuma\n1         Sung     Shields\n2        Jodee        Lupo\n3     Serafina       Banda\n4      Angeles      Crusoe\n..         ...         ...\n346      Buffy       Azure\n347       Esta  Engelhardt\n348   Khadijah     Riemann\n349     Deanne    Hertlein\n350     Jewell       Likes\n\n[351 rows x 2 columns]"
     },
     "execution_count": 7,
     "metadata": {},
     "output_type": "execute_result"
    }
   ],
   "source": [
    "q = \"\"\"\n",
    "SELECT LEFT(primary_poc, STRPOS(primary_poc, ' ') -1 ) first_name,\n",
    "RIGHT(primary_poc, LENGTH(primary_poc) - STRPOS(primary_poc, ' ')) last_name\n",
    "FROM accounts;\n",
    "\"\"\"\n",
    "\n",
    "table = database.to_data_frame(q)\n",
    "table"
   ],
   "metadata": {
    "collapsed": false,
    "pycharm": {
     "name": "#%%\n"
    }
   }
  },
  {
   "cell_type": "markdown",
   "source": [
    "2. Now see if you can do the same thing for every rep name in the sales_reps table.\n",
    "Again provide first and last name columns."
   ],
   "metadata": {
    "collapsed": false,
    "pycharm": {
     "name": "#%% md\n"
    }
   }
  },
  {
   "cell_type": "code",
   "execution_count": 8,
   "outputs": [
    {
     "data": {
      "text/html": "<div>\n<style scoped>\n    .dataframe tbody tr th:only-of-type {\n        vertical-align: middle;\n    }\n\n    .dataframe tbody tr th {\n        vertical-align: top;\n    }\n\n    .dataframe thead th {\n        text-align: right;\n    }\n</style>\n<table border=\"1\" class=\"dataframe\">\n  <thead>\n    <tr style=\"text-align: right;\">\n      <th></th>\n      <th>first_name</th>\n      <th>last_name</th>\n    </tr>\n  </thead>\n  <tbody>\n    <tr>\n      <td>0</td>\n      <td>Samuel</td>\n      <td>Racine</td>\n    </tr>\n    <tr>\n      <td>1</td>\n      <td>Eugena</td>\n      <td>Esser</td>\n    </tr>\n    <tr>\n      <td>2</td>\n      <td>Michel</td>\n      <td>Averette</td>\n    </tr>\n    <tr>\n      <td>3</td>\n      <td>Renetta</td>\n      <td>Carew</td>\n    </tr>\n    <tr>\n      <td>4</td>\n      <td>Cara</td>\n      <td>Clarke</td>\n    </tr>\n    <tr>\n      <td>5</td>\n      <td>Lavera</td>\n      <td>Oles</td>\n    </tr>\n    <tr>\n      <td>6</td>\n      <td>Elba</td>\n      <td>Felder</td>\n    </tr>\n    <tr>\n      <td>7</td>\n      <td>Shawanda</td>\n      <td>Selke</td>\n    </tr>\n    <tr>\n      <td>8</td>\n      <td>Sibyl</td>\n      <td>Lauria</td>\n    </tr>\n    <tr>\n      <td>9</td>\n      <td>Necole</td>\n      <td>Victory</td>\n    </tr>\n    <tr>\n      <td>10</td>\n      <td>Ernestine</td>\n      <td>Pickron</td>\n    </tr>\n    <tr>\n      <td>11</td>\n      <td>Ayesha</td>\n      <td>Monica</td>\n    </tr>\n    <tr>\n      <td>12</td>\n      <td>Retha</td>\n      <td>Sears</td>\n    </tr>\n    <tr>\n      <td>13</td>\n      <td>Julia</td>\n      <td>Behrman</td>\n    </tr>\n    <tr>\n      <td>14</td>\n      <td>Tia</td>\n      <td>Amato</td>\n    </tr>\n    <tr>\n      <td>15</td>\n      <td>Akilah</td>\n      <td>Drinkard</td>\n    </tr>\n    <tr>\n      <td>16</td>\n      <td>Silvana</td>\n      <td>Virden</td>\n    </tr>\n    <tr>\n      <td>17</td>\n      <td>Nakesha</td>\n      <td>Renn</td>\n    </tr>\n    <tr>\n      <td>18</td>\n      <td>Elna</td>\n      <td>Condello</td>\n    </tr>\n    <tr>\n      <td>19</td>\n      <td>Gianna</td>\n      <td>Dossey</td>\n    </tr>\n    <tr>\n      <td>20</td>\n      <td>Debroah</td>\n      <td>Wardle</td>\n    </tr>\n    <tr>\n      <td>21</td>\n      <td>Sherlene</td>\n      <td>Wetherington</td>\n    </tr>\n    <tr>\n      <td>22</td>\n      <td>Chau</td>\n      <td>Rowles</td>\n    </tr>\n    <tr>\n      <td>23</td>\n      <td>Carletta</td>\n      <td>Kosinski</td>\n    </tr>\n    <tr>\n      <td>24</td>\n      <td>Charles</td>\n      <td>Bidwell</td>\n    </tr>\n    <tr>\n      <td>25</td>\n      <td>Cliff</td>\n      <td>Meints</td>\n    </tr>\n    <tr>\n      <td>26</td>\n      <td>Delilah</td>\n      <td>Krum</td>\n    </tr>\n    <tr>\n      <td>27</td>\n      <td>Kathleen</td>\n      <td>Lalonde</td>\n    </tr>\n    <tr>\n      <td>28</td>\n      <td>Julie</td>\n      <td>Starr</td>\n    </tr>\n    <tr>\n      <td>29</td>\n      <td>Cordell</td>\n      <td>Rieder</td>\n    </tr>\n    <tr>\n      <td>30</td>\n      <td>Earlie</td>\n      <td>Schleusner</td>\n    </tr>\n    <tr>\n      <td>31</td>\n      <td>Moon</td>\n      <td>Torian</td>\n    </tr>\n    <tr>\n      <td>32</td>\n      <td>Dorotha</td>\n      <td>Seawell</td>\n    </tr>\n    <tr>\n      <td>33</td>\n      <td>Maren</td>\n      <td>Musto</td>\n    </tr>\n    <tr>\n      <td>34</td>\n      <td>Vernita</td>\n      <td>Plump</td>\n    </tr>\n    <tr>\n      <td>35</td>\n      <td>Calvin</td>\n      <td>Ollison</td>\n    </tr>\n    <tr>\n      <td>36</td>\n      <td>Saran</td>\n      <td>Ram</td>\n    </tr>\n    <tr>\n      <td>37</td>\n      <td>Derrick</td>\n      <td>Boggess</td>\n    </tr>\n    <tr>\n      <td>38</td>\n      <td>Babette</td>\n      <td>Soukup</td>\n    </tr>\n    <tr>\n      <td>39</td>\n      <td>Nelle</td>\n      <td>Meaux</td>\n    </tr>\n    <tr>\n      <td>40</td>\n      <td>Soraya</td>\n      <td>Fulton</td>\n    </tr>\n    <tr>\n      <td>41</td>\n      <td>Brandie</td>\n      <td>Riva</td>\n    </tr>\n    <tr>\n      <td>42</td>\n      <td>Marquetta</td>\n      <td>Laycock</td>\n    </tr>\n    <tr>\n      <td>43</td>\n      <td>Hilma</td>\n      <td>Busick</td>\n    </tr>\n    <tr>\n      <td>44</td>\n      <td>Arica</td>\n      <td>Stoltzfus</td>\n    </tr>\n    <tr>\n      <td>45</td>\n      <td>Elwood</td>\n      <td>Shutt</td>\n    </tr>\n    <tr>\n      <td>46</td>\n      <td>Maryanna</td>\n      <td>Fiorentino</td>\n    </tr>\n    <tr>\n      <td>47</td>\n      <td>Georgianna</td>\n      <td>Chisholm</td>\n    </tr>\n    <tr>\n      <td>48</td>\n      <td>Micha</td>\n      <td>Woodford</td>\n    </tr>\n    <tr>\n      <td>49</td>\n      <td>Dawna</td>\n      <td>Agnew</td>\n    </tr>\n  </tbody>\n</table>\n</div>",
      "text/plain": "    first_name     last_name\n0       Samuel        Racine\n1       Eugena         Esser\n2       Michel      Averette\n3      Renetta         Carew\n4         Cara        Clarke\n5       Lavera          Oles\n6         Elba        Felder\n7     Shawanda         Selke\n8        Sibyl        Lauria\n9       Necole       Victory\n10   Ernestine       Pickron\n11      Ayesha        Monica\n12       Retha         Sears\n13       Julia       Behrman\n14         Tia         Amato\n15      Akilah      Drinkard\n16     Silvana        Virden\n17     Nakesha          Renn\n18        Elna      Condello\n19      Gianna        Dossey\n20     Debroah        Wardle\n21    Sherlene  Wetherington\n22        Chau        Rowles\n23    Carletta      Kosinski\n24     Charles       Bidwell\n25       Cliff        Meints\n26     Delilah          Krum\n27    Kathleen       Lalonde\n28       Julie         Starr\n29     Cordell        Rieder\n30      Earlie    Schleusner\n31        Moon        Torian\n32     Dorotha       Seawell\n33       Maren         Musto\n34     Vernita         Plump\n35      Calvin       Ollison\n36       Saran           Ram\n37     Derrick       Boggess\n38     Babette        Soukup\n39       Nelle         Meaux\n40      Soraya        Fulton\n41     Brandie          Riva\n42   Marquetta       Laycock\n43       Hilma        Busick\n44       Arica     Stoltzfus\n45      Elwood         Shutt\n46    Maryanna    Fiorentino\n47  Georgianna      Chisholm\n48       Micha      Woodford\n49       Dawna         Agnew"
     },
     "execution_count": 8,
     "metadata": {},
     "output_type": "execute_result"
    }
   ],
   "source": [
    "q = \"\"\"\n",
    "SELECT LEFT(name, STRPOS(name, ' ') -1 ) first_name,\n",
    "       RIGHT(name, LENGTH(name) - STRPOS(name, ' ')) last_name\n",
    "FROM sales_reps;\n",
    "\"\"\"\n",
    "\n",
    "table = database.to_data_frame(q)\n",
    "table"
   ],
   "metadata": {
    "collapsed": false,
    "pycharm": {
     "name": "#%%\n"
    }
   }
  },
  {
   "cell_type": "code",
   "execution_count": null,
   "outputs": [],
   "source": [],
   "metadata": {
    "collapsed": false,
    "pycharm": {
     "name": "#%%\n"
    }
   }
  }
 ],
 "metadata": {
  "kernelspec": {
   "name": "pycharm-b008ea9c",
   "language": "python",
   "display_name": "PyCharm (portal_da_transparencia_brasil)"
  },
  "language_info": {
   "codemirror_mode": {
    "name": "ipython",
    "version": 2
   },
   "file_extension": ".py",
   "mimetype": "text/x-python",
   "name": "python",
   "nbconvert_exporter": "python",
   "pygments_lexer": "ipython2",
   "version": "2.7.6"
  }
 },
 "nbformat": 4,
 "nbformat_minor": 0
}
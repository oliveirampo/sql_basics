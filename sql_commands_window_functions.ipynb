{
 "cells": [
  {
   "cell_type": "markdown",
   "source": [
    "Import MyDataBase class."
   ],
   "metadata": {
    "collapsed": false
   }
  },
  {
   "cell_type": "code",
   "execution_count": 1,
   "outputs": [],
   "source": [
    "from src.database import MyDataBase\n",
    "db_name = \"parch_and_posey\""
   ],
   "metadata": {
    "collapsed": false,
    "pycharm": {
     "name": "#%%\n"
    }
   }
  },
  {
   "cell_type": "markdown",
   "source": [
    "Load database."
   ],
   "metadata": {
    "collapsed": false
   }
  },
  {
   "cell_type": "code",
   "execution_count": 2,
   "outputs": [
    {
     "name": "stdout",
     "output_type": "stream",
     "text": [
      "ISOLATION_LEVEL_AUTOCOMMIT: 0\n",
      "('web_events',)\n",
      "('sales_reps',)\n",
      "('region',)\n",
      "('orders',)\n",
      "('accounts',)\n"
     ]
    }
   ],
   "source": [
    "database = MyDataBase(db_name)\n",
    "database.print_tables_names()"
   ],
   "metadata": {
    "collapsed": false,
    "pycharm": {
     "name": "#%%\n"
    }
   }
  },
  {
   "cell_type": "markdown",
   "source": [
    "### Window Functions\n",
    "\n",
    "PostgreSQL’s documentation does an excellent job of\n",
    "[introducing the concept of Window Functions](https://www.postgresql.org/docs/9.1/tutorial-window.html):\n",
    "a window function performs a calculation across a set of table rows\n",
    "that are somehow related to the current row.\n",
    "This is comparable to the type of calculation that can be done with an aggregate function.\n",
    "But unlike regular aggregate functions,\n",
    "use of a window function does not cause rows to become grouped into a single output row —\n",
    "the rows retain their separate identities. Behind the scenes,\n",
    "the window function is able to access more than just the current row of the query result.\n",
    "\n",
    "Through introducing window functions,\n",
    "we have also introduced two statements that you may not be familiar with:\n",
    "OVER and PARTITION BY.\n",
    "These are key to window functions.\n",
    "Not every window function uses PARTITION BY;\n",
    "we can also use ORDER BY or no statement at all depending on the query we want to run.\n",
    "You will practice using these clauses in the upcoming quizzes.\n",
    "If you want more details right now,\n",
    "[this resource](https://blog.sqlauthority.com/2015/11/04/sql-server-what-is-the-over-clause-notes-from-the-field-101/)\n",
    "from Pinal Dave is helpful.\n",
    "\n",
    "Note: You can’t use window functions and standard aggregations in the same query.\n",
    "More specifically, you can’t include window functions in a GROUP BY clause.\n",
    "\n",
    "(Source: Udacity SQL Course)"
   ],
   "metadata": {
    "collapsed": false,
    "pycharm": {
     "name": "#%% md\n"
    }
   }
  },
  {
   "cell_type": "markdown",
   "source": [
    "Running total of how much standard paper was sold per day."
   ],
   "metadata": {
    "collapsed": false,
    "pycharm": {
     "name": "#%% md\n"
    }
   }
  },
  {
   "cell_type": "code",
   "execution_count": 3,
   "outputs": [
    {
     "data": {
      "text/html": "<div>\n<style scoped>\n    .dataframe tbody tr th:only-of-type {\n        vertical-align: middle;\n    }\n\n    .dataframe tbody tr th {\n        vertical-align: top;\n    }\n\n    .dataframe thead th {\n        text-align: right;\n    }\n</style>\n<table border=\"1\" class=\"dataframe\">\n  <thead>\n    <tr style=\"text-align: right;\">\n      <th></th>\n      <th>standard_qty</th>\n      <th>month</th>\n      <th>running_total</th>\n    </tr>\n  </thead>\n  <tbody>\n    <tr>\n      <td>0</td>\n      <td>0</td>\n      <td>2013-12-01</td>\n      <td>0</td>\n    </tr>\n    <tr>\n      <td>1</td>\n      <td>490</td>\n      <td>2013-12-01</td>\n      <td>490</td>\n    </tr>\n    <tr>\n      <td>2</td>\n      <td>528</td>\n      <td>2013-12-01</td>\n      <td>1018</td>\n    </tr>\n    <tr>\n      <td>3</td>\n      <td>0</td>\n      <td>2013-12-01</td>\n      <td>1018</td>\n    </tr>\n    <tr>\n      <td>4</td>\n      <td>492</td>\n      <td>2013-12-01</td>\n      <td>1510</td>\n    </tr>\n    <tr>\n      <td>...</td>\n      <td>...</td>\n      <td>...</td>\n      <td>...</td>\n    </tr>\n    <tr>\n      <td>6907</td>\n      <td>0</td>\n      <td>2017-01-01</td>\n      <td>1937478</td>\n    </tr>\n    <tr>\n      <td>6908</td>\n      <td>497</td>\n      <td>2017-01-01</td>\n      <td>1937975</td>\n    </tr>\n    <tr>\n      <td>6909</td>\n      <td>38</td>\n      <td>2017-01-01</td>\n      <td>1938013</td>\n    </tr>\n    <tr>\n      <td>6910</td>\n      <td>291</td>\n      <td>2017-01-01</td>\n      <td>1938304</td>\n    </tr>\n    <tr>\n      <td>6911</td>\n      <td>42</td>\n      <td>2017-01-01</td>\n      <td>1938346</td>\n    </tr>\n  </tbody>\n</table>\n<p>6912 rows × 3 columns</p>\n</div>",
      "text/plain": "      standard_qty      month  running_total\n0                0 2013-12-01              0\n1              490 2013-12-01            490\n2              528 2013-12-01           1018\n3                0 2013-12-01           1018\n4              492 2013-12-01           1510\n...            ...        ...            ...\n6907             0 2017-01-01        1937478\n6908           497 2017-01-01        1937975\n6909            38 2017-01-01        1938013\n6910           291 2017-01-01        1938304\n6911            42 2017-01-01        1938346\n\n[6912 rows x 3 columns]"
     },
     "execution_count": 3,
     "metadata": {},
     "output_type": "execute_result"
    }
   ],
   "source": [
    "q = \"\"\"\n",
    "SELECT standard_qty,\n",
    "    DATE_TRUNC('month', occurred_at) AS month,\n",
    "    SUM(standard_qty) OVER (ORDER BY occurred_at) AS running_total\n",
    "FROM orders;\n",
    "\"\"\"\n",
    "\n",
    "table = database.to_data_frame(q)\n",
    "table"
   ],
   "metadata": {
    "collapsed": false,
    "pycharm": {
     "name": "#%%\n"
    }
   }
  },
  {
   "cell_type": "markdown",
   "source": [
    "Running total of how much standard paper was sold starting at the beginning of each month."
   ],
   "metadata": {
    "collapsed": false,
    "pycharm": {
     "name": "#%% md\n"
    }
   }
  },
  {
   "cell_type": "code",
   "execution_count": 4,
   "outputs": [
    {
     "data": {
      "text/html": "<div>\n<style scoped>\n    .dataframe tbody tr th:only-of-type {\n        vertical-align: middle;\n    }\n\n    .dataframe tbody tr th {\n        vertical-align: top;\n    }\n\n    .dataframe thead th {\n        text-align: right;\n    }\n</style>\n<table border=\"1\" class=\"dataframe\">\n  <thead>\n    <tr style=\"text-align: right;\">\n      <th></th>\n      <th>standard_qty</th>\n      <th>month</th>\n      <th>running_total</th>\n    </tr>\n  </thead>\n  <tbody>\n    <tr>\n      <td>0</td>\n      <td>0</td>\n      <td>2013-12-01</td>\n      <td>0</td>\n    </tr>\n    <tr>\n      <td>1</td>\n      <td>490</td>\n      <td>2013-12-01</td>\n      <td>490</td>\n    </tr>\n    <tr>\n      <td>2</td>\n      <td>528</td>\n      <td>2013-12-01</td>\n      <td>1018</td>\n    </tr>\n    <tr>\n      <td>3</td>\n      <td>0</td>\n      <td>2013-12-01</td>\n      <td>1018</td>\n    </tr>\n    <tr>\n      <td>4</td>\n      <td>492</td>\n      <td>2013-12-01</td>\n      <td>1510</td>\n    </tr>\n    <tr>\n      <td>...</td>\n      <td>...</td>\n      <td>...</td>\n      <td>...</td>\n    </tr>\n    <tr>\n      <td>6907</td>\n      <td>0</td>\n      <td>2017-01-01</td>\n      <td>4417</td>\n    </tr>\n    <tr>\n      <td>6908</td>\n      <td>497</td>\n      <td>2017-01-01</td>\n      <td>4914</td>\n    </tr>\n    <tr>\n      <td>6909</td>\n      <td>38</td>\n      <td>2017-01-01</td>\n      <td>4952</td>\n    </tr>\n    <tr>\n      <td>6910</td>\n      <td>291</td>\n      <td>2017-01-01</td>\n      <td>5243</td>\n    </tr>\n    <tr>\n      <td>6911</td>\n      <td>42</td>\n      <td>2017-01-01</td>\n      <td>5285</td>\n    </tr>\n  </tbody>\n</table>\n<p>6912 rows × 3 columns</p>\n</div>",
      "text/plain": "      standard_qty      month  running_total\n0                0 2013-12-01              0\n1              490 2013-12-01            490\n2              528 2013-12-01           1018\n3                0 2013-12-01           1018\n4              492 2013-12-01           1510\n...            ...        ...            ...\n6907             0 2017-01-01           4417\n6908           497 2017-01-01           4914\n6909            38 2017-01-01           4952\n6910           291 2017-01-01           5243\n6911            42 2017-01-01           5285\n\n[6912 rows x 3 columns]"
     },
     "execution_count": 4,
     "metadata": {},
     "output_type": "execute_result"
    }
   ],
   "source": [
    "q = \"\"\"\n",
    "SELECT standard_qty,\n",
    "    DATE_TRUNC('month', occurred_at) AS month,\n",
    "    SUM(standard_qty) OVER (PARTITION BY DATE_TRUNC('month', occurred_at) ORDER BY occurred_at) AS running_total\n",
    "FROM orders;\n",
    "\"\"\"\n",
    "\n",
    "table = database.to_data_frame(q)\n",
    "table"
   ],
   "metadata": {
    "collapsed": false,
    "pycharm": {
     "name": "#%%\n"
    }
   }
  },
  {
   "cell_type": "markdown",
   "source": [
    "Without ***ORDER BY*** each value will simply be a sum of all the *standard_qty* values\n",
    "in the respective month."
   ],
   "metadata": {
    "collapsed": false,
    "pycharm": {
     "name": "#%% md\n"
    }
   }
  },
  {
   "cell_type": "code",
   "execution_count": 5,
   "outputs": [
    {
     "data": {
      "text/html": "<div>\n<style scoped>\n    .dataframe tbody tr th:only-of-type {\n        vertical-align: middle;\n    }\n\n    .dataframe tbody tr th {\n        vertical-align: top;\n    }\n\n    .dataframe thead th {\n        text-align: right;\n    }\n</style>\n<table border=\"1\" class=\"dataframe\">\n  <thead>\n    <tr style=\"text-align: right;\">\n      <th></th>\n      <th>standard_qty</th>\n      <th>month</th>\n      <th>running_total</th>\n    </tr>\n  </thead>\n  <tbody>\n    <tr>\n      <td>0</td>\n      <td>497</td>\n      <td>2013-12-01</td>\n      <td>26554</td>\n    </tr>\n    <tr>\n      <td>1</td>\n      <td>508</td>\n      <td>2013-12-01</td>\n      <td>26554</td>\n    </tr>\n    <tr>\n      <td>2</td>\n      <td>84</td>\n      <td>2013-12-01</td>\n      <td>26554</td>\n    </tr>\n    <tr>\n      <td>3</td>\n      <td>0</td>\n      <td>2013-12-01</td>\n      <td>26554</td>\n    </tr>\n    <tr>\n      <td>4</td>\n      <td>304</td>\n      <td>2013-12-01</td>\n      <td>26554</td>\n    </tr>\n    <tr>\n      <td>...</td>\n      <td>...</td>\n      <td>...</td>\n      <td>...</td>\n    </tr>\n    <tr>\n      <td>6907</td>\n      <td>485</td>\n      <td>2017-01-01</td>\n      <td>5285</td>\n    </tr>\n    <tr>\n      <td>6908</td>\n      <td>42</td>\n      <td>2017-01-01</td>\n      <td>5285</td>\n    </tr>\n    <tr>\n      <td>6909</td>\n      <td>495</td>\n      <td>2017-01-01</td>\n      <td>5285</td>\n    </tr>\n    <tr>\n      <td>6910</td>\n      <td>52</td>\n      <td>2017-01-01</td>\n      <td>5285</td>\n    </tr>\n    <tr>\n      <td>6911</td>\n      <td>704</td>\n      <td>2017-01-01</td>\n      <td>5285</td>\n    </tr>\n  </tbody>\n</table>\n<p>6912 rows × 3 columns</p>\n</div>",
      "text/plain": "      standard_qty      month  running_total\n0              497 2013-12-01          26554\n1              508 2013-12-01          26554\n2               84 2013-12-01          26554\n3                0 2013-12-01          26554\n4              304 2013-12-01          26554\n...            ...        ...            ...\n6907           485 2017-01-01           5285\n6908            42 2017-01-01           5285\n6909           495 2017-01-01           5285\n6910            52 2017-01-01           5285\n6911           704 2017-01-01           5285\n\n[6912 rows x 3 columns]"
     },
     "execution_count": 5,
     "metadata": {},
     "output_type": "execute_result"
    }
   ],
   "source": [
    "q = \"\"\"\n",
    "SELECT standard_qty,\n",
    "    DATE_TRUNC('month', occurred_at) AS month,\n",
    "    SUM(standard_qty) OVER (PARTITION BY DATE_TRUNC('month', occurred_at)) AS running_total\n",
    "FROM orders;\n",
    "\"\"\"\n",
    "\n",
    "table = database.to_data_frame(q)\n",
    "table\n"
   ],
   "metadata": {
    "collapsed": false,
    "pycharm": {
     "name": "#%%\n"
    }
   }
  },
  {
   "cell_type": "markdown",
   "source": [
    "### Creating a Running Total Using Window Functions\n",
    "\n",
    "Create a running total of *standard_amt_usd* (in the *orders* table)\n",
    "over order time with no date truncation.\n",
    "Your final table should have two columns:\n",
    "one with the amount being added for each new row,\n",
    "and a second with the running total."
   ],
   "metadata": {
    "collapsed": false,
    "pycharm": {
     "name": "#%% md\n"
    }
   }
  },
  {
   "cell_type": "code",
   "execution_count": 6,
   "outputs": [
    {
     "data": {
      "text/html": "<div>\n<style scoped>\n    .dataframe tbody tr th:only-of-type {\n        vertical-align: middle;\n    }\n\n    .dataframe tbody tr th {\n        vertical-align: top;\n    }\n\n    .dataframe thead th {\n        text-align: right;\n    }\n</style>\n<table border=\"1\" class=\"dataframe\">\n  <thead>\n    <tr style=\"text-align: right;\">\n      <th></th>\n      <th>standard_amt_usd</th>\n      <th>running_total</th>\n    </tr>\n  </thead>\n  <tbody>\n    <tr>\n      <td>0</td>\n      <td>0.00</td>\n      <td>0.00</td>\n    </tr>\n    <tr>\n      <td>1</td>\n      <td>2445.10</td>\n      <td>2445.10</td>\n    </tr>\n    <tr>\n      <td>2</td>\n      <td>2634.72</td>\n      <td>5079.82</td>\n    </tr>\n    <tr>\n      <td>3</td>\n      <td>0.00</td>\n      <td>5079.82</td>\n    </tr>\n    <tr>\n      <td>4</td>\n      <td>2455.08</td>\n      <td>7534.90</td>\n    </tr>\n    <tr>\n      <td>...</td>\n      <td>...</td>\n      <td>...</td>\n    </tr>\n    <tr>\n      <td>6907</td>\n      <td>0.00</td>\n      <td>9668015.22</td>\n    </tr>\n    <tr>\n      <td>6908</td>\n      <td>2480.03</td>\n      <td>9670495.25</td>\n    </tr>\n    <tr>\n      <td>6909</td>\n      <td>189.62</td>\n      <td>9670684.87</td>\n    </tr>\n    <tr>\n      <td>6910</td>\n      <td>1452.09</td>\n      <td>9672136.96</td>\n    </tr>\n    <tr>\n      <td>6911</td>\n      <td>209.58</td>\n      <td>9672346.54</td>\n    </tr>\n  </tbody>\n</table>\n<p>6912 rows × 2 columns</p>\n</div>",
      "text/plain": "      standard_amt_usd  running_total\n0                 0.00           0.00\n1              2445.10        2445.10\n2              2634.72        5079.82\n3                 0.00        5079.82\n4              2455.08        7534.90\n...                ...            ...\n6907              0.00     9668015.22\n6908           2480.03     9670495.25\n6909            189.62     9670684.87\n6910           1452.09     9672136.96\n6911            209.58     9672346.54\n\n[6912 rows x 2 columns]"
     },
     "execution_count": 6,
     "metadata": {},
     "output_type": "execute_result"
    }
   ],
   "source": [
    "q = \"\"\"\n",
    "SELECT standard_amt_usd,\n",
    "    SUM(standard_amt_usd) OVER (ORDER BY occurred_at) AS running_total\n",
    "FROM orders;\n",
    "\"\"\"\n",
    "\n",
    "table = database.to_data_frame(q)\n",
    "table\n",
    "\n"
   ],
   "metadata": {
    "collapsed": false,
    "pycharm": {
     "name": "#%%\n"
    }
   }
  },
  {
   "cell_type": "markdown",
   "source": [
    "### Creating a *Partitioned* Running Total Using Window Functions\n",
    "\n",
    "Now, modify your query from the previous quiz to include partitions.\n",
    "Still create a running total of *standard_amt_usd* (in the *orders* table) over order time,\n",
    "but this time, date truncate *occurred_at* by year\n",
    "and partition by that same year-truncated *occurred_at* variable.\n",
    "Your final table should have three columns: One with the amount being added for each row,\n",
    "one for the truncated date, and a final column with the running total within each year."
   ],
   "metadata": {
    "collapsed": false,
    "pycharm": {
     "name": "#%% md\n"
    }
   }
  },
  {
   "cell_type": "code",
   "execution_count": 7,
   "outputs": [
    {
     "data": {
      "text/html": "<div>\n<style scoped>\n    .dataframe tbody tr th:only-of-type {\n        vertical-align: middle;\n    }\n\n    .dataframe tbody tr th {\n        vertical-align: top;\n    }\n\n    .dataframe thead th {\n        text-align: right;\n    }\n</style>\n<table border=\"1\" class=\"dataframe\">\n  <thead>\n    <tr style=\"text-align: right;\">\n      <th></th>\n      <th>standard_amt_usd</th>\n      <th>year</th>\n      <th>running_total</th>\n    </tr>\n  </thead>\n  <tbody>\n    <tr>\n      <td>0</td>\n      <td>0.00</td>\n      <td>2013-01-01</td>\n      <td>0.00</td>\n    </tr>\n    <tr>\n      <td>1</td>\n      <td>2445.10</td>\n      <td>2013-01-01</td>\n      <td>2445.10</td>\n    </tr>\n    <tr>\n      <td>2</td>\n      <td>2634.72</td>\n      <td>2013-01-01</td>\n      <td>5079.82</td>\n    </tr>\n    <tr>\n      <td>3</td>\n      <td>0.00</td>\n      <td>2013-01-01</td>\n      <td>5079.82</td>\n    </tr>\n    <tr>\n      <td>4</td>\n      <td>2455.08</td>\n      <td>2013-01-01</td>\n      <td>7534.90</td>\n    </tr>\n    <tr>\n      <td>...</td>\n      <td>...</td>\n      <td>...</td>\n      <td>...</td>\n    </tr>\n    <tr>\n      <td>6907</td>\n      <td>0.00</td>\n      <td>2017-01-01</td>\n      <td>22040.83</td>\n    </tr>\n    <tr>\n      <td>6908</td>\n      <td>2480.03</td>\n      <td>2017-01-01</td>\n      <td>24520.86</td>\n    </tr>\n    <tr>\n      <td>6909</td>\n      <td>189.62</td>\n      <td>2017-01-01</td>\n      <td>24710.48</td>\n    </tr>\n    <tr>\n      <td>6910</td>\n      <td>1452.09</td>\n      <td>2017-01-01</td>\n      <td>26162.57</td>\n    </tr>\n    <tr>\n      <td>6911</td>\n      <td>209.58</td>\n      <td>2017-01-01</td>\n      <td>26372.15</td>\n    </tr>\n  </tbody>\n</table>\n<p>6912 rows × 3 columns</p>\n</div>",
      "text/plain": "      standard_amt_usd       year  running_total\n0                 0.00 2013-01-01           0.00\n1              2445.10 2013-01-01        2445.10\n2              2634.72 2013-01-01        5079.82\n3                 0.00 2013-01-01        5079.82\n4              2455.08 2013-01-01        7534.90\n...                ...        ...            ...\n6907              0.00 2017-01-01       22040.83\n6908           2480.03 2017-01-01       24520.86\n6909            189.62 2017-01-01       24710.48\n6910           1452.09 2017-01-01       26162.57\n6911            209.58 2017-01-01       26372.15\n\n[6912 rows x 3 columns]"
     },
     "execution_count": 7,
     "metadata": {},
     "output_type": "execute_result"
    }
   ],
   "source": [
    "q = \"\"\"\n",
    "SELECT standard_amt_usd,\n",
    "       DATE_TRUNC('year', occurred_at) as year,\n",
    "       SUM(standard_amt_usd) OVER (PARTITION BY DATE_TRUNC('year', occurred_at) ORDER BY occurred_at) AS running_total\n",
    "FROM orders\n",
    "\"\"\"\n",
    "\n",
    "table = database.to_data_frame(q)\n",
    "table"
   ],
   "metadata": {
    "collapsed": false,
    "pycharm": {
     "name": "#%%\n"
    }
   }
  },
  {
   "cell_type": "markdown",
   "source": [
    "Add row number."
   ],
   "metadata": {
    "collapsed": false,
    "pycharm": {
     "name": "#%% md\n"
    }
   }
  },
  {
   "cell_type": "code",
   "execution_count": 8,
   "outputs": [
    {
     "data": {
      "text/html": "<div>\n<style scoped>\n    .dataframe tbody tr th:only-of-type {\n        vertical-align: middle;\n    }\n\n    .dataframe tbody tr th {\n        vertical-align: top;\n    }\n\n    .dataframe thead th {\n        text-align: right;\n    }\n</style>\n<table border=\"1\" class=\"dataframe\">\n  <thead>\n    <tr style=\"text-align: right;\">\n      <th></th>\n      <th>id</th>\n      <th>account_id</th>\n      <th>occurred_at</th>\n      <th>row_num</th>\n    </tr>\n  </thead>\n  <tbody>\n    <tr>\n      <td>0</td>\n      <td>1</td>\n      <td>1001</td>\n      <td>2015-10-06 17:31:14</td>\n      <td>1</td>\n    </tr>\n    <tr>\n      <td>1</td>\n      <td>2</td>\n      <td>1001</td>\n      <td>2015-11-05 03:34:33</td>\n      <td>2</td>\n    </tr>\n    <tr>\n      <td>2</td>\n      <td>3</td>\n      <td>1001</td>\n      <td>2015-12-04 04:21:55</td>\n      <td>3</td>\n    </tr>\n    <tr>\n      <td>3</td>\n      <td>4</td>\n      <td>1001</td>\n      <td>2016-01-02 01:18:24</td>\n      <td>4</td>\n    </tr>\n    <tr>\n      <td>4</td>\n      <td>5</td>\n      <td>1001</td>\n      <td>2016-02-01 19:27:27</td>\n      <td>5</td>\n    </tr>\n    <tr>\n      <td>...</td>\n      <td>...</td>\n      <td>...</td>\n      <td>...</td>\n      <td>...</td>\n    </tr>\n    <tr>\n      <td>6907</td>\n      <td>6908</td>\n      <td>4501</td>\n      <td>2016-06-29 04:03:39</td>\n      <td>6908</td>\n    </tr>\n    <tr>\n      <td>6908</td>\n      <td>6909</td>\n      <td>4501</td>\n      <td>2016-07-29 19:58:32</td>\n      <td>6909</td>\n    </tr>\n    <tr>\n      <td>6909</td>\n      <td>6910</td>\n      <td>4501</td>\n      <td>2016-08-27 00:58:11</td>\n      <td>6910</td>\n    </tr>\n    <tr>\n      <td>6910</td>\n      <td>6911</td>\n      <td>4501</td>\n      <td>2016-11-22 06:52:22</td>\n      <td>6911</td>\n    </tr>\n    <tr>\n      <td>6911</td>\n      <td>6912</td>\n      <td>4501</td>\n      <td>2016-12-21 13:30:42</td>\n      <td>6912</td>\n    </tr>\n  </tbody>\n</table>\n<p>6912 rows × 4 columns</p>\n</div>",
      "text/plain": "        id  account_id         occurred_at  row_num\n0        1        1001 2015-10-06 17:31:14        1\n1        2        1001 2015-11-05 03:34:33        2\n2        3        1001 2015-12-04 04:21:55        3\n3        4        1001 2016-01-02 01:18:24        4\n4        5        1001 2016-02-01 19:27:27        5\n...    ...         ...                 ...      ...\n6907  6908        4501 2016-06-29 04:03:39     6908\n6908  6909        4501 2016-07-29 19:58:32     6909\n6909  6910        4501 2016-08-27 00:58:11     6910\n6910  6911        4501 2016-11-22 06:52:22     6911\n6911  6912        4501 2016-12-21 13:30:42     6912\n\n[6912 rows x 4 columns]"
     },
     "execution_count": 8,
     "metadata": {},
     "output_type": "execute_result"
    }
   ],
   "source": [
    "q = \"\"\"\n",
    "SELECT id,\n",
    "      account_id,\n",
    "      occurred_at,\n",
    "      ROW_NUMBER() OVER (ORDER BY id) AS row_num\n",
    "FROM orders;\n",
    "\"\"\"\n",
    "\n",
    "table = database.to_data_frame(q)\n",
    "table"
   ],
   "metadata": {
    "collapsed": false,
    "pycharm": {
     "name": "#%%\n"
    }
   }
  },
  {
   "cell_type": "markdown",
   "source": [
    "Start count over at each partition."
   ],
   "metadata": {
    "collapsed": false,
    "pycharm": {
     "name": "#%% md\n"
    }
   }
  },
  {
   "cell_type": "code",
   "execution_count": 9,
   "outputs": [
    {
     "data": {
      "text/html": "<div>\n<style scoped>\n    .dataframe tbody tr th:only-of-type {\n        vertical-align: middle;\n    }\n\n    .dataframe tbody tr th {\n        vertical-align: top;\n    }\n\n    .dataframe thead th {\n        text-align: right;\n    }\n</style>\n<table border=\"1\" class=\"dataframe\">\n  <thead>\n    <tr style=\"text-align: right;\">\n      <th></th>\n      <th>id</th>\n      <th>account_id</th>\n      <th>occurred_at</th>\n      <th>row_num</th>\n    </tr>\n  </thead>\n  <tbody>\n    <tr>\n      <td>0</td>\n      <td>1</td>\n      <td>1001</td>\n      <td>2015-10-06 17:31:14</td>\n      <td>1</td>\n    </tr>\n    <tr>\n      <td>1</td>\n      <td>2</td>\n      <td>1001</td>\n      <td>2015-11-05 03:34:33</td>\n      <td>2</td>\n    </tr>\n    <tr>\n      <td>2</td>\n      <td>3</td>\n      <td>1001</td>\n      <td>2015-12-04 04:21:55</td>\n      <td>3</td>\n    </tr>\n    <tr>\n      <td>3</td>\n      <td>4</td>\n      <td>1001</td>\n      <td>2016-01-02 01:18:24</td>\n      <td>4</td>\n    </tr>\n    <tr>\n      <td>4</td>\n      <td>5</td>\n      <td>1001</td>\n      <td>2016-02-01 19:27:27</td>\n      <td>5</td>\n    </tr>\n    <tr>\n      <td>...</td>\n      <td>...</td>\n      <td>...</td>\n      <td>...</td>\n      <td>...</td>\n    </tr>\n    <tr>\n      <td>6907</td>\n      <td>6908</td>\n      <td>4501</td>\n      <td>2016-06-29 04:03:39</td>\n      <td>9</td>\n    </tr>\n    <tr>\n      <td>6908</td>\n      <td>6909</td>\n      <td>4501</td>\n      <td>2016-07-29 19:58:32</td>\n      <td>10</td>\n    </tr>\n    <tr>\n      <td>6909</td>\n      <td>6910</td>\n      <td>4501</td>\n      <td>2016-08-27 00:58:11</td>\n      <td>11</td>\n    </tr>\n    <tr>\n      <td>6910</td>\n      <td>6911</td>\n      <td>4501</td>\n      <td>2016-11-22 06:52:22</td>\n      <td>12</td>\n    </tr>\n    <tr>\n      <td>6911</td>\n      <td>6912</td>\n      <td>4501</td>\n      <td>2016-12-21 13:30:42</td>\n      <td>13</td>\n    </tr>\n  </tbody>\n</table>\n<p>6912 rows × 4 columns</p>\n</div>",
      "text/plain": "        id  account_id         occurred_at  row_num\n0        1        1001 2015-10-06 17:31:14        1\n1        2        1001 2015-11-05 03:34:33        2\n2        3        1001 2015-12-04 04:21:55        3\n3        4        1001 2016-01-02 01:18:24        4\n4        5        1001 2016-02-01 19:27:27        5\n...    ...         ...                 ...      ...\n6907  6908        4501 2016-06-29 04:03:39        9\n6908  6909        4501 2016-07-29 19:58:32       10\n6909  6910        4501 2016-08-27 00:58:11       11\n6910  6911        4501 2016-11-22 06:52:22       12\n6911  6912        4501 2016-12-21 13:30:42       13\n\n[6912 rows x 4 columns]"
     },
     "execution_count": 9,
     "metadata": {},
     "output_type": "execute_result"
    }
   ],
   "source": [
    "q = \"\"\"\n",
    "SELECT id,\n",
    "      account_id,\n",
    "      occurred_at,\n",
    "      ROW_NUMBER() OVER (PARTITION BY account_id ORDER BY id) AS row_num\n",
    "FROM orders;\n",
    "\"\"\"\n",
    "\n",
    "table = database.to_data_frame(q)\n",
    "table"
   ],
   "metadata": {
    "collapsed": false,
    "pycharm": {
     "name": "#%%\n"
    }
   }
  },
  {
   "cell_type": "markdown",
   "source": [
    "***RANK*** is used to assign a rank to every row within a partition of a result set.\n",
    "The ***RANK()*** function adds the number of tied rows to the tied rank\n",
    "to calculate the rank of the next row,\n",
    "so the ranks may not be sequential.\n",
    "In addition, rows with the same values will get the same rank."
   ],
   "metadata": {
    "collapsed": false,
    "pycharm": {
     "name": "#%% md\n"
    }
   }
  },
  {
   "cell_type": "code",
   "execution_count": 10,
   "outputs": [
    {
     "data": {
      "text/html": "<div>\n<style scoped>\n    .dataframe tbody tr th:only-of-type {\n        vertical-align: middle;\n    }\n\n    .dataframe tbody tr th {\n        vertical-align: top;\n    }\n\n    .dataframe thead th {\n        text-align: right;\n    }\n</style>\n<table border=\"1\" class=\"dataframe\">\n  <thead>\n    <tr style=\"text-align: right;\">\n      <th></th>\n      <th>id</th>\n      <th>account_id</th>\n      <th>month</th>\n      <th>row_num</th>\n    </tr>\n  </thead>\n  <tbody>\n    <tr>\n      <td>0</td>\n      <td>1</td>\n      <td>1001</td>\n      <td>2015-10-01</td>\n      <td>1</td>\n    </tr>\n    <tr>\n      <td>1</td>\n      <td>4307</td>\n      <td>1001</td>\n      <td>2015-11-01</td>\n      <td>2</td>\n    </tr>\n    <tr>\n      <td>2</td>\n      <td>2</td>\n      <td>1001</td>\n      <td>2015-11-01</td>\n      <td>2</td>\n    </tr>\n    <tr>\n      <td>3</td>\n      <td>3</td>\n      <td>1001</td>\n      <td>2015-12-01</td>\n      <td>4</td>\n    </tr>\n    <tr>\n      <td>4</td>\n      <td>4308</td>\n      <td>1001</td>\n      <td>2015-12-01</td>\n      <td>4</td>\n    </tr>\n    <tr>\n      <td>...</td>\n      <td>...</td>\n      <td>...</td>\n      <td>...</td>\n      <td>...</td>\n    </tr>\n    <tr>\n      <td>6907</td>\n      <td>4304</td>\n      <td>4501</td>\n      <td>2016-10-01</td>\n      <td>9</td>\n    </tr>\n    <tr>\n      <td>6908</td>\n      <td>4305</td>\n      <td>4501</td>\n      <td>2016-11-01</td>\n      <td>10</td>\n    </tr>\n    <tr>\n      <td>6909</td>\n      <td>6911</td>\n      <td>4501</td>\n      <td>2016-11-01</td>\n      <td>10</td>\n    </tr>\n    <tr>\n      <td>6910</td>\n      <td>6912</td>\n      <td>4501</td>\n      <td>2016-12-01</td>\n      <td>12</td>\n    </tr>\n    <tr>\n      <td>6911</td>\n      <td>4306</td>\n      <td>4501</td>\n      <td>2016-12-01</td>\n      <td>12</td>\n    </tr>\n  </tbody>\n</table>\n<p>6912 rows × 4 columns</p>\n</div>",
      "text/plain": "        id  account_id      month  row_num\n0        1        1001 2015-10-01        1\n1     4307        1001 2015-11-01        2\n2        2        1001 2015-11-01        2\n3        3        1001 2015-12-01        4\n4     4308        1001 2015-12-01        4\n...    ...         ...        ...      ...\n6907  4304        4501 2016-10-01        9\n6908  4305        4501 2016-11-01       10\n6909  6911        4501 2016-11-01       10\n6910  6912        4501 2016-12-01       12\n6911  4306        4501 2016-12-01       12\n\n[6912 rows x 4 columns]"
     },
     "execution_count": 10,
     "metadata": {},
     "output_type": "execute_result"
    }
   ],
   "source": [
    "q = \"\"\"\n",
    "SELECT id,\n",
    "      account_id,\n",
    "      DATE_TRUNC('month', occurred_at) AS month,\n",
    "      RANK() OVER (PARTITION BY account_id ORDER BY DATE_TRUNC('month', occurred_at)) AS row_num\n",
    "FROM orders;\n",
    "\"\"\"\n",
    "\n",
    "table = database.to_data_frame(q)\n",
    "table"
   ],
   "metadata": {
    "collapsed": false,
    "pycharm": {
     "name": "#%%\n"
    }
   }
  },
  {
   "cell_type": "markdown",
   "source": [
    "***DENSE_RANK()*** does not skip values after assigning several rows with the same rank."
   ],
   "metadata": {
    "collapsed": false,
    "pycharm": {
     "name": "#%% md\n"
    }
   }
  },
  {
   "cell_type": "code",
   "execution_count": 11,
   "outputs": [
    {
     "data": {
      "text/html": "<div>\n<style scoped>\n    .dataframe tbody tr th:only-of-type {\n        vertical-align: middle;\n    }\n\n    .dataframe tbody tr th {\n        vertical-align: top;\n    }\n\n    .dataframe thead th {\n        text-align: right;\n    }\n</style>\n<table border=\"1\" class=\"dataframe\">\n  <thead>\n    <tr style=\"text-align: right;\">\n      <th></th>\n      <th>id</th>\n      <th>account_id</th>\n      <th>month</th>\n      <th>row_num</th>\n    </tr>\n  </thead>\n  <tbody>\n    <tr>\n      <td>0</td>\n      <td>1</td>\n      <td>1001</td>\n      <td>2015-10-01</td>\n      <td>1</td>\n    </tr>\n    <tr>\n      <td>1</td>\n      <td>4307</td>\n      <td>1001</td>\n      <td>2015-11-01</td>\n      <td>2</td>\n    </tr>\n    <tr>\n      <td>2</td>\n      <td>2</td>\n      <td>1001</td>\n      <td>2015-11-01</td>\n      <td>2</td>\n    </tr>\n    <tr>\n      <td>3</td>\n      <td>3</td>\n      <td>1001</td>\n      <td>2015-12-01</td>\n      <td>3</td>\n    </tr>\n    <tr>\n      <td>4</td>\n      <td>4308</td>\n      <td>1001</td>\n      <td>2015-12-01</td>\n      <td>3</td>\n    </tr>\n    <tr>\n      <td>...</td>\n      <td>...</td>\n      <td>...</td>\n      <td>...</td>\n      <td>...</td>\n    </tr>\n    <tr>\n      <td>6907</td>\n      <td>4304</td>\n      <td>4501</td>\n      <td>2016-10-01</td>\n      <td>6</td>\n    </tr>\n    <tr>\n      <td>6908</td>\n      <td>4305</td>\n      <td>4501</td>\n      <td>2016-11-01</td>\n      <td>7</td>\n    </tr>\n    <tr>\n      <td>6909</td>\n      <td>6911</td>\n      <td>4501</td>\n      <td>2016-11-01</td>\n      <td>7</td>\n    </tr>\n    <tr>\n      <td>6910</td>\n      <td>6912</td>\n      <td>4501</td>\n      <td>2016-12-01</td>\n      <td>8</td>\n    </tr>\n    <tr>\n      <td>6911</td>\n      <td>4306</td>\n      <td>4501</td>\n      <td>2016-12-01</td>\n      <td>8</td>\n    </tr>\n  </tbody>\n</table>\n<p>6912 rows × 4 columns</p>\n</div>",
      "text/plain": "        id  account_id      month  row_num\n0        1        1001 2015-10-01        1\n1     4307        1001 2015-11-01        2\n2        2        1001 2015-11-01        2\n3        3        1001 2015-12-01        3\n4     4308        1001 2015-12-01        3\n...    ...         ...        ...      ...\n6907  4304        4501 2016-10-01        6\n6908  4305        4501 2016-11-01        7\n6909  6911        4501 2016-11-01        7\n6910  6912        4501 2016-12-01        8\n6911  4306        4501 2016-12-01        8\n\n[6912 rows x 4 columns]"
     },
     "execution_count": 11,
     "metadata": {},
     "output_type": "execute_result"
    }
   ],
   "source": [
    "q = \"\"\"\n",
    "SELECT id,\n",
    "      account_id,\n",
    "      DATE_TRUNC('month', occurred_at) AS month,\n",
    "      DENSE_RANK() OVER (PARTITION BY account_id ORDER BY DATE_TRUNC('month', occurred_at)) AS row_num\n",
    "FROM orders;\n",
    "\"\"\"\n",
    "\n",
    "table = database.to_data_frame(q)\n",
    "table\n"
   ],
   "metadata": {
    "collapsed": false,
    "pycharm": {
     "name": "#%%\n"
    }
   }
  },
  {
   "cell_type": "markdown",
   "source": [
    "### Ranking Total Paper Ordered by Account\n",
    "\n",
    "Select the `id`, `account_id`, and `total` variable from the `orders` table,\n",
    "then create a column called `total_rank` that ranks this total amount of paper\n",
    "ordered (from highest to lowest) for each account using a partition.\n",
    "Your final table should have these four columns."
   ],
   "metadata": {
    "collapsed": false,
    "pycharm": {
     "name": "#%% md\n"
    }
   }
  },
  {
   "cell_type": "code",
   "execution_count": 12,
   "outputs": [
    {
     "data": {
      "text/html": "<div>\n<style scoped>\n    .dataframe tbody tr th:only-of-type {\n        vertical-align: middle;\n    }\n\n    .dataframe tbody tr th {\n        vertical-align: top;\n    }\n\n    .dataframe thead th {\n        text-align: right;\n    }\n</style>\n<table border=\"1\" class=\"dataframe\">\n  <thead>\n    <tr style=\"text-align: right;\">\n      <th></th>\n      <th>id</th>\n      <th>account_id</th>\n      <th>total</th>\n      <th>total_rank</th>\n    </tr>\n  </thead>\n  <tbody>\n    <tr>\n      <td>0</td>\n      <td>4308</td>\n      <td>1001</td>\n      <td>1410</td>\n      <td>1</td>\n    </tr>\n    <tr>\n      <td>1</td>\n      <td>4309</td>\n      <td>1001</td>\n      <td>1405</td>\n      <td>2</td>\n    </tr>\n    <tr>\n      <td>2</td>\n      <td>4316</td>\n      <td>1001</td>\n      <td>1384</td>\n      <td>3</td>\n    </tr>\n    <tr>\n      <td>3</td>\n      <td>4317</td>\n      <td>1001</td>\n      <td>1347</td>\n      <td>4</td>\n    </tr>\n    <tr>\n      <td>4</td>\n      <td>4314</td>\n      <td>1001</td>\n      <td>1343</td>\n      <td>5</td>\n    </tr>\n    <tr>\n      <td>...</td>\n      <td>...</td>\n      <td>...</td>\n      <td>...</td>\n      <td>...</td>\n    </tr>\n    <tr>\n      <td>6907</td>\n      <td>4301</td>\n      <td>4501</td>\n      <td>164</td>\n      <td>9</td>\n    </tr>\n    <tr>\n      <td>6908</td>\n      <td>4300</td>\n      <td>4501</td>\n      <td>149</td>\n      <td>10</td>\n    </tr>\n    <tr>\n      <td>6909</td>\n      <td>4306</td>\n      <td>4501</td>\n      <td>126</td>\n      <td>11</td>\n    </tr>\n    <tr>\n      <td>6910</td>\n      <td>4299</td>\n      <td>4501</td>\n      <td>26</td>\n      <td>12</td>\n    </tr>\n    <tr>\n      <td>6911</td>\n      <td>4305</td>\n      <td>4501</td>\n      <td>13</td>\n      <td>13</td>\n    </tr>\n  </tbody>\n</table>\n<p>6912 rows × 4 columns</p>\n</div>",
      "text/plain": "        id  account_id  total  total_rank\n0     4308        1001   1410           1\n1     4309        1001   1405           2\n2     4316        1001   1384           3\n3     4317        1001   1347           4\n4     4314        1001   1343           5\n...    ...         ...    ...         ...\n6907  4301        4501    164           9\n6908  4300        4501    149          10\n6909  4306        4501    126          11\n6910  4299        4501     26          12\n6911  4305        4501     13          13\n\n[6912 rows x 4 columns]"
     },
     "execution_count": 12,
     "metadata": {},
     "output_type": "execute_result"
    }
   ],
   "source": [
    "q = \"\"\"\n",
    "SELECT id,\n",
    "       account_id,\n",
    "       total,\n",
    "       RANK() OVER (PARTITION BY account_id ORDER BY total DESC) AS total_rank\n",
    "FROM orders\n",
    "\"\"\"\n",
    "\n",
    "table = database.to_data_frame(q)\n",
    "table"
   ],
   "metadata": {
    "collapsed": false,
    "pycharm": {
     "name": "#%%\n"
    }
   }
  },
  {
   "cell_type": "markdown",
   "source": [
    "Aggregates in Window Functions with and without ***ORDER BY***."
   ],
   "metadata": {
    "collapsed": false,
    "pycharm": {
     "name": "#%% md\n"
    }
   }
  },
  {
   "cell_type": "code",
   "execution_count": 13,
   "outputs": [
    {
     "data": {
      "text/html": "<div>\n<style scoped>\n    .dataframe tbody tr th:only-of-type {\n        vertical-align: middle;\n    }\n\n    .dataframe tbody tr th {\n        vertical-align: top;\n    }\n\n    .dataframe thead th {\n        text-align: right;\n    }\n</style>\n<table border=\"1\" class=\"dataframe\">\n  <thead>\n    <tr style=\"text-align: right;\">\n      <th></th>\n      <th>id</th>\n      <th>account_id</th>\n      <th>standard_qty</th>\n      <th>month</th>\n      <th>dense_rank</th>\n      <th>sum_std_qty</th>\n      <th>count_std_qty</th>\n      <th>avg_std_qty</th>\n      <th>min_std_qty</th>\n      <th>max_std_qty</th>\n    </tr>\n  </thead>\n  <tbody>\n    <tr>\n      <td>0</td>\n      <td>1</td>\n      <td>1001</td>\n      <td>123</td>\n      <td>2015-10-01</td>\n      <td>1</td>\n      <td>123</td>\n      <td>1</td>\n      <td>123.000000</td>\n      <td>123</td>\n      <td>123</td>\n    </tr>\n    <tr>\n      <td>1</td>\n      <td>4307</td>\n      <td>1001</td>\n      <td>506</td>\n      <td>2015-11-01</td>\n      <td>2</td>\n      <td>819</td>\n      <td>3</td>\n      <td>273.000000</td>\n      <td>123</td>\n      <td>506</td>\n    </tr>\n    <tr>\n      <td>2</td>\n      <td>2</td>\n      <td>1001</td>\n      <td>190</td>\n      <td>2015-11-01</td>\n      <td>2</td>\n      <td>819</td>\n      <td>3</td>\n      <td>273.000000</td>\n      <td>123</td>\n      <td>506</td>\n    </tr>\n    <tr>\n      <td>3</td>\n      <td>3</td>\n      <td>1001</td>\n      <td>85</td>\n      <td>2015-12-01</td>\n      <td>3</td>\n      <td>1430</td>\n      <td>5</td>\n      <td>286.000000</td>\n      <td>85</td>\n      <td>526</td>\n    </tr>\n    <tr>\n      <td>4</td>\n      <td>4308</td>\n      <td>1001</td>\n      <td>526</td>\n      <td>2015-12-01</td>\n      <td>3</td>\n      <td>1430</td>\n      <td>5</td>\n      <td>286.000000</td>\n      <td>85</td>\n      <td>526</td>\n    </tr>\n    <tr>\n      <td>...</td>\n      <td>...</td>\n      <td>...</td>\n      <td>...</td>\n      <td>...</td>\n      <td>...</td>\n      <td>...</td>\n      <td>...</td>\n      <td>...</td>\n      <td>...</td>\n      <td>...</td>\n    </tr>\n    <tr>\n      <td>6907</td>\n      <td>4304</td>\n      <td>4501</td>\n      <td>159</td>\n      <td>2016-10-01</td>\n      <td>6</td>\n      <td>759</td>\n      <td>9</td>\n      <td>84.333333</td>\n      <td>5</td>\n      <td>180</td>\n    </tr>\n    <tr>\n      <td>6908</td>\n      <td>4305</td>\n      <td>4501</td>\n      <td>6</td>\n      <td>2016-11-01</td>\n      <td>7</td>\n      <td>828</td>\n      <td>11</td>\n      <td>75.272727</td>\n      <td>5</td>\n      <td>180</td>\n    </tr>\n    <tr>\n      <td>6909</td>\n      <td>6911</td>\n      <td>4501</td>\n      <td>63</td>\n      <td>2016-11-01</td>\n      <td>7</td>\n      <td>828</td>\n      <td>11</td>\n      <td>75.272727</td>\n      <td>5</td>\n      <td>180</td>\n    </tr>\n    <tr>\n      <td>6910</td>\n      <td>6912</td>\n      <td>4501</td>\n      <td>61</td>\n      <td>2016-12-01</td>\n      <td>8</td>\n      <td>1015</td>\n      <td>13</td>\n      <td>78.076923</td>\n      <td>5</td>\n      <td>180</td>\n    </tr>\n    <tr>\n      <td>6911</td>\n      <td>4306</td>\n      <td>4501</td>\n      <td>126</td>\n      <td>2016-12-01</td>\n      <td>8</td>\n      <td>1015</td>\n      <td>13</td>\n      <td>78.076923</td>\n      <td>5</td>\n      <td>180</td>\n    </tr>\n  </tbody>\n</table>\n<p>6912 rows × 10 columns</p>\n</div>",
      "text/plain": "        id  account_id  standard_qty      month  dense_rank  sum_std_qty  \\\n0        1        1001           123 2015-10-01           1          123   \n1     4307        1001           506 2015-11-01           2          819   \n2        2        1001           190 2015-11-01           2          819   \n3        3        1001            85 2015-12-01           3         1430   \n4     4308        1001           526 2015-12-01           3         1430   \n...    ...         ...           ...        ...         ...          ...   \n6907  4304        4501           159 2016-10-01           6          759   \n6908  4305        4501             6 2016-11-01           7          828   \n6909  6911        4501            63 2016-11-01           7          828   \n6910  6912        4501            61 2016-12-01           8         1015   \n6911  4306        4501           126 2016-12-01           8         1015   \n\n      count_std_qty  avg_std_qty  min_std_qty  max_std_qty  \n0                 1   123.000000          123          123  \n1                 3   273.000000          123          506  \n2                 3   273.000000          123          506  \n3                 5   286.000000           85          526  \n4                 5   286.000000           85          526  \n...             ...          ...          ...          ...  \n6907              9    84.333333            5          180  \n6908             11    75.272727            5          180  \n6909             11    75.272727            5          180  \n6910             13    78.076923            5          180  \n6911             13    78.076923            5          180  \n\n[6912 rows x 10 columns]"
     },
     "execution_count": 13,
     "metadata": {},
     "output_type": "execute_result"
    }
   ],
   "source": [
    "q = \"\"\"\n",
    "SELECT id,\n",
    "       account_id,\n",
    "       standard_qty,\n",
    "       DATE_TRUNC('month', occurred_at) AS month,\n",
    "       DENSE_RANK() OVER (PARTITION BY account_id ORDER BY DATE_TRUNC('month',occurred_at)) AS dense_rank,\n",
    "       SUM(standard_qty) OVER (PARTITION BY account_id ORDER BY DATE_TRUNC('month',occurred_at)) AS sum_std_qty,\n",
    "       COUNT(standard_qty) OVER (PARTITION BY account_id ORDER BY DATE_TRUNC('month',occurred_at)) AS count_std_qty,\n",
    "       AVG(standard_qty) OVER (PARTITION BY account_id ORDER BY DATE_TRUNC('month',occurred_at)) AS avg_std_qty,\n",
    "       MIN(standard_qty) OVER (PARTITION BY account_id ORDER BY DATE_TRUNC('month',occurred_at)) AS min_std_qty,\n",
    "       MAX(standard_qty) OVER (PARTITION BY account_id ORDER BY DATE_TRUNC('month',occurred_at)) AS max_std_qty\n",
    "FROM orders\n",
    "\"\"\"\n",
    "\n",
    "table = database.to_data_frame(q)\n",
    "table\n"
   ],
   "metadata": {
    "collapsed": false,
    "pycharm": {
     "name": "#%%\n"
    }
   }
  },
  {
   "cell_type": "code",
   "execution_count": 14,
   "outputs": [
    {
     "data": {
      "text/html": "<div>\n<style scoped>\n    .dataframe tbody tr th:only-of-type {\n        vertical-align: middle;\n    }\n\n    .dataframe tbody tr th {\n        vertical-align: top;\n    }\n\n    .dataframe thead th {\n        text-align: right;\n    }\n</style>\n<table border=\"1\" class=\"dataframe\">\n  <thead>\n    <tr style=\"text-align: right;\">\n      <th></th>\n      <th>id</th>\n      <th>account_id</th>\n      <th>standard_qty</th>\n      <th>occurred_at</th>\n      <th>dense_rank</th>\n      <th>sum_std_qty</th>\n      <th>count_std_qty</th>\n      <th>avg_std_qty</th>\n      <th>min_std_qty</th>\n      <th>max_std_qty</th>\n    </tr>\n  </thead>\n  <tbody>\n    <tr>\n      <td>0</td>\n      <td>14</td>\n      <td>1001</td>\n      <td>97</td>\n      <td>2016-10-26 20:31:30</td>\n      <td>1</td>\n      <td>7896</td>\n      <td>28</td>\n      <td>282.000000</td>\n      <td>85</td>\n      <td>566</td>\n    </tr>\n    <tr>\n      <td>1</td>\n      <td>4318</td>\n      <td>1001</td>\n      <td>485</td>\n      <td>2016-11-25 23:19:37</td>\n      <td>1</td>\n      <td>7896</td>\n      <td>28</td>\n      <td>282.000000</td>\n      <td>85</td>\n      <td>566</td>\n    </tr>\n    <tr>\n      <td>2</td>\n      <td>4317</td>\n      <td>1001</td>\n      <td>507</td>\n      <td>2016-09-26 23:22:47</td>\n      <td>1</td>\n      <td>7896</td>\n      <td>28</td>\n      <td>282.000000</td>\n      <td>85</td>\n      <td>566</td>\n    </tr>\n    <tr>\n      <td>3</td>\n      <td>4316</td>\n      <td>1001</td>\n      <td>557</td>\n      <td>2016-08-28 06:50:58</td>\n      <td>1</td>\n      <td>7896</td>\n      <td>28</td>\n      <td>282.000000</td>\n      <td>85</td>\n      <td>566</td>\n    </tr>\n    <tr>\n      <td>4</td>\n      <td>4315</td>\n      <td>1001</td>\n      <td>457</td>\n      <td>2016-07-30 03:21:57</td>\n      <td>1</td>\n      <td>7896</td>\n      <td>28</td>\n      <td>282.000000</td>\n      <td>85</td>\n      <td>566</td>\n    </tr>\n    <tr>\n      <td>...</td>\n      <td>...</td>\n      <td>...</td>\n      <td>...</td>\n      <td>...</td>\n      <td>...</td>\n      <td>...</td>\n      <td>...</td>\n      <td>...</td>\n      <td>...</td>\n      <td>...</td>\n    </tr>\n    <tr>\n      <td>6907</td>\n      <td>4299</td>\n      <td>4501</td>\n      <td>15</td>\n      <td>2016-05-30 04:18:34</td>\n      <td>1</td>\n      <td>1015</td>\n      <td>13</td>\n      <td>78.076923</td>\n      <td>5</td>\n      <td>180</td>\n    </tr>\n    <tr>\n      <td>6908</td>\n      <td>4303</td>\n      <td>4501</td>\n      <td>158</td>\n      <td>2016-09-25 01:44:03</td>\n      <td>1</td>\n      <td>1015</td>\n      <td>13</td>\n      <td>78.076923</td>\n      <td>5</td>\n      <td>180</td>\n    </tr>\n    <tr>\n      <td>6909</td>\n      <td>4304</td>\n      <td>4501</td>\n      <td>159</td>\n      <td>2016-10-24 08:50:37</td>\n      <td>1</td>\n      <td>1015</td>\n      <td>13</td>\n      <td>78.076923</td>\n      <td>5</td>\n      <td>180</td>\n    </tr>\n    <tr>\n      <td>6910</td>\n      <td>4305</td>\n      <td>4501</td>\n      <td>6</td>\n      <td>2016-11-22 06:57:04</td>\n      <td>1</td>\n      <td>1015</td>\n      <td>13</td>\n      <td>78.076923</td>\n      <td>5</td>\n      <td>180</td>\n    </tr>\n    <tr>\n      <td>6911</td>\n      <td>4306</td>\n      <td>4501</td>\n      <td>126</td>\n      <td>2016-12-21 13:43:26</td>\n      <td>1</td>\n      <td>1015</td>\n      <td>13</td>\n      <td>78.076923</td>\n      <td>5</td>\n      <td>180</td>\n    </tr>\n  </tbody>\n</table>\n<p>6912 rows × 10 columns</p>\n</div>",
      "text/plain": "        id  account_id  standard_qty         occurred_at  dense_rank  \\\n0       14        1001            97 2016-10-26 20:31:30           1   \n1     4318        1001           485 2016-11-25 23:19:37           1   \n2     4317        1001           507 2016-09-26 23:22:47           1   \n3     4316        1001           557 2016-08-28 06:50:58           1   \n4     4315        1001           457 2016-07-30 03:21:57           1   \n...    ...         ...           ...                 ...         ...   \n6907  4299        4501            15 2016-05-30 04:18:34           1   \n6908  4303        4501           158 2016-09-25 01:44:03           1   \n6909  4304        4501           159 2016-10-24 08:50:37           1   \n6910  4305        4501             6 2016-11-22 06:57:04           1   \n6911  4306        4501           126 2016-12-21 13:43:26           1   \n\n      sum_std_qty  count_std_qty  avg_std_qty  min_std_qty  max_std_qty  \n0            7896             28   282.000000           85          566  \n1            7896             28   282.000000           85          566  \n2            7896             28   282.000000           85          566  \n3            7896             28   282.000000           85          566  \n4            7896             28   282.000000           85          566  \n...           ...            ...          ...          ...          ...  \n6907         1015             13    78.076923            5          180  \n6908         1015             13    78.076923            5          180  \n6909         1015             13    78.076923            5          180  \n6910         1015             13    78.076923            5          180  \n6911         1015             13    78.076923            5          180  \n\n[6912 rows x 10 columns]"
     },
     "execution_count": 14,
     "metadata": {},
     "output_type": "execute_result"
    }
   ],
   "source": [
    "q = \"\"\"\n",
    "SELECT id,\n",
    "       account_id,\n",
    "       standard_qty,\n",
    "       occurred_at,\n",
    "       DENSE_RANK() OVER (PARTITION BY account_id) AS dense_rank,\n",
    "       SUM(standard_qty) OVER (PARTITION BY account_id) AS sum_std_qty,\n",
    "       COUNT(standard_qty) OVER (PARTITION BY account_id) AS count_std_qty,\n",
    "       AVG(standard_qty) OVER (PARTITION BY account_id) AS avg_std_qty,\n",
    "       MIN(standard_qty) OVER (PARTITION BY account_id) AS min_std_qty,\n",
    "       MAX(standard_qty) OVER (PARTITION BY account_id) AS max_std_qty\n",
    "FROM orders\n",
    "\"\"\"\n",
    "\n",
    "table = database.to_data_frame(q)\n",
    "table"
   ],
   "metadata": {
    "collapsed": false,
    "pycharm": {
     "name": "#%%\n"
    }
   }
  },
  {
   "cell_type": "markdown",
   "source": [
    "### Aggregates in Window Functions with and without ORDER BY\n",
    "\n",
    "The ***ORDER BY*** clause is one of two clauses integral to window functions.\n",
    "The ***ORDER*** and ***PARTITION*** define what is referred to as the “window” —\n",
    "the ordered subset of data over which calculations are made.\n",
    "Removing ***ORDER BY*** just leaves an unordered partition;\n",
    "in our query's case, each column's value is simply an aggregation\n",
    "(e.g., sum, count, average, minimum, or maximum)\n",
    "of all the `standard_qty` values in its respective `account_id`.\n",
    "\n",
    "As Stack Overflow user\n",
    "[mathguy](https://stackoverflow.com/questions/41364665/analytic-count-over-partition-with-and-without-order-by-clause)\n",
    "explains:\n",
    "\n",
    "The easiest way to think about this - leaving the ***ORDER BY*** out is equivalent to\n",
    "\"ordering\" in a way that all rows in the partition are \"equal\" to each other.\n",
    "Indeed, you can get the same effect by explicitly adding the ***ORDER BY*** clause like this:\n",
    "***ORDER BY 0*** (or \"order by\" any constant expression), or even, more emphatically,\n",
    "***ORDER BY NULL***."
   ],
   "metadata": {
    "collapsed": false,
    "pycharm": {
     "name": "#%% md\n"
    }
   }
  },
  {
   "cell_type": "markdown",
   "source": [
    "You can check out a complete list of window functions in Postgres (the syntax Mode uses) in the\n",
    "[Postgres documentation](https://www.postgresql.org/docs/8.4/functions-window.html)."
   ],
   "metadata": {
    "collapsed": false,
    "pycharm": {
     "name": "#%% md\n"
    }
   }
  },
  {
   "cell_type": "code",
   "execution_count": 15,
   "outputs": [
    {
     "data": {
      "text/html": "<div>\n<style scoped>\n    .dataframe tbody tr th:only-of-type {\n        vertical-align: middle;\n    }\n\n    .dataframe tbody tr th {\n        vertical-align: top;\n    }\n\n    .dataframe thead th {\n        text-align: right;\n    }\n</style>\n<table border=\"1\" class=\"dataframe\">\n  <thead>\n    <tr style=\"text-align: right;\">\n      <th></th>\n      <th>id</th>\n      <th>account_id</th>\n      <th>standard_qty</th>\n      <th>month</th>\n      <th>dense_rank</th>\n      <th>sum_std_qty</th>\n      <th>count_std_qty</th>\n      <th>avg_std_qty</th>\n      <th>min_std_qty</th>\n      <th>max_std_qty</th>\n    </tr>\n  </thead>\n  <tbody>\n    <tr>\n      <td>0</td>\n      <td>1</td>\n      <td>1001</td>\n      <td>123</td>\n      <td>2015-10-01</td>\n      <td>1</td>\n      <td>123</td>\n      <td>1</td>\n      <td>123.000000</td>\n      <td>123</td>\n      <td>123</td>\n    </tr>\n    <tr>\n      <td>1</td>\n      <td>4307</td>\n      <td>1001</td>\n      <td>506</td>\n      <td>2015-11-01</td>\n      <td>2</td>\n      <td>819</td>\n      <td>3</td>\n      <td>273.000000</td>\n      <td>123</td>\n      <td>506</td>\n    </tr>\n    <tr>\n      <td>2</td>\n      <td>2</td>\n      <td>1001</td>\n      <td>190</td>\n      <td>2015-11-01</td>\n      <td>2</td>\n      <td>819</td>\n      <td>3</td>\n      <td>273.000000</td>\n      <td>123</td>\n      <td>506</td>\n    </tr>\n    <tr>\n      <td>3</td>\n      <td>3</td>\n      <td>1001</td>\n      <td>85</td>\n      <td>2015-12-01</td>\n      <td>3</td>\n      <td>1430</td>\n      <td>5</td>\n      <td>286.000000</td>\n      <td>85</td>\n      <td>526</td>\n    </tr>\n    <tr>\n      <td>4</td>\n      <td>4308</td>\n      <td>1001</td>\n      <td>526</td>\n      <td>2015-12-01</td>\n      <td>3</td>\n      <td>1430</td>\n      <td>5</td>\n      <td>286.000000</td>\n      <td>85</td>\n      <td>526</td>\n    </tr>\n    <tr>\n      <td>...</td>\n      <td>...</td>\n      <td>...</td>\n      <td>...</td>\n      <td>...</td>\n      <td>...</td>\n      <td>...</td>\n      <td>...</td>\n      <td>...</td>\n      <td>...</td>\n      <td>...</td>\n    </tr>\n    <tr>\n      <td>6907</td>\n      <td>4304</td>\n      <td>4501</td>\n      <td>159</td>\n      <td>2016-10-01</td>\n      <td>6</td>\n      <td>759</td>\n      <td>9</td>\n      <td>84.333333</td>\n      <td>5</td>\n      <td>180</td>\n    </tr>\n    <tr>\n      <td>6908</td>\n      <td>4305</td>\n      <td>4501</td>\n      <td>6</td>\n      <td>2016-11-01</td>\n      <td>7</td>\n      <td>828</td>\n      <td>11</td>\n      <td>75.272727</td>\n      <td>5</td>\n      <td>180</td>\n    </tr>\n    <tr>\n      <td>6909</td>\n      <td>6911</td>\n      <td>4501</td>\n      <td>63</td>\n      <td>2016-11-01</td>\n      <td>7</td>\n      <td>828</td>\n      <td>11</td>\n      <td>75.272727</td>\n      <td>5</td>\n      <td>180</td>\n    </tr>\n    <tr>\n      <td>6910</td>\n      <td>6912</td>\n      <td>4501</td>\n      <td>61</td>\n      <td>2016-12-01</td>\n      <td>8</td>\n      <td>1015</td>\n      <td>13</td>\n      <td>78.076923</td>\n      <td>5</td>\n      <td>180</td>\n    </tr>\n    <tr>\n      <td>6911</td>\n      <td>4306</td>\n      <td>4501</td>\n      <td>126</td>\n      <td>2016-12-01</td>\n      <td>8</td>\n      <td>1015</td>\n      <td>13</td>\n      <td>78.076923</td>\n      <td>5</td>\n      <td>180</td>\n    </tr>\n  </tbody>\n</table>\n<p>6912 rows × 10 columns</p>\n</div>",
      "text/plain": "        id  account_id  standard_qty      month  dense_rank  sum_std_qty  \\\n0        1        1001           123 2015-10-01           1          123   \n1     4307        1001           506 2015-11-01           2          819   \n2        2        1001           190 2015-11-01           2          819   \n3        3        1001            85 2015-12-01           3         1430   \n4     4308        1001           526 2015-12-01           3         1430   \n...    ...         ...           ...        ...         ...          ...   \n6907  4304        4501           159 2016-10-01           6          759   \n6908  4305        4501             6 2016-11-01           7          828   \n6909  6911        4501            63 2016-11-01           7          828   \n6910  6912        4501            61 2016-12-01           8         1015   \n6911  4306        4501           126 2016-12-01           8         1015   \n\n      count_std_qty  avg_std_qty  min_std_qty  max_std_qty  \n0                 1   123.000000          123          123  \n1                 3   273.000000          123          506  \n2                 3   273.000000          123          506  \n3                 5   286.000000           85          526  \n4                 5   286.000000           85          526  \n...             ...          ...          ...          ...  \n6907              9    84.333333            5          180  \n6908             11    75.272727            5          180  \n6909             11    75.272727            5          180  \n6910             13    78.076923            5          180  \n6911             13    78.076923            5          180  \n\n[6912 rows x 10 columns]"
     },
     "execution_count": 15,
     "metadata": {},
     "output_type": "execute_result"
    }
   ],
   "source": [
    "q = \"\"\"\n",
    "SELECT id,\n",
    "       account_id,\n",
    "       standard_qty,\n",
    "       DATE_TRUNC('month', occurred_at) AS month,\n",
    "       DENSE_RANK() OVER main_window AS dense_rank,\n",
    "       SUM(standard_qty) OVER main_window AS sum_std_qty,\n",
    "       COUNT(standard_qty) OVER main_window AS count_std_qty,\n",
    "       AVG(standard_qty) OVER main_window AS avg_std_qty,\n",
    "       MIN(standard_qty) OVER main_window AS min_std_qty,\n",
    "       MAX(standard_qty) OVER main_window AS max_std_qty\n",
    "FROM orders\n",
    "WINDOW main_window AS (PARTITION BY account_id ORDER BY DATE_TRUNC('month',occurred_at))\n",
    "\"\"\"\n",
    "\n",
    "table = database.to_data_frame(q)\n",
    "table"
   ],
   "metadata": {
    "collapsed": false,
    "pycharm": {
     "name": "#%%\n"
    }
   }
  },
  {
   "cell_type": "markdown",
   "source": [
    "Another example:"
   ],
   "metadata": {
    "collapsed": false,
    "pycharm": {
     "name": "#%% md\n"
    }
   }
  },
  {
   "cell_type": "code",
   "execution_count": 16,
   "outputs": [
    {
     "data": {
      "text/html": "<div>\n<style scoped>\n    .dataframe tbody tr th:only-of-type {\n        vertical-align: middle;\n    }\n\n    .dataframe tbody tr th {\n        vertical-align: top;\n    }\n\n    .dataframe thead th {\n        text-align: right;\n    }\n</style>\n<table border=\"1\" class=\"dataframe\">\n  <thead>\n    <tr style=\"text-align: right;\">\n      <th></th>\n      <th>id</th>\n      <th>account_id</th>\n      <th>year</th>\n      <th>dense_rank</th>\n      <th>total_amt_usd</th>\n      <th>sum_total_amt_usd</th>\n      <th>count_total_amt_usd</th>\n      <th>avg_total_amt_usd</th>\n      <th>min_total_amt_usd</th>\n      <th>max_total_amt_usd</th>\n    </tr>\n  </thead>\n  <tbody>\n    <tr>\n      <td>0</td>\n      <td>4307</td>\n      <td>1001</td>\n      <td>2015-01-01</td>\n      <td>1</td>\n      <td>8757.18</td>\n      <td>21651.53</td>\n      <td>5</td>\n      <td>4330.306</td>\n      <td>776.18</td>\n      <td>9426.71</td>\n    </tr>\n    <tr>\n      <td>1</td>\n      <td>3</td>\n      <td>1001</td>\n      <td>2015-01-01</td>\n      <td>1</td>\n      <td>776.18</td>\n      <td>21651.53</td>\n      <td>5</td>\n      <td>4330.306</td>\n      <td>776.18</td>\n      <td>9426.71</td>\n    </tr>\n    <tr>\n      <td>2</td>\n      <td>2</td>\n      <td>1001</td>\n      <td>2015-01-01</td>\n      <td>1</td>\n      <td>1718.03</td>\n      <td>21651.53</td>\n      <td>5</td>\n      <td>4330.306</td>\n      <td>776.18</td>\n      <td>9426.71</td>\n    </tr>\n    <tr>\n      <td>3</td>\n      <td>1</td>\n      <td>1001</td>\n      <td>2015-01-01</td>\n      <td>1</td>\n      <td>973.43</td>\n      <td>21651.53</td>\n      <td>5</td>\n      <td>4330.306</td>\n      <td>776.18</td>\n      <td>9426.71</td>\n    </tr>\n    <tr>\n      <td>4</td>\n      <td>4308</td>\n      <td>1001</td>\n      <td>2015-01-01</td>\n      <td>1</td>\n      <td>9426.71</td>\n      <td>21651.53</td>\n      <td>5</td>\n      <td>4330.306</td>\n      <td>776.18</td>\n      <td>9426.71</td>\n    </tr>\n    <tr>\n      <td>...</td>\n      <td>...</td>\n      <td>...</td>\n      <td>...</td>\n      <td>...</td>\n      <td>...</td>\n      <td>...</td>\n      <td>...</td>\n      <td>...</td>\n      <td>...</td>\n      <td>...</td>\n    </tr>\n    <tr>\n      <td>6907</td>\n      <td>6910</td>\n      <td>4501</td>\n      <td>2016-01-01</td>\n      <td>1</td>\n      <td>1449.74</td>\n      <td>14629.16</td>\n      <td>13</td>\n      <td>1125.320</td>\n      <td>86.78</td>\n      <td>2024.48</td>\n    </tr>\n    <tr>\n      <td>6908</td>\n      <td>6911</td>\n      <td>4501</td>\n      <td>2016-01-01</td>\n      <td>1</td>\n      <td>1473.92</td>\n      <td>14629.16</td>\n      <td>13</td>\n      <td>1125.320</td>\n      <td>86.78</td>\n      <td>2024.48</td>\n    </tr>\n    <tr>\n      <td>6909</td>\n      <td>4306</td>\n      <td>4501</td>\n      <td>2016-01-01</td>\n      <td>1</td>\n      <td>628.74</td>\n      <td>14629.16</td>\n      <td>13</td>\n      <td>1125.320</td>\n      <td>86.78</td>\n      <td>2024.48</td>\n    </tr>\n    <tr>\n      <td>6910</td>\n      <td>4305</td>\n      <td>4501</td>\n      <td>2016-01-01</td>\n      <td>1</td>\n      <td>86.78</td>\n      <td>14629.16</td>\n      <td>13</td>\n      <td>1125.320</td>\n      <td>86.78</td>\n      <td>2024.48</td>\n    </tr>\n    <tr>\n      <td>6911</td>\n      <td>6908</td>\n      <td>4501</td>\n      <td>2016-01-01</td>\n      <td>1</td>\n      <td>2024.48</td>\n      <td>14629.16</td>\n      <td>13</td>\n      <td>1125.320</td>\n      <td>86.78</td>\n      <td>2024.48</td>\n    </tr>\n  </tbody>\n</table>\n<p>6912 rows × 10 columns</p>\n</div>",
      "text/plain": "        id  account_id       year  dense_rank  total_amt_usd  \\\n0     4307        1001 2015-01-01           1        8757.18   \n1        3        1001 2015-01-01           1         776.18   \n2        2        1001 2015-01-01           1        1718.03   \n3        1        1001 2015-01-01           1         973.43   \n4     4308        1001 2015-01-01           1        9426.71   \n...    ...         ...        ...         ...            ...   \n6907  6910        4501 2016-01-01           1        1449.74   \n6908  6911        4501 2016-01-01           1        1473.92   \n6909  4306        4501 2016-01-01           1         628.74   \n6910  4305        4501 2016-01-01           1          86.78   \n6911  6908        4501 2016-01-01           1        2024.48   \n\n      sum_total_amt_usd  count_total_amt_usd  avg_total_amt_usd  \\\n0              21651.53                    5           4330.306   \n1              21651.53                    5           4330.306   \n2              21651.53                    5           4330.306   \n3              21651.53                    5           4330.306   \n4              21651.53                    5           4330.306   \n...                 ...                  ...                ...   \n6907           14629.16                   13           1125.320   \n6908           14629.16                   13           1125.320   \n6909           14629.16                   13           1125.320   \n6910           14629.16                   13           1125.320   \n6911           14629.16                   13           1125.320   \n\n      min_total_amt_usd  max_total_amt_usd  \n0                776.18            9426.71  \n1                776.18            9426.71  \n2                776.18            9426.71  \n3                776.18            9426.71  \n4                776.18            9426.71  \n...                 ...                ...  \n6907              86.78            2024.48  \n6908              86.78            2024.48  \n6909              86.78            2024.48  \n6910              86.78            2024.48  \n6911              86.78            2024.48  \n\n[6912 rows x 10 columns]"
     },
     "execution_count": 16,
     "metadata": {},
     "output_type": "execute_result"
    }
   ],
   "source": [
    "q = \"\"\"\n",
    "SELECT id,\n",
    "       account_id,\n",
    "       DATE_TRUNC('year',occurred_at) AS year,\n",
    "       DENSE_RANK() OVER account_year_window AS dense_rank,\n",
    "       total_amt_usd,\n",
    "       SUM(total_amt_usd) OVER account_year_window AS sum_total_amt_usd,\n",
    "       COUNT(total_amt_usd) OVER account_year_window AS count_total_amt_usd,\n",
    "       AVG(total_amt_usd) OVER account_year_window AS avg_total_amt_usd,\n",
    "       MIN(total_amt_usd) OVER account_year_window AS min_total_amt_usd,\n",
    "       MAX(total_amt_usd) OVER account_year_window AS max_total_amt_usd\n",
    "FROM orders\n",
    "WINDOW account_year_window AS (PARTITION BY account_id ORDER BY DATE_TRUNC('year',occurred_at))\n",
    "\"\"\"\n",
    "\n",
    "table = database.to_data_frame(q)\n",
    "table"
   ],
   "metadata": {
    "collapsed": false,
    "pycharm": {
     "name": "#%%\n"
    }
   }
  },
  {
   "cell_type": "markdown",
   "source": [
    "### Scenarios for using ***LAG*** and ***LEAD*** functions\n",
    "\n",
    "You can use ***LAG*** and ***LEAD*** functions whenever you are trying to compare the values in adjacent rows\n",
    "or rows that are offset by a certain number."
   ],
   "metadata": {
    "collapsed": false,
    "pycharm": {
     "name": "#%% md\n"
    }
   }
  },
  {
   "cell_type": "markdown",
   "source": [
    "Comparing a Row to Previous Row\n",
    "\n",
    "Imagine you're an analyst at Parch & Posey and you want to determine how the current order's total revenue\n",
    "(\"total\" meaning from sales of all types of paper) compares to the next order's total revenue."
   ],
   "metadata": {
    "collapsed": false,
    "pycharm": {
     "name": "#%% md\n"
    }
   }
  },
  {
   "cell_type": "code",
   "execution_count": 17,
   "outputs": [
    {
     "data": {
      "text/html": "<div>\n<style scoped>\n    .dataframe tbody tr th:only-of-type {\n        vertical-align: middle;\n    }\n\n    .dataframe tbody tr th {\n        vertical-align: top;\n    }\n\n    .dataframe thead th {\n        text-align: right;\n    }\n</style>\n<table border=\"1\" class=\"dataframe\">\n  <thead>\n    <tr style=\"text-align: right;\">\n      <th></th>\n      <th>day</th>\n      <th>total_amt_usd</th>\n      <th>lead</th>\n      <th>lead_difference</th>\n    </tr>\n  </thead>\n  <tbody>\n    <tr>\n      <td>0</td>\n      <td>2013-12-04</td>\n      <td>5983.87</td>\n      <td>3278.98</td>\n      <td>-2704.89</td>\n    </tr>\n    <tr>\n      <td>1</td>\n      <td>2013-12-05</td>\n      <td>3278.98</td>\n      <td>24071.14</td>\n      <td>20792.16</td>\n    </tr>\n    <tr>\n      <td>2</td>\n      <td>2013-12-06</td>\n      <td>24071.14</td>\n      <td>58294.79</td>\n      <td>34223.65</td>\n    </tr>\n    <tr>\n      <td>3</td>\n      <td>2013-12-08</td>\n      <td>58294.79</td>\n      <td>5219.81</td>\n      <td>-53074.98</td>\n    </tr>\n    <tr>\n      <td>4</td>\n      <td>2013-12-09</td>\n      <td>5219.81</td>\n      <td>7266.54</td>\n      <td>2046.73</td>\n    </tr>\n    <tr>\n      <td>...</td>\n      <td>...</td>\n      <td>...</td>\n      <td>...</td>\n      <td>...</td>\n    </tr>\n    <tr>\n      <td>1055</td>\n      <td>2016-12-29</td>\n      <td>43364.81</td>\n      <td>21914.50</td>\n      <td>-21450.31</td>\n    </tr>\n    <tr>\n      <td>1056</td>\n      <td>2016-12-30</td>\n      <td>21914.50</td>\n      <td>63505.30</td>\n      <td>41590.80</td>\n    </tr>\n    <tr>\n      <td>1057</td>\n      <td>2016-12-31</td>\n      <td>63505.30</td>\n      <td>71699.67</td>\n      <td>8194.37</td>\n    </tr>\n    <tr>\n      <td>1058</td>\n      <td>2017-01-01</td>\n      <td>71699.67</td>\n      <td>6451.76</td>\n      <td>-65247.91</td>\n    </tr>\n    <tr>\n      <td>1059</td>\n      <td>2017-01-02</td>\n      <td>6451.76</td>\n      <td>NaN</td>\n      <td>NaN</td>\n    </tr>\n  </tbody>\n</table>\n<p>1060 rows × 4 columns</p>\n</div>",
      "text/plain": "            day  total_amt_usd      lead  lead_difference\n0    2013-12-04        5983.87   3278.98         -2704.89\n1    2013-12-05        3278.98  24071.14         20792.16\n2    2013-12-06       24071.14  58294.79         34223.65\n3    2013-12-08       58294.79   5219.81        -53074.98\n4    2013-12-09        5219.81   7266.54          2046.73\n...         ...            ...       ...              ...\n1055 2016-12-29       43364.81  21914.50        -21450.31\n1056 2016-12-30       21914.50  63505.30         41590.80\n1057 2016-12-31       63505.30  71699.67          8194.37\n1058 2017-01-01       71699.67   6451.76        -65247.91\n1059 2017-01-02        6451.76       NaN              NaN\n\n[1060 rows x 4 columns]"
     },
     "execution_count": 17,
     "metadata": {},
     "output_type": "execute_result"
    }
   ],
   "source": [
    "q = \"\"\"\n",
    "SELECT day,\n",
    "       total_amt_usd,\n",
    "       LEAD(total_amt_usd) OVER (ORDER BY day) AS lead,\n",
    "       LEAD(total_amt_usd) OVER (ORDER BY day) - total_amt_usd AS lead_difference\n",
    "FROM (\n",
    "SELECT DATE_TRUNC('day', occurred_at) AS day,\n",
    "       SUM(total_amt_usd) AS total_amt_usd\n",
    "  FROM orders\n",
    " GROUP BY 1\n",
    " ORDER BY DATE_TRUNC('day', occurred_at)\n",
    ") sub\n",
    "\"\"\"\n",
    "\n",
    "table = database.to_data_frame(q)\n",
    "table"
   ],
   "metadata": {
    "collapsed": false,
    "pycharm": {
     "name": "#%%\n"
    }
   }
  },
  {
   "cell_type": "markdown",
   "source": [
    "### Percentiles with Partitions"
   ],
   "metadata": {
    "collapsed": false,
    "pycharm": {
     "name": "#%% md\n"
    }
   }
  },
  {
   "cell_type": "markdown",
   "source": [
    "1. Use the ***NTILE*** functionality to divide the accounts into 4 levels in terms of the amount of `standard_qty`\n",
    "for their orders. Your resulting table should have the `account_id`, the `occurred_at` time for each order,\n",
    "the total amount of `standard_qty` paper purchased, and one of four levels in a `standard_quartile` column."
   ],
   "metadata": {
    "collapsed": false,
    "pycharm": {
     "name": "#%% md\n"
    }
   }
  },
  {
   "cell_type": "code",
   "execution_count": 18,
   "outputs": [
    {
     "data": {
      "text/html": "<div>\n<style scoped>\n    .dataframe tbody tr th:only-of-type {\n        vertical-align: middle;\n    }\n\n    .dataframe tbody tr th {\n        vertical-align: top;\n    }\n\n    .dataframe thead th {\n        text-align: right;\n    }\n</style>\n<table border=\"1\" class=\"dataframe\">\n  <thead>\n    <tr style=\"text-align: right;\">\n      <th></th>\n      <th>account_id</th>\n      <th>occurred_at</th>\n      <th>standard_qty</th>\n      <th>standard_quartile</th>\n    </tr>\n  </thead>\n  <tbody>\n    <tr>\n      <td>0</td>\n      <td>4501</td>\n      <td>2016-08-27 00:58:11</td>\n      <td>16</td>\n      <td>2</td>\n    </tr>\n    <tr>\n      <td>1</td>\n      <td>4501</td>\n      <td>2016-12-21 13:30:42</td>\n      <td>61</td>\n      <td>2</td>\n    </tr>\n    <tr>\n      <td>2</td>\n      <td>4501</td>\n      <td>2016-11-22 06:52:22</td>\n      <td>63</td>\n      <td>2</td>\n    </tr>\n    <tr>\n      <td>3</td>\n      <td>4501</td>\n      <td>2016-06-29 03:57:11</td>\n      <td>104</td>\n      <td>3</td>\n    </tr>\n    <tr>\n      <td>4</td>\n      <td>4501</td>\n      <td>2016-07-29 20:06:39</td>\n      <td>111</td>\n      <td>3</td>\n    </tr>\n    <tr>\n      <td>...</td>\n      <td>...</td>\n      <td>...</td>\n      <td>...</td>\n      <td>...</td>\n    </tr>\n    <tr>\n      <td>6907</td>\n      <td>1001</td>\n      <td>2016-02-01 19:07:32</td>\n      <td>473</td>\n      <td>3</td>\n    </tr>\n    <tr>\n      <td>6908</td>\n      <td>1001</td>\n      <td>2016-07-30 03:21:57</td>\n      <td>457</td>\n      <td>3</td>\n    </tr>\n    <tr>\n      <td>6909</td>\n      <td>1001</td>\n      <td>2015-11-05 03:34:33</td>\n      <td>190</td>\n      <td>3</td>\n    </tr>\n    <tr>\n      <td>6910</td>\n      <td>1001</td>\n      <td>2016-01-02 01:18:24</td>\n      <td>144</td>\n      <td>3</td>\n    </tr>\n    <tr>\n      <td>6911</td>\n      <td>1001</td>\n      <td>2016-11-25 23:21:32</td>\n      <td>127</td>\n      <td>2</td>\n    </tr>\n  </tbody>\n</table>\n<p>6912 rows × 4 columns</p>\n</div>",
      "text/plain": "      account_id         occurred_at  standard_qty  standard_quartile\n0           4501 2016-08-27 00:58:11            16                  2\n1           4501 2016-12-21 13:30:42            61                  2\n2           4501 2016-11-22 06:52:22            63                  2\n3           4501 2016-06-29 03:57:11           104                  3\n4           4501 2016-07-29 20:06:39           111                  3\n...          ...                 ...           ...                ...\n6907        1001 2016-02-01 19:07:32           473                  3\n6908        1001 2016-07-30 03:21:57           457                  3\n6909        1001 2015-11-05 03:34:33           190                  3\n6910        1001 2016-01-02 01:18:24           144                  3\n6911        1001 2016-11-25 23:21:32           127                  2\n\n[6912 rows x 4 columns]"
     },
     "execution_count": 18,
     "metadata": {},
     "output_type": "execute_result"
    }
   ],
   "source": [
    "q = \"\"\"\n",
    "SELECT\n",
    "       account_id,\n",
    "       occurred_at,\n",
    "       standard_qty,\n",
    "       NTILE(4) OVER (PARTITION BY account_id ORDER BY standard_qty) AS standard_quartile\n",
    "  FROM orders\n",
    " ORDER BY account_id DESC\n",
    "\"\"\"\n",
    "\n",
    "table = database.to_data_frame(q)\n",
    "table"
   ],
   "metadata": {
    "collapsed": false,
    "pycharm": {
     "name": "#%%\n"
    }
   }
  },
  {
   "cell_type": "markdown",
   "source": [
    "2. Use the ***NTILE*** functionality to divide the accounts into two levels in terms of\n",
    "the amount of `gloss_qty` for their orders.\n",
    "Your resulting table should have the `account_id`, the `occurred_at` time for each order,\n",
    "the total amount of `gloss_qty` paper purchased, and one of two levels in a `gloss_half` column.\n"
   ],
   "metadata": {
    "collapsed": false,
    "pycharm": {
     "name": "#%% md\n"
    }
   }
  },
  {
   "cell_type": "code",
   "execution_count": 19,
   "outputs": [
    {
     "data": {
      "text/html": "<div>\n<style scoped>\n    .dataframe tbody tr th:only-of-type {\n        vertical-align: middle;\n    }\n\n    .dataframe tbody tr th {\n        vertical-align: top;\n    }\n\n    .dataframe thead th {\n        text-align: right;\n    }\n</style>\n<table border=\"1\" class=\"dataframe\">\n  <thead>\n    <tr style=\"text-align: right;\">\n      <th></th>\n      <th>account_id</th>\n      <th>occurred_at</th>\n      <th>gloss_qty</th>\n      <th>gloss_half</th>\n    </tr>\n  </thead>\n  <tbody>\n    <tr>\n      <td>0</td>\n      <td>4501</td>\n      <td>2016-08-27 00:48:17</td>\n      <td>11</td>\n      <td>1</td>\n    </tr>\n    <tr>\n      <td>1</td>\n      <td>4501</td>\n      <td>2016-05-30 04:18:34</td>\n      <td>11</td>\n      <td>1</td>\n    </tr>\n    <tr>\n      <td>2</td>\n      <td>4501</td>\n      <td>2016-06-29 03:57:11</td>\n      <td>14</td>\n      <td>1</td>\n    </tr>\n    <tr>\n      <td>3</td>\n      <td>4501</td>\n      <td>2016-07-29 20:06:39</td>\n      <td>16</td>\n      <td>2</td>\n    </tr>\n    <tr>\n      <td>4</td>\n      <td>4501</td>\n      <td>2016-11-22 06:52:22</td>\n      <td>67</td>\n      <td>2</td>\n    </tr>\n    <tr>\n      <td>...</td>\n      <td>...</td>\n      <td>...</td>\n      <td>...</td>\n      <td>...</td>\n    </tr>\n    <tr>\n      <td>6907</td>\n      <td>1001</td>\n      <td>2016-11-25 23:19:37</td>\n      <td>543</td>\n      <td>2</td>\n    </tr>\n    <tr>\n      <td>6908</td>\n      <td>1001</td>\n      <td>2016-07-30 03:21:57</td>\n      <td>532</td>\n      <td>2</td>\n    </tr>\n    <tr>\n      <td>6909</td>\n      <td>1001</td>\n      <td>2016-10-26 20:31:30</td>\n      <td>143</td>\n      <td>2</td>\n    </tr>\n    <tr>\n      <td>6910</td>\n      <td>1001</td>\n      <td>2016-12-24 05:53:13</td>\n      <td>127</td>\n      <td>2</td>\n    </tr>\n    <tr>\n      <td>6911</td>\n      <td>1001</td>\n      <td>2015-12-04 04:21:55</td>\n      <td>47</td>\n      <td>1</td>\n    </tr>\n  </tbody>\n</table>\n<p>6912 rows × 4 columns</p>\n</div>",
      "text/plain": "      account_id         occurred_at  gloss_qty  gloss_half\n0           4501 2016-08-27 00:48:17         11           1\n1           4501 2016-05-30 04:18:34         11           1\n2           4501 2016-06-29 03:57:11         14           1\n3           4501 2016-07-29 20:06:39         16           2\n4           4501 2016-11-22 06:52:22         67           2\n...          ...                 ...        ...         ...\n6907        1001 2016-11-25 23:19:37        543           2\n6908        1001 2016-07-30 03:21:57        532           2\n6909        1001 2016-10-26 20:31:30        143           2\n6910        1001 2016-12-24 05:53:13        127           2\n6911        1001 2015-12-04 04:21:55         47           1\n\n[6912 rows x 4 columns]"
     },
     "execution_count": 19,
     "metadata": {},
     "output_type": "execute_result"
    }
   ],
   "source": [
    "q = \"\"\"\n",
    "SELECT\n",
    "       account_id,\n",
    "       occurred_at,\n",
    "       gloss_qty,\n",
    "       NTILE(2) OVER (PARTITION BY account_id ORDER BY gloss_qty) AS gloss_half\n",
    "  FROM orders\n",
    " ORDER BY account_id DESC\n",
    "\"\"\"\n",
    "\n",
    "table = database.to_data_frame(q)\n",
    "table"
   ],
   "metadata": {
    "collapsed": false,
    "pycharm": {
     "name": "#%%\n"
    }
   }
  },
  {
   "cell_type": "markdown",
   "source": [
    "3. Use the ***NTILE*** functionality to divide the orders for each account into 100 levels in terms of\n",
    "the amount of `total_amt_usd` for their orders.\n",
    "Your resulting table should have the `account_id`, the `occurred_at` time for each order,\n",
    "the total amount of `total_amt_usd` paper purchased, and one of 100 levels in a `total_percentile` column."
   ],
   "metadata": {
    "collapsed": false,
    "pycharm": {
     "name": "#%% md\n"
    }
   }
  },
  {
   "cell_type": "code",
   "execution_count": 20,
   "outputs": [
    {
     "data": {
      "text/html": "<div>\n<style scoped>\n    .dataframe tbody tr th:only-of-type {\n        vertical-align: middle;\n    }\n\n    .dataframe tbody tr th {\n        vertical-align: top;\n    }\n\n    .dataframe thead th {\n        text-align: right;\n    }\n</style>\n<table border=\"1\" class=\"dataframe\">\n  <thead>\n    <tr style=\"text-align: right;\">\n      <th></th>\n      <th>account_id</th>\n      <th>occurred_at</th>\n      <th>total_amt_usd</th>\n      <th>total_percentile</th>\n    </tr>\n  </thead>\n  <tbody>\n    <tr>\n      <td>0</td>\n      <td>4501</td>\n      <td>2016-07-29 20:06:39</td>\n      <td>974.17</td>\n      <td>5</td>\n    </tr>\n    <tr>\n      <td>1</td>\n      <td>4501</td>\n      <td>2016-10-24 08:50:37</td>\n      <td>1122.55</td>\n      <td>6</td>\n    </tr>\n    <tr>\n      <td>2</td>\n      <td>4501</td>\n      <td>2016-08-27 00:48:17</td>\n      <td>1175.47</td>\n      <td>7</td>\n    </tr>\n    <tr>\n      <td>3</td>\n      <td>4501</td>\n      <td>2016-09-25 01:44:03</td>\n      <td>1324.34</td>\n      <td>8</td>\n    </tr>\n    <tr>\n      <td>4</td>\n      <td>4501</td>\n      <td>2016-08-27 00:58:11</td>\n      <td>1449.74</td>\n      <td>9</td>\n    </tr>\n    <tr>\n      <td>...</td>\n      <td>...</td>\n      <td>...</td>\n      <td>...</td>\n      <td>...</td>\n    </tr>\n    <tr>\n      <td>6907</td>\n      <td>1001</td>\n      <td>2016-07-30 03:21:57</td>\n      <td>8286.99</td>\n      <td>18</td>\n    </tr>\n    <tr>\n      <td>6908</td>\n      <td>1001</td>\n      <td>2016-11-25 23:19:37</td>\n      <td>7924.46</td>\n      <td>17</td>\n    </tr>\n    <tr>\n      <td>6909</td>\n      <td>1001</td>\n      <td>2016-05-01 15:55:51</td>\n      <td>2052.20</td>\n      <td>16</td>\n    </tr>\n    <tr>\n      <td>6910</td>\n      <td>1001</td>\n      <td>2016-10-26 20:31:30</td>\n      <td>1993.58</td>\n      <td>15</td>\n    </tr>\n    <tr>\n      <td>6911</td>\n      <td>1001</td>\n      <td>2016-12-24 05:53:13</td>\n      <td>1719.28</td>\n      <td>14</td>\n    </tr>\n  </tbody>\n</table>\n<p>6912 rows × 4 columns</p>\n</div>",
      "text/plain": "      account_id         occurred_at  total_amt_usd  total_percentile\n0           4501 2016-07-29 20:06:39         974.17                 5\n1           4501 2016-10-24 08:50:37        1122.55                 6\n2           4501 2016-08-27 00:48:17        1175.47                 7\n3           4501 2016-09-25 01:44:03        1324.34                 8\n4           4501 2016-08-27 00:58:11        1449.74                 9\n...          ...                 ...            ...               ...\n6907        1001 2016-07-30 03:21:57        8286.99                18\n6908        1001 2016-11-25 23:19:37        7924.46                17\n6909        1001 2016-05-01 15:55:51        2052.20                16\n6910        1001 2016-10-26 20:31:30        1993.58                15\n6911        1001 2016-12-24 05:53:13        1719.28                14\n\n[6912 rows x 4 columns]"
     },
     "execution_count": 20,
     "metadata": {},
     "output_type": "execute_result"
    }
   ],
   "source": [
    "q = \"\"\"\n",
    "SELECT\n",
    "       account_id,\n",
    "       occurred_at,\n",
    "       total_amt_usd,\n",
    "       NTILE(100) OVER (PARTITION BY account_id ORDER BY total_amt_usd) AS total_percentile\n",
    "  FROM orders\n",
    " ORDER BY account_id DESC\n",
    "\"\"\"\n",
    "\n",
    "table = database.to_data_frame(q)\n",
    "table"
   ],
   "metadata": {
    "collapsed": false,
    "pycharm": {
     "name": "#%%\n"
    }
   }
  },
  {
   "cell_type": "code",
   "execution_count": 21,
   "outputs": [],
   "source": [
    "database.close()"
   ],
   "metadata": {
    "collapsed": false,
    "pycharm": {
     "name": "#%%\n"
    }
   }
  }
 ],
 "metadata": {
  "kernelspec": {
   "name": "pycharm-b008ea9c",
   "language": "python",
   "display_name": "PyCharm (portal_da_transparencia_brasil)"
  },
  "language_info": {
   "codemirror_mode": {
    "name": "ipython",
    "version": 2
   },
   "file_extension": ".py",
   "mimetype": "text/x-python",
   "name": "python",
   "nbconvert_exporter": "python",
   "pygments_lexer": "ipython2",
   "version": "2.7.6"
  }
 },
 "nbformat": 4,
 "nbformat_minor": 0
}
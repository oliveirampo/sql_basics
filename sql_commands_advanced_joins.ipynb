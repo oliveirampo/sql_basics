{
 "cells": [
  {
   "cell_type": "markdown",
   "source": [
    "Import MyDataBase class."
   ],
   "metadata": {
    "collapsed": false
   }
  },
  {
   "cell_type": "code",
   "execution_count": 1,
   "outputs": [],
   "source": [
    "from src.database import MyDataBase\n",
    "db_name = \"parch_and_posey\""
   ],
   "metadata": {
    "collapsed": false,
    "pycharm": {
     "name": "#%%\n"
    }
   }
  },
  {
   "cell_type": "markdown",
   "source": [
    "Load database."
   ],
   "metadata": {
    "collapsed": false
   }
  },
  {
   "cell_type": "code",
   "execution_count": 2,
   "outputs": [
    {
     "name": "stdout",
     "output_type": "stream",
     "text": [
      "ISOLATION_LEVEL_AUTOCOMMIT: 0\n",
      "('web_events',)\n",
      "('sales_reps',)\n",
      "('region',)\n",
      "('orders',)\n",
      "('accounts',)\n"
     ]
    }
   ],
   "source": [
    "database = MyDataBase(db_name)\n",
    "database.print_tables_names()"
   ],
   "metadata": {
    "collapsed": false,
    "pycharm": {
     "name": "#%%\n"
    }
   }
  },
  {
   "cell_type": "markdown",
   "source": [
    "* See each account who has a sales rep and each sales rep that has an account\n",
    "(all of the columns in these returned rows will be full)\n",
    "\n",
    "* but also each account that does not have a sales rep and each sales rep that does not have an account\n",
    "(some of the columns in these returned rows will be empty)"
   ],
   "metadata": {
    "collapsed": false,
    "pycharm": {
     "name": "#%% md\n"
    }
   }
  },
  {
   "cell_type": "code",
   "execution_count": 3,
   "outputs": [
    {
     "data": {
      "text/html": "<div>\n<style scoped>\n    .dataframe tbody tr th:only-of-type {\n        vertical-align: middle;\n    }\n\n    .dataframe tbody tr th {\n        vertical-align: top;\n    }\n\n    .dataframe thead th {\n        text-align: right;\n    }\n</style>\n<table border=\"1\" class=\"dataframe\">\n  <thead>\n    <tr style=\"text-align: right;\">\n      <th></th>\n      <th>id</th>\n      <th>a_id</th>\n      <th>s_id</th>\n    </tr>\n  </thead>\n  <tbody>\n    <tr>\n      <td>0</td>\n      <td>1691</td>\n      <td>321500</td>\n      <td>321500</td>\n    </tr>\n    <tr>\n      <td>1</td>\n      <td>1661</td>\n      <td>321500</td>\n      <td>321500</td>\n    </tr>\n    <tr>\n      <td>2</td>\n      <td>1631</td>\n      <td>321500</td>\n      <td>321500</td>\n    </tr>\n    <tr>\n      <td>3</td>\n      <td>1421</td>\n      <td>321500</td>\n      <td>321500</td>\n    </tr>\n    <tr>\n      <td>4</td>\n      <td>1211</td>\n      <td>321500</td>\n      <td>321500</td>\n    </tr>\n    <tr>\n      <td>...</td>\n      <td>...</td>\n      <td>...</td>\n      <td>...</td>\n    </tr>\n    <tr>\n      <td>346</td>\n      <td>3991</td>\n      <td>321990</td>\n      <td>321990</td>\n    </tr>\n    <tr>\n      <td>347</td>\n      <td>3891</td>\n      <td>321990</td>\n      <td>321990</td>\n    </tr>\n    <tr>\n      <td>348</td>\n      <td>3791</td>\n      <td>321990</td>\n      <td>321990</td>\n    </tr>\n    <tr>\n      <td>349</td>\n      <td>3691</td>\n      <td>321990</td>\n      <td>321990</td>\n    </tr>\n    <tr>\n      <td>350</td>\n      <td>3591</td>\n      <td>321990</td>\n      <td>321990</td>\n    </tr>\n  </tbody>\n</table>\n<p>351 rows × 3 columns</p>\n</div>",
      "text/plain": "       id    a_id    s_id\n0    1691  321500  321500\n1    1661  321500  321500\n2    1631  321500  321500\n3    1421  321500  321500\n4    1211  321500  321500\n..    ...     ...     ...\n346  3991  321990  321990\n347  3891  321990  321990\n348  3791  321990  321990\n349  3691  321990  321990\n350  3591  321990  321990\n\n[351 rows x 3 columns]"
     },
     "execution_count": 3,
     "metadata": {},
     "output_type": "execute_result"
    }
   ],
   "source": [
    "q = \"\"\"\n",
    "SELECT accounts.id,\n",
    "\t   accounts.sales_rep_id AS a_id,\n",
    "       sales_reps.id AS s_id\n",
    "FROM accounts\n",
    "FULL OUTER JOIN sales_reps ON accounts.sales_rep_id = sales_reps.id;\n",
    "\"\"\"\n",
    "\n",
    "table = database.to_data_frame(q)\n",
    "table"
   ],
   "metadata": {
    "collapsed": false,
    "pycharm": {
     "name": "#%%\n"
    }
   }
  },
  {
   "cell_type": "markdown",
   "source": [
    "### Finding Matched and Unmatched Rows with FULL OUTER JOIN"
   ],
   "metadata": {
    "collapsed": false,
    "pycharm": {
     "name": "#%% md\n"
    }
   }
  },
  {
   "cell_type": "code",
   "execution_count": 4,
   "outputs": [
    {
     "data": {
      "text/html": "<div>\n<style scoped>\n    .dataframe tbody tr th:only-of-type {\n        vertical-align: middle;\n    }\n\n    .dataframe tbody tr th {\n        vertical-align: top;\n    }\n\n    .dataframe thead th {\n        text-align: right;\n    }\n</style>\n<table border=\"1\" class=\"dataframe\">\n  <thead>\n    <tr style=\"text-align: right;\">\n      <th></th>\n      <th>id</th>\n      <th>name</th>\n      <th>website</th>\n      <th>lat</th>\n      <th>long</th>\n      <th>primary_poc</th>\n      <th>sales_rep_id</th>\n      <th>id</th>\n      <th>name</th>\n      <th>region_id</th>\n    </tr>\n  </thead>\n  <tbody>\n  </tbody>\n</table>\n</div>",
      "text/plain": "Empty DataFrame\nColumns: [id, name, website, lat, long, primary_poc, sales_rep_id, id, name, region_id]\nIndex: []"
     },
     "execution_count": 4,
     "metadata": {},
     "output_type": "execute_result"
    }
   ],
   "source": [
    "q = \"\"\"\n",
    "SELECT *\n",
    "  FROM accounts\n",
    " FULL JOIN sales_reps ON accounts.sales_rep_id = sales_reps.id\n",
    " WHERE accounts.sales_rep_id IS NULL OR sales_reps.id IS NULL\n",
    "\"\"\"\n",
    "\n",
    "table = database.to_data_frame(q)\n",
    "table"
   ],
   "metadata": {
    "collapsed": false,
    "pycharm": {
     "name": "#%%\n"
    }
   }
  },
  {
   "cell_type": "markdown",
   "source": [
    "### Inequality JOINs"
   ],
   "metadata": {
    "collapsed": false,
    "pycharm": {
     "name": "#%% md\n"
    }
   }
  },
  {
   "cell_type": "code",
   "execution_count": 5,
   "outputs": [
    {
     "data": {
      "text/html": "<div>\n<style scoped>\n    .dataframe tbody tr th:only-of-type {\n        vertical-align: middle;\n    }\n\n    .dataframe tbody tr th {\n        vertical-align: top;\n    }\n\n    .dataframe thead th {\n        text-align: right;\n    }\n</style>\n<table border=\"1\" class=\"dataframe\">\n  <thead>\n    <tr style=\"text-align: right;\">\n      <th></th>\n      <th>order_id</th>\n      <th>order_date</th>\n      <th>id</th>\n      <th>account_id</th>\n      <th>occurred_at</th>\n      <th>channel</th>\n    </tr>\n  </thead>\n  <tbody>\n    <tr>\n      <td>0</td>\n      <td>147</td>\n      <td>2013-12-17 23:02:57</td>\n      <td>153</td>\n      <td>1181</td>\n      <td>2013-12-17 22:46:54</td>\n      <td>direct</td>\n    </tr>\n    <tr>\n      <td>1</td>\n      <td>147</td>\n      <td>2013-12-17 23:02:57</td>\n      <td>4563</td>\n      <td>1181</td>\n      <td>2013-12-17 04:45:29</td>\n      <td>adwords</td>\n    </tr>\n    <tr>\n      <td>2</td>\n      <td>243</td>\n      <td>2013-12-11 20:36:06</td>\n      <td>4677</td>\n      <td>1251</td>\n      <td>2013-12-11 02:43:32</td>\n      <td>organic</td>\n    </tr>\n    <tr>\n      <td>3</td>\n      <td>243</td>\n      <td>2013-12-11 20:36:06</td>\n      <td>250</td>\n      <td>1251</td>\n      <td>2013-12-11 20:17:01</td>\n      <td>direct</td>\n    </tr>\n    <tr>\n      <td>4</td>\n      <td>4457</td>\n      <td>2013-12-11 20:42:09</td>\n      <td>250</td>\n      <td>1251</td>\n      <td>2013-12-11 20:17:01</td>\n      <td>direct</td>\n    </tr>\n    <tr>\n      <td>...</td>\n      <td>...</td>\n      <td>...</td>\n      <td>...</td>\n      <td>...</td>\n      <td>...</td>\n      <td>...</td>\n    </tr>\n    <tr>\n      <td>161</td>\n      <td>4150</td>\n      <td>2013-12-10 16:25:51</td>\n      <td>8871</td>\n      <td>4341</td>\n      <td>2013-12-10 09:26:27</td>\n      <td>organic</td>\n    </tr>\n    <tr>\n      <td>162</td>\n      <td>4150</td>\n      <td>2013-12-10 16:25:51</td>\n      <td>4235</td>\n      <td>4341</td>\n      <td>2013-12-10 16:01:36</td>\n      <td>direct</td>\n    </tr>\n    <tr>\n      <td>163</td>\n      <td>4226</td>\n      <td>2013-12-09 22:19:26</td>\n      <td>4312</td>\n      <td>4451</td>\n      <td>2013-12-09 21:59:11</td>\n      <td>direct</td>\n    </tr>\n    <tr>\n      <td>164</td>\n      <td>4226</td>\n      <td>2013-12-09 22:19:26</td>\n      <td>8966</td>\n      <td>4451</td>\n      <td>2013-12-09 03:23:36</td>\n      <td>banner</td>\n    </tr>\n    <tr>\n      <td>165</td>\n      <td>6896</td>\n      <td>2013-12-08 06:34:23</td>\n      <td>4368</td>\n      <td>4491</td>\n      <td>2013-12-08 06:24:09</td>\n      <td>direct</td>\n    </tr>\n  </tbody>\n</table>\n<p>166 rows × 6 columns</p>\n</div>",
      "text/plain": "     order_id          order_date    id  account_id         occurred_at  \\\n0         147 2013-12-17 23:02:57   153        1181 2013-12-17 22:46:54   \n1         147 2013-12-17 23:02:57  4563        1181 2013-12-17 04:45:29   \n2         243 2013-12-11 20:36:06  4677        1251 2013-12-11 02:43:32   \n3         243 2013-12-11 20:36:06   250        1251 2013-12-11 20:17:01   \n4        4457 2013-12-11 20:42:09   250        1251 2013-12-11 20:17:01   \n..        ...                 ...   ...         ...                 ...   \n161      4150 2013-12-10 16:25:51  8871        4341 2013-12-10 09:26:27   \n162      4150 2013-12-10 16:25:51  4235        4341 2013-12-10 16:01:36   \n163      4226 2013-12-09 22:19:26  4312        4451 2013-12-09 21:59:11   \n164      4226 2013-12-09 22:19:26  8966        4451 2013-12-09 03:23:36   \n165      6896 2013-12-08 06:34:23  4368        4491 2013-12-08 06:24:09   \n\n     channel  \n0     direct  \n1    adwords  \n2    organic  \n3     direct  \n4     direct  \n..       ...  \n161  organic  \n162   direct  \n163   direct  \n164   banner  \n165   direct  \n\n[166 rows x 6 columns]"
     },
     "execution_count": 5,
     "metadata": {},
     "output_type": "execute_result"
    }
   ],
   "source": [
    "q = \"\"\"\n",
    "SELECT orders.id order_id,\n",
    "       orders.occurred_at AS order_date,\n",
    "       events.*\n",
    "    FROM orders\n",
    "    LEFT JOIN web_events events\n",
    "    ON events.account_id = orders.account_id\n",
    "    AND events.occurred_at < orders.occurred_at\n",
    "    WHERE DATE_TRUNC('month', orders.occurred_at) =\n",
    "        (SELECT DATE_TRUNC('month', MIN(orders.occurred_at)) FROM orders)\n",
    "    ORDER BY orders.account_id, orders.occurred_at;\n",
    "\"\"\"\n",
    "\n",
    "table = database.to_data_frame(q)\n",
    "table"
   ],
   "metadata": {
    "collapsed": false,
    "pycharm": {
     "name": "#%%\n"
    }
   }
  },
  {
   "cell_type": "markdown",
   "source": [
    "Write a query that left joins the `accounts` table and the `sales_reps` tables on each sale rep's ID number\n",
    "and joins it using the `<` comparison operator on `accounts.primary_poc` and `sales_reps.name`, like so:"
   ],
   "metadata": {
    "collapsed": false,
    "pycharm": {
     "name": "#%% md\n"
    }
   }
  },
  {
   "cell_type": "raw",
   "source": [
    "\n",
    "accounts.primary_poc < sales_reps.name\n"
   ],
   "metadata": {
    "collapsed": false,
    "pycharm": {
     "name": "#%% raw\n"
    }
   }
  },
  {
   "cell_type": "code",
   "execution_count": 6,
   "outputs": [
    {
     "data": {
      "text/html": "<div>\n<style scoped>\n    .dataframe tbody tr th:only-of-type {\n        vertical-align: middle;\n    }\n\n    .dataframe tbody tr th {\n        vertical-align: top;\n    }\n\n    .dataframe thead th {\n        text-align: right;\n    }\n</style>\n<table border=\"1\" class=\"dataframe\">\n  <thead>\n    <tr style=\"text-align: right;\">\n      <th></th>\n      <th>account_name</th>\n      <th>poc_name</th>\n      <th>sales_rep_name</th>\n    </tr>\n  </thead>\n  <tbody>\n    <tr>\n      <td>0</td>\n      <td>Johnson Controls</td>\n      <td>Cammy Sosnowski</td>\n      <td>Samuel Racine</td>\n    </tr>\n    <tr>\n      <td>1</td>\n      <td>Ingram Micro</td>\n      <td>Chanelle Keach</td>\n      <td>Samuel Racine</td>\n    </tr>\n    <tr>\n      <td>2</td>\n      <td>Freddie Mac</td>\n      <td>Elayne Grunewald</td>\n      <td>Samuel Racine</td>\n    </tr>\n    <tr>\n      <td>3</td>\n      <td>Express Scripts Holding</td>\n      <td>Jewell Likes</td>\n      <td>Samuel Racine</td>\n    </tr>\n    <tr>\n      <td>4</td>\n      <td>Delta Air Lines</td>\n      <td>Enola Thoms</td>\n      <td>Eugena Esser</td>\n    </tr>\n    <tr>\n      <td>...</td>\n      <td>...</td>\n      <td>...</td>\n      <td>...</td>\n    </tr>\n    <tr>\n      <td>346</td>\n      <td>PBF Energy</td>\n      <td>Lavonda Hoyle</td>\n      <td>None</td>\n    </tr>\n    <tr>\n      <td>347</td>\n      <td>Nordstrom</td>\n      <td>Yan Crater</td>\n      <td>None</td>\n    </tr>\n    <tr>\n      <td>348</td>\n      <td>DISH Network</td>\n      <td>Leana Hawker</td>\n      <td>None</td>\n    </tr>\n    <tr>\n      <td>349</td>\n      <td>NGL Energy Partners</td>\n      <td>Staci Alegria</td>\n      <td>None</td>\n    </tr>\n    <tr>\n      <td>350</td>\n      <td>Facebook</td>\n      <td>Jesus Philippi</td>\n      <td>None</td>\n    </tr>\n  </tbody>\n</table>\n<p>351 rows × 3 columns</p>\n</div>",
      "text/plain": "                account_name          poc_name sales_rep_name\n0           Johnson Controls   Cammy Sosnowski  Samuel Racine\n1               Ingram Micro    Chanelle Keach  Samuel Racine\n2                Freddie Mac  Elayne Grunewald  Samuel Racine\n3    Express Scripts Holding      Jewell Likes  Samuel Racine\n4            Delta Air Lines       Enola Thoms   Eugena Esser\n..                       ...               ...            ...\n346               PBF Energy     Lavonda Hoyle           None\n347                Nordstrom        Yan Crater           None\n348             DISH Network      Leana Hawker           None\n349      NGL Energy Partners     Staci Alegria           None\n350                 Facebook    Jesus Philippi           None\n\n[351 rows x 3 columns]"
     },
     "execution_count": 6,
     "metadata": {},
     "output_type": "execute_result"
    }
   ],
   "source": [
    "q = \"\"\"\n",
    "SELECT accounts.name as account_name,\n",
    "       accounts.primary_poc as poc_name,\n",
    "       sales_reps.name as sales_rep_name\n",
    "  FROM accounts\n",
    "  LEFT JOIN sales_reps\n",
    "    ON accounts.sales_rep_id = sales_reps.id\n",
    "   AND accounts.primary_poc < sales_reps.name\n",
    "\"\"\"\n",
    "\n",
    "table = database.to_data_frame(q)\n",
    "table"
   ],
   "metadata": {
    "collapsed": false,
    "pycharm": {
     "name": "#%%\n"
    }
   }
  },
  {
   "cell_type": "markdown",
   "source": [
    "### Self JOINs"
   ],
   "metadata": {
    "collapsed": false,
    "pycharm": {
     "name": "#%% md\n"
    }
   }
  },
  {
   "cell_type": "code",
   "execution_count": 7,
   "outputs": [
    {
     "data": {
      "text/html": "<div>\n<style scoped>\n    .dataframe tbody tr th:only-of-type {\n        vertical-align: middle;\n    }\n\n    .dataframe tbody tr th {\n        vertical-align: top;\n    }\n\n    .dataframe thead th {\n        text-align: right;\n    }\n</style>\n<table border=\"1\" class=\"dataframe\">\n  <thead>\n    <tr style=\"text-align: right;\">\n      <th></th>\n      <th>o1_id</th>\n      <th>o1_account_id</th>\n      <th>o1_occurred_at</th>\n      <th>o2_id</th>\n      <th>o2_account_id</th>\n      <th>o2_occurred_at</th>\n    </tr>\n  </thead>\n  <tbody>\n    <tr>\n      <td>0</td>\n      <td>1</td>\n      <td>1001</td>\n      <td>2015-10-06 17:31:14</td>\n      <td>NaN</td>\n      <td>NaN</td>\n      <td>NaT</td>\n    </tr>\n    <tr>\n      <td>1</td>\n      <td>4307</td>\n      <td>1001</td>\n      <td>2015-11-05 03:25:21</td>\n      <td>2.0</td>\n      <td>1001.0</td>\n      <td>2015-11-05 03:34:33</td>\n    </tr>\n    <tr>\n      <td>2</td>\n      <td>2</td>\n      <td>1001</td>\n      <td>2015-11-05 03:34:33</td>\n      <td>NaN</td>\n      <td>NaN</td>\n      <td>NaT</td>\n    </tr>\n    <tr>\n      <td>3</td>\n      <td>4308</td>\n      <td>1001</td>\n      <td>2015-12-04 04:01:09</td>\n      <td>3.0</td>\n      <td>1001.0</td>\n      <td>2015-12-04 04:21:55</td>\n    </tr>\n    <tr>\n      <td>4</td>\n      <td>3</td>\n      <td>1001</td>\n      <td>2015-12-04 04:21:55</td>\n      <td>NaN</td>\n      <td>NaN</td>\n      <td>NaT</td>\n    </tr>\n    <tr>\n      <td>...</td>\n      <td>...</td>\n      <td>...</td>\n      <td>...</td>\n      <td>...</td>\n      <td>...</td>\n      <td>...</td>\n    </tr>\n    <tr>\n      <td>6907</td>\n      <td>4304</td>\n      <td>4501</td>\n      <td>2016-10-24 08:50:37</td>\n      <td>NaN</td>\n      <td>NaN</td>\n      <td>NaT</td>\n    </tr>\n    <tr>\n      <td>6908</td>\n      <td>6911</td>\n      <td>4501</td>\n      <td>2016-11-22 06:52:22</td>\n      <td>4305.0</td>\n      <td>4501.0</td>\n      <td>2016-11-22 06:57:04</td>\n    </tr>\n    <tr>\n      <td>6909</td>\n      <td>4305</td>\n      <td>4501</td>\n      <td>2016-11-22 06:57:04</td>\n      <td>NaN</td>\n      <td>NaN</td>\n      <td>NaT</td>\n    </tr>\n    <tr>\n      <td>6910</td>\n      <td>6912</td>\n      <td>4501</td>\n      <td>2016-12-21 13:30:42</td>\n      <td>4306.0</td>\n      <td>4501.0</td>\n      <td>2016-12-21 13:43:26</td>\n    </tr>\n    <tr>\n      <td>6911</td>\n      <td>4306</td>\n      <td>4501</td>\n      <td>2016-12-21 13:43:26</td>\n      <td>NaN</td>\n      <td>NaN</td>\n      <td>NaT</td>\n    </tr>\n  </tbody>\n</table>\n<p>6912 rows × 6 columns</p>\n</div>",
      "text/plain": "      o1_id  o1_account_id      o1_occurred_at   o2_id  o2_account_id  \\\n0         1           1001 2015-10-06 17:31:14     NaN            NaN   \n1      4307           1001 2015-11-05 03:25:21     2.0         1001.0   \n2         2           1001 2015-11-05 03:34:33     NaN            NaN   \n3      4308           1001 2015-12-04 04:01:09     3.0         1001.0   \n4         3           1001 2015-12-04 04:21:55     NaN            NaN   \n...     ...            ...                 ...     ...            ...   \n6907   4304           4501 2016-10-24 08:50:37     NaN            NaN   \n6908   6911           4501 2016-11-22 06:52:22  4305.0         4501.0   \n6909   4305           4501 2016-11-22 06:57:04     NaN            NaN   \n6910   6912           4501 2016-12-21 13:30:42  4306.0         4501.0   \n6911   4306           4501 2016-12-21 13:43:26     NaN            NaN   \n\n          o2_occurred_at  \n0                    NaT  \n1    2015-11-05 03:34:33  \n2                    NaT  \n3    2015-12-04 04:21:55  \n4                    NaT  \n...                  ...  \n6907                 NaT  \n6908 2016-11-22 06:57:04  \n6909                 NaT  \n6910 2016-12-21 13:43:26  \n6911                 NaT  \n\n[6912 rows x 6 columns]"
     },
     "execution_count": 7,
     "metadata": {},
     "output_type": "execute_result"
    }
   ],
   "source": [
    "q = \"\"\"\n",
    "SELECT o1.id AS o1_id,\n",
    "       o1.account_id AS o1_account_id,\n",
    "       o1.occurred_at AS o1_occurred_at,\n",
    "       o2.id AS o2_id,\n",
    "       o2.account_id AS o2_account_id,\n",
    "       o2.occurred_at AS o2_occurred_at\n",
    "  FROM orders o1\n",
    " LEFT JOIN orders o2\n",
    "   ON o1.account_id = o2.account_id\n",
    "  AND o2.occurred_at > o1.occurred_at\n",
    "  AND o2.occurred_at <= o1.occurred_at + INTERVAL '28 days'\n",
    "ORDER BY o1.account_id, o1.occurred_at\n",
    "\"\"\"\n",
    "\n",
    "table = database.to_data_frame(q)\n",
    "table"
   ],
   "metadata": {
    "collapsed": false,
    "pycharm": {
     "name": "#%%\n"
    }
   }
  },
  {
   "cell_type": "markdown",
   "source": [
    "* change the interval to 1 day to find those web events that occurred after, but not more than 1 day after,\n",
    "another web event\n",
    "\n",
    "* add a column for the channel variable in both instances of the table in your query"
   ],
   "metadata": {
    "collapsed": false,
    "pycharm": {
     "name": "#%% md\n"
    }
   }
  },
  {
   "cell_type": "code",
   "execution_count": 8,
   "outputs": [
    {
     "data": {
      "text/html": "<div>\n<style scoped>\n    .dataframe tbody tr th:only-of-type {\n        vertical-align: middle;\n    }\n\n    .dataframe tbody tr th {\n        vertical-align: top;\n    }\n\n    .dataframe thead th {\n        text-align: right;\n    }\n</style>\n<table border=\"1\" class=\"dataframe\">\n  <thead>\n    <tr style=\"text-align: right;\">\n      <th></th>\n      <th>we_id</th>\n      <th>we1_account_id</th>\n      <th>we1_occurred_at</th>\n      <th>we1_channel</th>\n      <th>we2_id</th>\n      <th>we2_account_id</th>\n      <th>we2_occurred_at</th>\n      <th>we2_channel</th>\n    </tr>\n  </thead>\n  <tbody>\n    <tr>\n      <td>0</td>\n      <td>1</td>\n      <td>1001</td>\n      <td>2015-10-06 17:13:58</td>\n      <td>direct</td>\n      <td>4394.0</td>\n      <td>1001.0</td>\n      <td>2015-10-06 04:22:11</td>\n      <td>facebook</td>\n    </tr>\n    <tr>\n      <td>1</td>\n      <td>4396</td>\n      <td>1001</td>\n      <td>2015-10-22 14:04:20</td>\n      <td>adwords</td>\n      <td>4395.0</td>\n      <td>1001.0</td>\n      <td>2015-10-22 05:02:47</td>\n      <td>organic</td>\n    </tr>\n    <tr>\n      <td>2</td>\n      <td>4397</td>\n      <td>1001</td>\n      <td>2015-11-05 17:18:54</td>\n      <td>direct</td>\n      <td>2.0</td>\n      <td>1001.0</td>\n      <td>2015-11-05 03:08:26</td>\n      <td>direct</td>\n    </tr>\n    <tr>\n      <td>3</td>\n      <td>4</td>\n      <td>1001</td>\n      <td>2016-01-02 00:55:03</td>\n      <td>direct</td>\n      <td>4399.0</td>\n      <td>1001.0</td>\n      <td>2016-01-01 15:45:54</td>\n      <td>adwords</td>\n    </tr>\n    <tr>\n      <td>4</td>\n      <td>8</td>\n      <td>1001</td>\n      <td>2016-05-01 15:26:44</td>\n      <td>direct</td>\n      <td>4406.0</td>\n      <td>1001.0</td>\n      <td>2016-05-01 14:26:40</td>\n      <td>direct</td>\n    </tr>\n    <tr>\n      <td>...</td>\n      <td>...</td>\n      <td>...</td>\n      <td>...</td>\n      <td>...</td>\n      <td>...</td>\n      <td>...</td>\n      <td>...</td>\n      <td>...</td>\n    </tr>\n    <tr>\n      <td>9143</td>\n      <td>4393</td>\n      <td>4501</td>\n      <td>2016-12-21 13:14:30</td>\n      <td>direct</td>\n      <td>NaN</td>\n      <td>NaN</td>\n      <td>NaT</td>\n      <td>None</td>\n    </tr>\n    <tr>\n      <td>9144</td>\n      <td>9073</td>\n      <td>4501</td>\n      <td>2016-05-30 00:46:53</td>\n      <td>organic</td>\n      <td>NaN</td>\n      <td>NaN</td>\n      <td>NaT</td>\n      <td>None</td>\n    </tr>\n    <tr>\n      <td>9145</td>\n      <td>4392</td>\n      <td>4501</td>\n      <td>2016-11-22 06:50:40</td>\n      <td>direct</td>\n      <td>NaN</td>\n      <td>NaN</td>\n      <td>NaT</td>\n      <td>None</td>\n    </tr>\n    <tr>\n      <td>9146</td>\n      <td>4390</td>\n      <td>4501</td>\n      <td>2016-09-25 01:29:32</td>\n      <td>direct</td>\n      <td>NaN</td>\n      <td>NaN</td>\n      <td>NaT</td>\n      <td>None</td>\n    </tr>\n    <tr>\n      <td>9147</td>\n      <td>4389</td>\n      <td>4501</td>\n      <td>2016-08-27 00:28:27</td>\n      <td>direct</td>\n      <td>NaN</td>\n      <td>NaN</td>\n      <td>NaT</td>\n      <td>None</td>\n    </tr>\n  </tbody>\n</table>\n<p>9148 rows × 8 columns</p>\n</div>",
      "text/plain": "      we_id  we1_account_id     we1_occurred_at we1_channel  we2_id  \\\n0         1            1001 2015-10-06 17:13:58      direct  4394.0   \n1      4396            1001 2015-10-22 14:04:20     adwords  4395.0   \n2      4397            1001 2015-11-05 17:18:54      direct     2.0   \n3         4            1001 2016-01-02 00:55:03      direct  4399.0   \n4         8            1001 2016-05-01 15:26:44      direct  4406.0   \n...     ...             ...                 ...         ...     ...   \n9143   4393            4501 2016-12-21 13:14:30      direct     NaN   \n9144   9073            4501 2016-05-30 00:46:53     organic     NaN   \n9145   4392            4501 2016-11-22 06:50:40      direct     NaN   \n9146   4390            4501 2016-09-25 01:29:32      direct     NaN   \n9147   4389            4501 2016-08-27 00:28:27      direct     NaN   \n\n      we2_account_id     we2_occurred_at we2_channel  \n0             1001.0 2015-10-06 04:22:11    facebook  \n1             1001.0 2015-10-22 05:02:47     organic  \n2             1001.0 2015-11-05 03:08:26      direct  \n3             1001.0 2016-01-01 15:45:54     adwords  \n4             1001.0 2016-05-01 14:26:40      direct  \n...              ...                 ...         ...  \n9143             NaN                 NaT        None  \n9144             NaN                 NaT        None  \n9145             NaN                 NaT        None  \n9146             NaN                 NaT        None  \n9147             NaN                 NaT        None  \n\n[9148 rows x 8 columns]"
     },
     "execution_count": 8,
     "metadata": {},
     "output_type": "execute_result"
    }
   ],
   "source": [
    "q = \"\"\"\n",
    "SELECT we1.id AS we_id,\n",
    "       we1.account_id AS we1_account_id,\n",
    "       we1.occurred_at AS we1_occurred_at,\n",
    "       we1.channel AS we1_channel,\n",
    "       we2.id AS we2_id,\n",
    "       we2.account_id AS we2_account_id,\n",
    "       we2.occurred_at AS we2_occurred_at,\n",
    "       we2.channel AS we2_channel\n",
    "  FROM web_events we1\n",
    " LEFT JOIN web_events we2\n",
    "   ON we1.account_id = we2.account_id\n",
    "  AND we1.occurred_at > we2.occurred_at\n",
    "  AND we1.occurred_at <= we2.occurred_at + INTERVAL '1 day'\n",
    "ORDER BY we1.account_id, we2.occurred_at\n",
    "\"\"\"\n",
    "\n",
    "table = database.to_data_frame(q)\n",
    "table\n"
   ],
   "metadata": {
    "collapsed": false,
    "pycharm": {
     "name": "#%%\n"
    }
   }
  },
  {
   "cell_type": "markdown",
   "source": [
    "### Appending Data via ***UNION***\n",
    "\n",
    "* ***UNION*** removes duplicate rows.\n",
    "* ***UNION ALL*** does not remove duplicate rows.\n",
    "\n",
    "* Both tables must have the same number of columns.\n",
    "* Those columns must have the same data types in the same order as the first table.\n",
    "\n",
    "A common misconception is that column names have to be the same.\n",
    "Column names, in fact, ***don't*** need to be the same to append two tables\n",
    "but you will find that they typically are.\n"
   ],
   "metadata": {
    "collapsed": false,
    "pycharm": {
     "name": "#%% md\n"
    }
   }
  },
  {
   "cell_type": "markdown",
   "source": [
    "Write a query that uses ***UNION ALL*** on two instances (and selecting all columns) of the `accounts` table."
   ],
   "metadata": {
    "collapsed": false,
    "pycharm": {
     "name": "#%% md\n"
    }
   }
  },
  {
   "cell_type": "code",
   "execution_count": 9,
   "outputs": [
    {
     "data": {
      "text/html": "<div>\n<style scoped>\n    .dataframe tbody tr th:only-of-type {\n        vertical-align: middle;\n    }\n\n    .dataframe tbody tr th {\n        vertical-align: top;\n    }\n\n    .dataframe thead th {\n        text-align: right;\n    }\n</style>\n<table border=\"1\" class=\"dataframe\">\n  <thead>\n    <tr style=\"text-align: right;\">\n      <th></th>\n      <th>id</th>\n      <th>name</th>\n      <th>website</th>\n      <th>lat</th>\n      <th>long</th>\n      <th>primary_poc</th>\n      <th>sales_rep_id</th>\n    </tr>\n  </thead>\n  <tbody>\n    <tr>\n      <td>0</td>\n      <td>1001</td>\n      <td>Walmart</td>\n      <td>www.walmart.com</td>\n      <td>40.238496</td>\n      <td>-75.103297</td>\n      <td>Tamara Tuma</td>\n      <td>321500</td>\n    </tr>\n    <tr>\n      <td>1</td>\n      <td>1521</td>\n      <td>Disney</td>\n      <td>www.disney.com</td>\n      <td>41.878800</td>\n      <td>-74.811026</td>\n      <td>Timika Mistretta</td>\n      <td>321600</td>\n    </tr>\n  </tbody>\n</table>\n</div>",
      "text/plain": "     id     name          website        lat       long       primary_poc  \\\n0  1001  Walmart  www.walmart.com  40.238496 -75.103297       Tamara Tuma   \n1  1521   Disney   www.disney.com  41.878800 -74.811026  Timika Mistretta   \n\n   sales_rep_id  \n0        321500  \n1        321600  "
     },
     "execution_count": 9,
     "metadata": {},
     "output_type": "execute_result"
    }
   ],
   "source": [
    "q = \"\"\"\n",
    "SELECT *\n",
    "FROM accounts\n",
    "WHERE name = 'Walmart'\n",
    "\n",
    "UNION ALL\n",
    "\n",
    "SELECT *\n",
    "FROM accounts\n",
    "WHERE name = 'Disney'\n",
    "\"\"\"\n",
    "\n",
    "table = database.to_data_frame(q)\n",
    "table\n"
   ],
   "metadata": {
    "collapsed": false,
    "pycharm": {
     "name": "#%%\n"
    }
   }
  },
  {
   "cell_type": "markdown",
   "source": [
    "Or alternatively:"
   ],
   "metadata": {
    "collapsed": false,
    "pycharm": {
     "name": "#%% md\n"
    }
   }
  },
  {
   "cell_type": "code",
   "execution_count": 10,
   "outputs": [
    {
     "data": {
      "text/html": "<div>\n<style scoped>\n    .dataframe tbody tr th:only-of-type {\n        vertical-align: middle;\n    }\n\n    .dataframe tbody tr th {\n        vertical-align: top;\n    }\n\n    .dataframe thead th {\n        text-align: right;\n    }\n</style>\n<table border=\"1\" class=\"dataframe\">\n  <thead>\n    <tr style=\"text-align: right;\">\n      <th></th>\n      <th>id</th>\n      <th>name</th>\n      <th>website</th>\n      <th>lat</th>\n      <th>long</th>\n      <th>primary_poc</th>\n      <th>sales_rep_id</th>\n    </tr>\n  </thead>\n  <tbody>\n    <tr>\n      <td>0</td>\n      <td>1001</td>\n      <td>Walmart</td>\n      <td>www.walmart.com</td>\n      <td>40.238496</td>\n      <td>-75.103297</td>\n      <td>Tamara Tuma</td>\n      <td>321500</td>\n    </tr>\n    <tr>\n      <td>1</td>\n      <td>1521</td>\n      <td>Disney</td>\n      <td>www.disney.com</td>\n      <td>41.878800</td>\n      <td>-74.811026</td>\n      <td>Timika Mistretta</td>\n      <td>321600</td>\n    </tr>\n  </tbody>\n</table>\n</div>",
      "text/plain": "     id     name          website        lat       long       primary_poc  \\\n0  1001  Walmart  www.walmart.com  40.238496 -75.103297       Tamara Tuma   \n1  1521   Disney   www.disney.com  41.878800 -74.811026  Timika Mistretta   \n\n   sales_rep_id  \n0        321500  \n1        321600  "
     },
     "execution_count": 10,
     "metadata": {},
     "output_type": "execute_result"
    }
   ],
   "source": [
    "q = \"\"\"\n",
    "SELECT *\n",
    "FROM accounts\n",
    "WHERE name = 'Walmart' OR name = 'Disney'\n",
    "\"\"\"\n",
    "\n",
    "table = database.to_data_frame(q)\n",
    "table"
   ],
   "metadata": {
    "collapsed": false,
    "pycharm": {
     "name": "#%%\n"
    }
   }
  },
  {
   "cell_type": "markdown",
   "source": [
    "Perform the union in your first query (under the Appending Data via UNION header)\n",
    "in a common table expression and name it `double_accounts`.\n",
    "Then do a ***COUNT*** the number of times a name appears in the `double_accounts` table.\n",
    "If you do this correctly, your query results should have a count of 2 for each name."
   ],
   "metadata": {
    "collapsed": false,
    "pycharm": {
     "name": "#%% md\n"
    }
   }
  },
  {
   "cell_type": "code",
   "execution_count": 11,
   "outputs": [
    {
     "data": {
      "text/html": "<div>\n<style scoped>\n    .dataframe tbody tr th:only-of-type {\n        vertical-align: middle;\n    }\n\n    .dataframe tbody tr th {\n        vertical-align: top;\n    }\n\n    .dataframe thead th {\n        text-align: right;\n    }\n</style>\n<table border=\"1\" class=\"dataframe\">\n  <thead>\n    <tr style=\"text-align: right;\">\n      <th></th>\n      <th>name</th>\n      <th>name_count</th>\n    </tr>\n  </thead>\n  <tbody>\n    <tr>\n      <td>0</td>\n      <td>Boeing</td>\n      <td>2</td>\n    </tr>\n    <tr>\n      <td>1</td>\n      <td>Western Digital</td>\n      <td>2</td>\n    </tr>\n    <tr>\n      <td>2</td>\n      <td>Sysco</td>\n      <td>2</td>\n    </tr>\n    <tr>\n      <td>3</td>\n      <td>Southern</td>\n      <td>2</td>\n    </tr>\n    <tr>\n      <td>4</td>\n      <td>Altria Group</td>\n      <td>2</td>\n    </tr>\n    <tr>\n      <td>...</td>\n      <td>...</td>\n      <td>...</td>\n    </tr>\n    <tr>\n      <td>346</td>\n      <td>AIG</td>\n      <td>2</td>\n    </tr>\n    <tr>\n      <td>347</td>\n      <td>Norfolk Southern</td>\n      <td>2</td>\n    </tr>\n    <tr>\n      <td>348</td>\n      <td>KKR</td>\n      <td>2</td>\n    </tr>\n    <tr>\n      <td>349</td>\n      <td>SpartanNash</td>\n      <td>2</td>\n    </tr>\n    <tr>\n      <td>350</td>\n      <td>Farmers Insurance Exchange</td>\n      <td>2</td>\n    </tr>\n  </tbody>\n</table>\n<p>351 rows × 2 columns</p>\n</div>",
      "text/plain": "                           name  name_count\n0                        Boeing           2\n1               Western Digital           2\n2                         Sysco           2\n3                      Southern           2\n4                  Altria Group           2\n..                          ...         ...\n346                         AIG           2\n347            Norfolk Southern           2\n348                         KKR           2\n349                 SpartanNash           2\n350  Farmers Insurance Exchange           2\n\n[351 rows x 2 columns]"
     },
     "execution_count": 11,
     "metadata": {},
     "output_type": "execute_result"
    }
   ],
   "source": [
    "q = \"\"\"\n",
    "WITH double_accounts AS (\n",
    "    SELECT *\n",
    "      FROM accounts\n",
    "\n",
    "    UNION ALL\n",
    "\n",
    "    SELECT *\n",
    "      FROM accounts\n",
    ")\n",
    "\n",
    "SELECT name,\n",
    "       COUNT(*) AS name_count\n",
    " FROM double_accounts\n",
    "GROUP BY 1\n",
    "ORDER BY 2 DESC\n",
    "\"\"\"\n",
    "\n",
    "table = database.to_data_frame(q)\n",
    "table"
   ],
   "metadata": {
    "collapsed": false,
    "pycharm": {
     "name": "#%%\n"
    }
   }
  },
  {
   "cell_type": "markdown",
   "source": [
    "### Performance Tuning\n",
    "\n",
    "One way to make a query run faster is to reduce the number of calculations that need to be performed.\n",
    "Some of the high-level things that will affect the number of calculations a given query will make include:\n",
    "\n",
    "* Table size\n",
    "* Joins\n",
    "* Aggregations\n",
    "\n",
    "Query runtime is also dependent on some things that you can’t really control related to the database itself:\n",
    "\n",
    "* Other users running queries concurrently on the database\n",
    "* Database software and optimization (e.g., Postgres is optimized differently than Redshift)"
   ],
   "metadata": {
    "collapsed": false,
    "pycharm": {
     "name": "#%% md\n"
    }
   }
  },
  {
   "cell_type": "code",
   "execution_count": 12,
   "outputs": [
    {
     "data": {
      "text/html": "<div>\n<style scoped>\n    .dataframe tbody tr th:only-of-type {\n        vertical-align: middle;\n    }\n\n    .dataframe tbody tr th {\n        vertical-align: top;\n    }\n\n    .dataframe thead th {\n        text-align: right;\n    }\n</style>\n<table border=\"1\" class=\"dataframe\">\n  <thead>\n    <tr style=\"text-align: right;\">\n      <th></th>\n      <th>QUERY PLAN</th>\n    </tr>\n  </thead>\n  <tbody>\n    <tr>\n      <td>0</td>\n      <td>Seq Scan on web_events  (cost=0.00..195.09 row...</td>\n    </tr>\n    <tr>\n      <td>1</td>\n      <td>Filter: ((occurred_at &gt;= '2015-01-01 00:00:0...</td>\n    </tr>\n  </tbody>\n</table>\n</div>",
      "text/plain": "                                          QUERY PLAN\n0  Seq Scan on web_events  (cost=0.00..195.09 row...\n1    Filter: ((occurred_at >= '2015-01-01 00:00:0..."
     },
     "execution_count": 12,
     "metadata": {},
     "output_type": "execute_result"
    }
   ],
   "source": [
    "q = \"\"\"\n",
    "EXPLAIN\n",
    "SELECT *\n",
    "    FROM web_events\n",
    "    WHERE occurred_at >= '2015-01-01'\n",
    "    AND occurred_at < '2016-02-01'\n",
    "\"\"\"\n",
    "\n",
    "table = database.to_data_frame(q)\n",
    "table"
   ],
   "metadata": {
    "collapsed": false,
    "pycharm": {
     "name": "#%%\n"
    }
   }
  },
  {
   "cell_type": "code",
   "execution_count": 13,
   "outputs": [
    {
     "data": {
      "text/html": "<div>\n<style scoped>\n    .dataframe tbody tr th:only-of-type {\n        vertical-align: middle;\n    }\n\n    .dataframe tbody tr th {\n        vertical-align: top;\n    }\n\n    .dataframe thead th {\n        text-align: right;\n    }\n</style>\n<table border=\"1\" class=\"dataframe\">\n  <thead>\n    <tr style=\"text-align: right;\">\n      <th></th>\n      <th>day</th>\n      <th>active_sales_reps</th>\n      <th>orders</th>\n      <th>web_visits</th>\n    </tr>\n  </thead>\n  <tbody>\n    <tr>\n      <td>0</td>\n      <td>2017-01-01</td>\n      <td>13</td>\n      <td>24</td>\n      <td>31</td>\n    </tr>\n    <tr>\n      <td>1</td>\n      <td>2016-12-31</td>\n      <td>15</td>\n      <td>26</td>\n      <td>27</td>\n    </tr>\n    <tr>\n      <td>2</td>\n      <td>2016-12-30</td>\n      <td>7</td>\n      <td>11</td>\n      <td>18</td>\n    </tr>\n    <tr>\n      <td>3</td>\n      <td>2016-12-29</td>\n      <td>7</td>\n      <td>11</td>\n      <td>19</td>\n    </tr>\n    <tr>\n      <td>4</td>\n      <td>2016-12-28</td>\n      <td>12</td>\n      <td>22</td>\n      <td>31</td>\n    </tr>\n    <tr>\n      <td>...</td>\n      <td>...</td>\n      <td>...</td>\n      <td>...</td>\n      <td>...</td>\n    </tr>\n    <tr>\n      <td>1054</td>\n      <td>2013-12-09</td>\n      <td>2</td>\n      <td>3</td>\n      <td>5</td>\n    </tr>\n    <tr>\n      <td>1055</td>\n      <td>2013-12-08</td>\n      <td>5</td>\n      <td>8</td>\n      <td>10</td>\n    </tr>\n    <tr>\n      <td>1056</td>\n      <td>2013-12-06</td>\n      <td>4</td>\n      <td>7</td>\n      <td>9</td>\n    </tr>\n    <tr>\n      <td>1057</td>\n      <td>2013-12-05</td>\n      <td>1</td>\n      <td>2</td>\n      <td>2</td>\n    </tr>\n    <tr>\n      <td>1058</td>\n      <td>2013-12-04</td>\n      <td>2</td>\n      <td>3</td>\n      <td>4</td>\n    </tr>\n  </tbody>\n</table>\n<p>1059 rows × 4 columns</p>\n</div>",
      "text/plain": "            day  active_sales_reps  orders  web_visits\n0    2017-01-01                 13      24          31\n1    2016-12-31                 15      26          27\n2    2016-12-30                  7      11          18\n3    2016-12-29                  7      11          19\n4    2016-12-28                 12      22          31\n...         ...                ...     ...         ...\n1054 2013-12-09                  2       3           5\n1055 2013-12-08                  5       8          10\n1056 2013-12-06                  4       7           9\n1057 2013-12-05                  1       2           2\n1058 2013-12-04                  2       3           4\n\n[1059 rows x 4 columns]"
     },
     "execution_count": 13,
     "metadata": {},
     "output_type": "execute_result"
    }
   ],
   "source": [
    "q = \"\"\"\n",
    "SELECT DATE_TRUNC('day', o.occurred_at) AS day,\n",
    "       COUNT(DISTINCT a.sales_rep_id) AS active_sales_reps,\n",
    "       COUNT(DISTINCT o.id) AS orders,\n",
    "       COUNT(DISTINCT we.id) AS web_visits\n",
    "    FROM accounts a\n",
    "    JOIN orders o\n",
    "    ON o.account_id = a.id\n",
    "    JOIN web_events we\n",
    "    ON DATE_TRUNC('day', we.occurred_at) = DATE_TRUNC('day', o.occurred_at)\n",
    "GROUP BY 1\n",
    "ORDER BY 1 DESC\n",
    "\"\"\"\n",
    "\n",
    "table = database.to_data_frame(q)\n",
    "table"
   ],
   "metadata": {
    "collapsed": false,
    "pycharm": {
     "name": "#%%\n"
    }
   }
  },
  {
   "cell_type": "code",
   "execution_count": 14,
   "outputs": [
    {
     "data": {
      "text/html": "<div>\n<style scoped>\n    .dataframe tbody tr th:only-of-type {\n        vertical-align: middle;\n    }\n\n    .dataframe tbody tr th {\n        vertical-align: top;\n    }\n\n    .dataframe thead th {\n        text-align: right;\n    }\n</style>\n<table border=\"1\" class=\"dataframe\">\n  <thead>\n    <tr style=\"text-align: right;\">\n      <th></th>\n      <th>date</th>\n      <th>active_sales_reps</th>\n      <th>orders</th>\n      <th>web_visits</th>\n    </tr>\n  </thead>\n  <tbody>\n    <tr>\n      <td>0</td>\n      <td>2017-01-02</td>\n      <td>1.0</td>\n      <td>1.0</td>\n      <td>NaN</td>\n    </tr>\n    <tr>\n      <td>1</td>\n      <td>2017-01-01</td>\n      <td>24.0</td>\n      <td>24.0</td>\n      <td>31.0</td>\n    </tr>\n    <tr>\n      <td>2</td>\n      <td>2016-12-31</td>\n      <td>26.0</td>\n      <td>26.0</td>\n      <td>27.0</td>\n    </tr>\n    <tr>\n      <td>3</td>\n      <td>2016-12-30</td>\n      <td>11.0</td>\n      <td>11.0</td>\n      <td>18.0</td>\n    </tr>\n    <tr>\n      <td>4</td>\n      <td>2016-12-29</td>\n      <td>11.0</td>\n      <td>11.0</td>\n      <td>19.0</td>\n    </tr>\n    <tr>\n      <td>...</td>\n      <td>...</td>\n      <td>...</td>\n      <td>...</td>\n      <td>...</td>\n    </tr>\n    <tr>\n      <td>1115</td>\n      <td>2013-12-09</td>\n      <td>3.0</td>\n      <td>3.0</td>\n      <td>5.0</td>\n    </tr>\n    <tr>\n      <td>1116</td>\n      <td>2013-12-08</td>\n      <td>8.0</td>\n      <td>8.0</td>\n      <td>10.0</td>\n    </tr>\n    <tr>\n      <td>1117</td>\n      <td>2013-12-06</td>\n      <td>7.0</td>\n      <td>7.0</td>\n      <td>9.0</td>\n    </tr>\n    <tr>\n      <td>1118</td>\n      <td>2013-12-05</td>\n      <td>2.0</td>\n      <td>2.0</td>\n      <td>2.0</td>\n    </tr>\n    <tr>\n      <td>1119</td>\n      <td>2013-12-04</td>\n      <td>3.0</td>\n      <td>3.0</td>\n      <td>4.0</td>\n    </tr>\n  </tbody>\n</table>\n<p>1120 rows × 4 columns</p>\n</div>",
      "text/plain": "           date  active_sales_reps  orders  web_visits\n0    2017-01-02                1.0     1.0         NaN\n1    2017-01-01               24.0    24.0        31.0\n2    2016-12-31               26.0    26.0        27.0\n3    2016-12-30               11.0    11.0        18.0\n4    2016-12-29               11.0    11.0        19.0\n...         ...                ...     ...         ...\n1115 2013-12-09                3.0     3.0         5.0\n1116 2013-12-08                8.0     8.0        10.0\n1117 2013-12-06                7.0     7.0         9.0\n1118 2013-12-05                2.0     2.0         2.0\n1119 2013-12-04                3.0     3.0         4.0\n\n[1120 rows x 4 columns]"
     },
     "execution_count": 14,
     "metadata": {},
     "output_type": "execute_result"
    }
   ],
   "source": [
    "q = \"\"\"\n",
    "SELECT COALESCE(orders.date, web_events.date) AS date,\n",
    "       orders.active_sales_reps,\n",
    "       orders.orders,\n",
    "       web_events.web_visits\n",
    "    FROM (\n",
    "        SELECT DATE_TRUNC('day', o.occurred_at) AS date,\n",
    "               COUNT(a.sales_rep_id) AS active_sales_reps,\n",
    "               COUNT(o.id) AS orders\n",
    "            FROM accounts a\n",
    "            JOIN orders o\n",
    "            ON o.account_id = a.id\n",
    "        GROUP BY 1\n",
    "        ) orders\n",
    "\n",
    "FULL JOIN\n",
    "\n",
    "(\n",
    "SELECT DATE_TRUNC('day', we.occurred_at) AS date,\n",
    "    COUNT(we.id) AS web_visits\n",
    "    FROM web_events we\n",
    "    GROUP BY 1\n",
    ") web_events\n",
    "\n",
    "    ON web_events.date = orders.date\n",
    "    ORDER BY 1 DESC\n",
    "\"\"\"\n",
    "\n",
    "table = database.to_data_frame(q)\n",
    "table"
   ],
   "metadata": {
    "collapsed": false,
    "pycharm": {
     "name": "#%%\n"
    }
   }
  },
  {
   "cell_type": "code",
   "execution_count": 15,
   "outputs": [],
   "source": [
    "database.close()"
   ],
   "metadata": {
    "collapsed": false,
    "pycharm": {
     "name": "#%%\n"
    }
   }
  }
 ],
 "metadata": {
  "kernelspec": {
   "name": "pycharm-b008ea9c",
   "language": "python",
   "display_name": "PyCharm (portal_da_transparencia_brasil)"
  },
  "language_info": {
   "codemirror_mode": {
    "name": "ipython",
    "version": 2
   },
   "file_extension": ".py",
   "mimetype": "text/x-python",
   "name": "python",
   "nbconvert_exporter": "python",
   "pygments_lexer": "ipython2",
   "version": "2.7.6"
  }
 },
 "nbformat": 4,
 "nbformat_minor": 0
}